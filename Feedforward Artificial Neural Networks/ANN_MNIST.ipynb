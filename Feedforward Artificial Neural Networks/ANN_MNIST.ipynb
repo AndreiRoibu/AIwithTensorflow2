{
  "nbformat": 4,
  "nbformat_minor": 0,
  "metadata": {
    "colab": {
      "name": "ANN_MNIST.ipynb",
      "provenance": [],
      "toc_visible": true
    },
    "kernelspec": {
      "name": "python3",
      "display_name": "Python 3"
    },
    "accelerator": "TPU"
  },
  "cells": [
    {
      "cell_type": "code",
      "metadata": {
        "id": "Kx7mgZhwag1B",
        "colab_type": "code",
        "colab": {
          "base_uri": "https://localhost:8080/",
          "height": 52
        },
        "outputId": "bd80f76e-e0fa-48f5-b311-94a892b76f99"
      },
      "source": [
        "# We first verify the correct version of TF installed\n",
        "# !pip install -q tensorflow-gpu==2.1.0\n",
        "\n",
        "try:\n",
        "  # %tensorflow_version only exists in Colab.\n",
        "  %tensorflow_version 2.x\n",
        "except Exception:\n",
        "  pass\n",
        "\n",
        "import tensorflow as tf\n",
        "print(tf.__version__)\n",
        "import numpy as np\n",
        "import matplotlib.pyplot as plt\n",
        "import pandas as pd"
      ],
      "execution_count": 1,
      "outputs": [
        {
          "output_type": "stream",
          "text": [
            "TensorFlow 2.x selected.\n",
            "2.1.0\n"
          ],
          "name": "stdout"
        }
      ]
    },
    {
      "cell_type": "code",
      "metadata": {
        "id": "kFUzYMvc6jIc",
        "colab_type": "code",
        "colab": {
          "base_uri": "https://localhost:8080/",
          "height": 34
        },
        "outputId": "e3adf772-b033-4c26-b98d-0941b5a91bdb"
      },
      "source": [
        "# Then, we load the data\n",
        "(X_train, y_train), (X_test, y_test) = tf.keras.datasets.mnist.load_data()\n",
        "print(X_train.shape)\n",
        "# Then, we normalize the input data, by scaling them to be between [0,1]\n",
        "X_train, X_test = X_train / 255.0, X_test / 255.0"
      ],
      "execution_count": 2,
      "outputs": [
        {
          "output_type": "stream",
          "text": [
            "(60000, 28, 28)\n"
          ],
          "name": "stdout"
        }
      ]
    },
    {
      "cell_type": "code",
      "metadata": {
        "id": "wdpQr40e67mA",
        "colab_type": "code",
        "colab": {}
      },
      "source": [
        "# This is where we build the model\n",
        "# The first layer flattens the data from Nx28x28 to Nx784\n",
        "# Then we have a dense layer of size 128 with a Relu activation\n",
        "# We add Dropout regularization with a dropout percentage of 20%\n",
        "\n",
        "model = tf.keras.models.Sequential([\n",
        "    tf.keras.layers.Flatten(input_shape = (28, 28)),\n",
        "    tf.keras.layers.Dense(128, activation='relu'),\n",
        "    tf.keras.layers.Dropout(0.2),\n",
        "    tf.keras.layers.Dense(10, activation='softmax')\n",
        "])"
      ],
      "execution_count": 0,
      "outputs": []
    },
    {
      "cell_type": "code",
      "metadata": {
        "id": "xSep7V5r709L",
        "colab_type": "code",
        "colab": {}
      },
      "source": [
        "# Next, we compile the model, with default settings\n",
        "model.compile(\n",
        "    optimizer='adam',\n",
        "    loss = 'sparse_categorical_crossentropy',\n",
        "    metrics=['accuracy']\n",
        ")"
      ],
      "execution_count": 0,
      "outputs": []
    },
    {
      "cell_type": "code",
      "metadata": {
        "id": "9LxNmM1y72De",
        "colab_type": "code",
        "colab": {
          "base_uri": "https://localhost:8080/",
          "height": 295
        },
        "outputId": "ccdb0141-1665-488b-c53d-fbd5e01b63bf"
      },
      "source": [
        "# We print out a summery of our model\n",
        "model.summary()"
      ],
      "execution_count": 5,
      "outputs": [
        {
          "output_type": "stream",
          "text": [
            "Model: \"sequential\"\n",
            "_________________________________________________________________\n",
            "Layer (type)                 Output Shape              Param #   \n",
            "=================================================================\n",
            "flatten (Flatten)            (None, 784)               0         \n",
            "_________________________________________________________________\n",
            "dense (Dense)                (None, 128)               100480    \n",
            "_________________________________________________________________\n",
            "dropout (Dropout)            (None, 128)               0         \n",
            "_________________________________________________________________\n",
            "dense_1 (Dense)              (None, 10)                1290      \n",
            "=================================================================\n",
            "Total params: 101,770\n",
            "Trainable params: 101,770\n",
            "Non-trainable params: 0\n",
            "_________________________________________________________________\n"
          ],
          "name": "stdout"
        }
      ]
    },
    {
      "cell_type": "code",
      "metadata": {
        "id": "13elfnd3KwlQ",
        "colab_type": "code",
        "colab": {
          "base_uri": "https://localhost:8080/",
          "height": 466
        },
        "outputId": "e3329b1d-6346-411e-8a38-851cac330866"
      },
      "source": [
        "tf.keras.utils.plot_model(model, to_file = './drive/My Drive/Tensorflow 2.0 Course/Feedforward Artificial Neural Networks/models/MNIST.png')"
      ],
      "execution_count": 39,
      "outputs": [
        {
          "output_type": "execute_result",
          "data": {
            "image/png": "[encoded data removed]",
            "text/plain": [
              "<IPython.core.display.Image object>"
            ]
          },
          "metadata": {
            "tags": []
          },
          "execution_count": 39
        }
      ]
    },
    {
      "cell_type": "code",
      "metadata": {
        "id": "zu4IBE2Y9DAE",
        "colab_type": "code",
        "colab": {}
      },
      "source": [
        "# We create a ModelCheckpoint function for keeping track of the accuracy\n",
        "import os\n",
        "!pip install -q pyyaml h5py\n",
        "\n",
        "if not os.path.exists('./drive/My Drive/Tensorflow 2.0 Course/Feedforward Artificial Neural Networks/models'):\n",
        "  os.mkdir('./drive/My Drive/Tensorflow 2.0 Course/Feedforward Artificial Neural Networks/models')\n",
        "\n",
        "checkpoint_path = \"./drive/My Drive/Tensorflow 2.0 Course/Feedforward Artificial Neural Networks/models/MNIST.h5\"\n",
        "checkpoint_dir = os.path.dirname(checkpoint_path)\n",
        "\n",
        "ModelCheckpoint = [tf.keras.callbacks.ModelCheckpoint(\n",
        "    # filepath = 'content/drive/My Drive/Tensorflow 2.0 Course/Feedforward Artificial Neural Networks/models/MNIST.cpkt',\n",
        "    filepath = checkpoint_path,\n",
        "    monitor='val_loss',\n",
        "    mode = 'min',\n",
        "    save_best_only = True,\n",
        ")]"
      ],
      "execution_count": 0,
      "outputs": []
    },
    {
      "cell_type": "code",
      "metadata": {
        "id": "fHgaXdM8_O8b",
        "colab_type": "code",
        "colab": {
          "base_uri": "https://localhost:8080/",
          "height": 402
        },
        "outputId": "0ff70e30-c236-42be-91e2-58482545e4df"
      },
      "source": [
        "results = model.fit(\n",
        "    X_train,\n",
        "    y_train,\n",
        "    validation_data=(X_test, y_test),\n",
        "    epochs = 10,\n",
        "    callbacks = ModelCheckpoint,\n",
        ")"
      ],
      "execution_count": 7,
      "outputs": [
        {
          "output_type": "stream",
          "text": [
            "Train on 60000 samples, validate on 10000 samples\n",
            "Epoch 1/10\n",
            "60000/60000 [==============================] - 7s 114us/sample - loss: 0.2951 - accuracy: 0.9140 - val_loss: 0.1400 - val_accuracy: 0.9596\n",
            "Epoch 2/10\n",
            "60000/60000 [==============================] - 6s 93us/sample - loss: 0.1411 - accuracy: 0.9584 - val_loss: 0.1036 - val_accuracy: 0.9680\n",
            "Epoch 3/10\n",
            "60000/60000 [==============================] - 6s 92us/sample - loss: 0.1067 - accuracy: 0.9678 - val_loss: 0.0821 - val_accuracy: 0.9756\n",
            "Epoch 4/10\n",
            "60000/60000 [==============================] - 6s 94us/sample - loss: 0.0869 - accuracy: 0.9729 - val_loss: 0.0755 - val_accuracy: 0.9756\n",
            "Epoch 5/10\n",
            "60000/60000 [==============================] - 6s 94us/sample - loss: 0.0760 - accuracy: 0.9763 - val_loss: 0.0777 - val_accuracy: 0.9759\n",
            "Epoch 6/10\n",
            "60000/60000 [==============================] - 6s 108us/sample - loss: 0.0631 - accuracy: 0.9795 - val_loss: 0.0746 - val_accuracy: 0.9782\n",
            "Epoch 7/10\n",
            "60000/60000 [==============================] - 6s 93us/sample - loss: 0.0591 - accuracy: 0.9806 - val_loss: 0.0677 - val_accuracy: 0.9788\n",
            "Epoch 8/10\n",
            "60000/60000 [==============================] - 6s 93us/sample - loss: 0.0530 - accuracy: 0.9834 - val_loss: 0.0705 - val_accuracy: 0.9787\n",
            "Epoch 9/10\n",
            "60000/60000 [==============================] - 6s 94us/sample - loss: 0.0472 - accuracy: 0.9844 - val_loss: 0.0705 - val_accuracy: 0.9801\n",
            "Epoch 10/10\n",
            "60000/60000 [==============================] - 5s 89us/sample - loss: 0.0447 - accuracy: 0.9855 - val_loss: 0.0690 - val_accuracy: 0.9808\n"
          ],
          "name": "stdout"
        }
      ]
    },
    {
      "cell_type": "code",
      "metadata": {
        "id": "odWy_YEU_bNW",
        "colab_type": "code",
        "colab": {
          "base_uri": "https://localhost:8080/",
          "height": 282
        },
        "outputId": "b9d8cb24-f49e-46ef-cc53-e8cd7fd92088"
      },
      "source": [
        "# Plot the loss per iteration\n",
        "plt.plot(results.history['loss'], label='loss')\n",
        "plt.plot(results.history['val_loss'], label='validation loss')\n",
        "plt.legend()"
      ],
      "execution_count": 8,
      "outputs": [
        {
          "output_type": "execute_result",
          "data": {
            "text/plain": [
              "<matplotlib.legend.Legend at 0x7f0407d5a0b8>"
            ]
          },
          "metadata": {
            "tags": []
          },
          "execution_count": 8
        },
        {
          "output_type": "display_data",
          "data": {
            "image/png": "[encoded data removed]",
            "text/plain": [
              "<Figure size 432x288 with 1 Axes>"
            ]
          },
          "metadata": {
            "tags": []
          }
        }
      ]
    },
    {
      "cell_type": "code",
      "metadata": {
        "id": "2sSqgVy6FsTr",
        "colab_type": "code",
        "colab": {
          "base_uri": "https://localhost:8080/",
          "height": 282
        },
        "outputId": "8e98fb6e-1f00-459e-e89f-2503b41ef7c0"
      },
      "source": [
        "# Plot the accuracy per iteration\n",
        "plt.plot(results.history['accuracy'], label='acc')\n",
        "plt.plot(results.history['val_accuracy'], label='validation accuracy')\n",
        "plt.legend()"
      ],
      "execution_count": 11,
      "outputs": [
        {
          "output_type": "execute_result",
          "data": {
            "text/plain": [
              "<matplotlib.legend.Legend at 0x7f04078cb390>"
            ]
          },
          "metadata": {
            "tags": []
          },
          "execution_count": 11
        },
        {
          "output_type": "display_data",
          "data": {
            "image/png": "[encoded data removed]",
            "text/plain": [
              "<Figure size 432x288 with 1 Axes>"
            ]
          },
          "metadata": {
            "tags": []
          }
        }
      ]
    },
    {
      "cell_type": "code",
      "metadata": {
        "id": "P_fiXwOkG70K",
        "colab_type": "code",
        "colab": {
          "base_uri": "https://localhost:8080/",
          "height": 72
        },
        "outputId": "18f52769-c552-4896-9d60-2e32d26bc237"
      },
      "source": [
        "# Evaluate the model\n",
        "print(model.evaluate(X_test, y_test))"
      ],
      "execution_count": 12,
      "outputs": [
        {
          "output_type": "stream",
          "text": [
            "10000/10000 [==============================] - 0s 46us/sample - loss: 0.0690 - accuracy: 0.9808\n",
            "[0.06896053107618645, 0.9808]\n"
          ],
          "name": "stdout"
        }
      ]
    },
    {
      "cell_type": "code",
      "metadata": {
        "id": "SG-E_7SqG_96",
        "colab_type": "code",
        "colab": {
          "base_uri": "https://localhost:8080/",
          "height": 502
        },
        "outputId": "ca785423-42cd-491b-acc9-d2de475e05f8"
      },
      "source": [
        "# Plot the confusion matrix\n",
        "from sklearn.metrics import confusion_matrix\n",
        "import itertools\n",
        "\n",
        "def plot_confusion_matrix(cm, classes, normalize=False, title='Confusion Matrix', cmap=plt.cm.Blues):\n",
        "    \"\"\" This function prints and plots the confusion matrix. Normalization can be applied\n",
        "    \"\"\"\n",
        "    if normalize:\n",
        "        cm = cm.astype('float') / cm.sum(axis=1)[:, np.newaxis]\n",
        "        print('Normalized confusion matrix!')\n",
        "    else:\n",
        "        print('Confusion matrix withouth normalization!')\n",
        "\n",
        "    print (cm)\n",
        "\n",
        "    plt.imshow(cm, interpolation= 'nearest', cmap=cmap)\n",
        "    plt.title(title)\n",
        "    plt.colorbar()\n",
        "    tick_marks = np.arange(len(classes))\n",
        "    plt.xticks(tick_marks, classes, rotation=45)\n",
        "    plt.yticks(tick_marks, classes)\n",
        "\n",
        "    fmt = '.2f' if normalize else 'd'\n",
        "    threshold = cm.max() / 2.\n",
        "    for i, j in itertools.product(range(cm.shape[0]), range(cm.shape[1])):\n",
        "        plt.text(j, i, format(cm[i, j], fmt), horizontalalignment=\"center\", color=\"white\" if cm[i,j]>threshold else \"black\")\n",
        "    \n",
        "    plt.tight_layout()\n",
        "    plt.ylabel(\"True Lable\")\n",
        "    plt.xlabel(\"Predicted Label\")\n",
        "    plt.show()\n",
        "\n",
        "p_test = model.predict(X_test).argmax(axis=1)\n",
        "cm = confusion_matrix(y_test, p_test)\n",
        "plot_confusion_matrix(cm, list(range(10)))\n"
      ],
      "execution_count": 24,
      "outputs": [
        {
          "output_type": "stream",
          "text": [
            "Confusion matrix withouth normalization!\n",
            "[[ 968    1    1    2    1    0    3    1    3    0]\n",
            " [   0 1122    4    1    0    1    2    1    4    0]\n",
            " [   2    1 1013    5    4    0    2    4    1    0]\n",
            " [   0    0    1  999    0    0    0    4    2    4]\n",
            " [   0    0    3    0  961    0    4    3    0   11]\n",
            " [   2    1    0   18    1  858    2    2    6    2]\n",
            " [   3    3    0    0    1    5  943    0    3    0]\n",
            " [   1    4   10    1    0    0    0 1007    1    4]\n",
            " [   1    1    4    6    3    3    1    3  949    3]\n",
            " [   1    2    0    5    6    2    0    4    1  988]]\n"
          ],
          "name": "stdout"
        },
        {
          "output_type": "display_data",
          "data": {
            "image/png": "[encoded data removed]",
            "text/plain": [
              "<Figure size 432x288 with 2 Axes>"
            ]
          },
          "metadata": {
            "tags": []
          }
        }
      ]
    },
    {
      "cell_type": "code",
      "metadata": {
        "id": "gp6ouyi6JJWz",
        "colab_type": "code",
        "colab": {
          "base_uri": "https://localhost:8080/",
          "height": 298
        },
        "outputId": "6a49092b-6057-479a-a876-1bee3262bef2"
      },
      "source": [
        "# We show some of the misclassified examples\n",
        "misclassified_index = np.where(p_test != y_test)[0]\n",
        "i = np.random.choice(misclassified_index)\n",
        "plt.imshow(X_test[i],cmap='gray')\n",
        "plt.title(\"True label: %s || Predicted: %s\" %(y_test[i], p_test[i]))"
      ],
      "execution_count": 37,
      "outputs": [
        {
          "output_type": "execute_result",
          "data": {
            "text/plain": [
              "Text(0.5, 1.0, 'True label: 2 || Predicted: 1')"
            ]
          },
          "metadata": {
            "tags": []
          },
          "execution_count": 37
        },
        {
          "output_type": "display_data",
          "data": {
            "image/png": "[encoded data removed]",
            "text/plain": [
              "<Figure size 432x288 with 1 Axes>"
            ]
          },
          "metadata": {
            "tags": []
          }
        }
      ]
    },
    {
      "cell_type": "code",
      "metadata": {
        "id": "BvneD4zBKPhe",
        "colab_type": "code",
        "colab": {}
      },
      "source": [
        ""
      ],
      "execution_count": 0,
      "outputs": []
    }
  ]
}