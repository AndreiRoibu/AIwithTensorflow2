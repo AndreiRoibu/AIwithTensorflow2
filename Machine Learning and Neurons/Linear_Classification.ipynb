{
  "nbformat": 4,
  "nbformat_minor": 0,
  "metadata": {
    "colab": {
      "name": "Linear Classification",
      "provenance": [],
      "collapsed_sections": []
    },
    "kernelspec": {
      "name": "python3",
      "display_name": "Python 3"
    },
    "accelerator": "GPU"
  },
  "cells": [
    {
      "cell_type": "markdown",
      "metadata": {
        "id": "Z-rpd6G83DIJ",
        "colab_type": "text"
      },
      "source": [
        "# Part 1 - Model Training\n",
        "\n",
        "This code looks at creating a linear classification algorithm, assessing if a tumor is malignent or benign. "
      ]
    },
    {
      "cell_type": "code",
      "metadata": {
        "id": "UBi-9FEL3gCo",
        "colab_type": "code",
        "outputId": "868c2dc1-334f-4d85-d166-827af3e9d24e",
        "colab": {
          "base_uri": "https://localhost:8080/",
          "height": 34
        }
      },
      "source": [
        "# We first verify the correct version of TF installed\n",
        "# !pip install -q tensorflow-gpu==2.1.0\n",
        "\n",
        "try:\n",
        "  # %tensorflow_version only exists in Colab.\n",
        "  %tensorflow_version 2.x\n",
        "except Exception:\n",
        "  pass\n",
        "\n",
        "import tensorflow as tf\n",
        "print(tf.__version__)\n",
        "from sklearn.datasets import load_breast_cancer\n",
        "from sklearn.model_selection import train_test_split\n",
        "from sklearn.preprocessing import StandardScaler\n",
        "import matplotlib.pyplot as plt\n",
        "import numpy as np"
      ],
      "execution_count": 18,
      "outputs": [
        {
          "output_type": "stream",
          "text": [
            "2.1.0\n"
          ],
          "name": "stdout"
        }
      ]
    },
    {
      "cell_type": "code",
      "metadata": {
        "id": "hNMNxcfr3oIB",
        "colab_type": "code",
        "outputId": "ba97433b-625f-475a-aed2-c44b3c6d5512",
        "colab": {
          "base_uri": "https://localhost:8080/",
          "height": 34
        }
      },
      "source": [
        "# Next, we load the data\n",
        "data = load_breast_cancer()\n",
        "print(\"Data Type:\", type(data))\n",
        "# The data is a Bunch objsect, meaning it is a dictionary, where the keys can be treated as atribus"
      ],
      "execution_count": 2,
      "outputs": [
        {
          "output_type": "stream",
          "text": [
            "Data Type: <class 'sklearn.utils.Bunch'>\n"
          ],
          "name": "stdout"
        }
      ]
    },
    {
      "cell_type": "code",
      "metadata": {
        "id": "rWwoF4S_4D2m",
        "colab_type": "code",
        "outputId": "40441dfb-68a2-40a8-d387-1315335ca651",
        "colab": {
          "base_uri": "https://localhost:8080/",
          "height": 34
        }
      },
      "source": [
        "data.keys()\n"
      ],
      "execution_count": 3,
      "outputs": [
        {
          "output_type": "execute_result",
          "data": {
            "text/plain": [
              "dict_keys(['data', 'target', 'target_names', 'DESCR', 'feature_names', 'filename'])"
            ]
          },
          "metadata": {
            "tags": []
          },
          "execution_count": 3
        }
      ]
    },
    {
      "cell_type": "code",
      "metadata": {
        "id": "sdwx451c4zZW",
        "colab_type": "code",
        "outputId": "d773fcfa-8d56-4a27-9a9e-e6d8f207f78e",
        "colab": {
          "base_uri": "https://localhost:8080/",
          "height": 34
        }
      },
      "source": [
        "data.data.shape # the data.data reffers to the input data"
      ],
      "execution_count": 4,
      "outputs": [
        {
          "output_type": "execute_result",
          "data": {
            "text/plain": [
              "(569, 30)"
            ]
          },
          "metadata": {
            "tags": []
          },
          "execution_count": 4
        }
      ]
    },
    {
      "cell_type": "code",
      "metadata": {
        "id": "IDUack8y406D",
        "colab_type": "code",
        "outputId": "130434af-d19a-456c-c270-1894e2baeeb1",
        "colab": {
          "base_uri": "https://localhost:8080/",
          "height": 34
        }
      },
      "source": [
        "data.target.shape # the data.target reffers to the target/output data, a 1D array of 0s and 1s"
      ],
      "execution_count": 5,
      "outputs": [
        {
          "output_type": "execute_result",
          "data": {
            "text/plain": [
              "(569,)"
            ]
          },
          "metadata": {
            "tags": []
          },
          "execution_count": 5
        }
      ]
    },
    {
      "cell_type": "code",
      "metadata": {
        "id": "SmRaAeVR49ZF",
        "colab_type": "code",
        "outputId": "87110d0e-a6b6-41b4-835b-ca7db7378047",
        "colab": {
          "base_uri": "https://localhost:8080/",
          "height": 191
        }
      },
      "source": [
        "# These ar ethe names of the various inputs and feature\n",
        "print(data.target_names)\n",
        "print(data.feature_names)"
      ],
      "execution_count": 6,
      "outputs": [
        {
          "output_type": "stream",
          "text": [
            "['malignant' 'benign']\n",
            "['mean radius' 'mean texture' 'mean perimeter' 'mean area'\n",
            " 'mean smoothness' 'mean compactness' 'mean concavity'\n",
            " 'mean concave points' 'mean symmetry' 'mean fractal dimension'\n",
            " 'radius error' 'texture error' 'perimeter error' 'area error'\n",
            " 'smoothness error' 'compactness error' 'concavity error'\n",
            " 'concave points error' 'symmetry error' 'fractal dimension error'\n",
            " 'worst radius' 'worst texture' 'worst perimeter' 'worst area'\n",
            " 'worst smoothness' 'worst compactness' 'worst concavity'\n",
            " 'worst concave points' 'worst symmetry' 'worst fractal dimension']\n"
          ],
          "name": "stdout"
        }
      ]
    },
    {
      "cell_type": "code",
      "metadata": {
        "id": "2vybJBaK5Rvg",
        "colab_type": "code",
        "colab": {}
      },
      "source": [
        "# We split the data into train and test sets\n",
        "X_train, X_test, y_train, y_test = train_test_split(data.data, data.target, test_size=0.33)"
      ],
      "execution_count": 0,
      "outputs": []
    },
    {
      "cell_type": "code",
      "metadata": {
        "id": "zKSr8EFi5v7t",
        "colab_type": "code",
        "colab": {}
      },
      "source": [
        "# We scale the data, to make sure the ranges/scales of all the inputs are similar.\n",
        "# We substract the mean and divide by the standard deviation\n",
        "\n",
        "X_train = StandardScaler().fit_transform(X_train)\n",
        "X_test = StandardScaler().fit_transform(X_test)\n",
        "\n",
        "N,D = X_train.shape"
      ],
      "execution_count": 0,
      "outputs": []
    },
    {
      "cell_type": "code",
      "metadata": {
        "id": "j8yRU-HC6RZi",
        "colab_type": "code",
        "outputId": "93a3132a-f2db-4217-a487-f7d5d51d5762",
        "colab": {
          "base_uri": "https://localhost:8080/",
          "height": 1000
        }
      },
      "source": [
        "# This is where the model is created\n",
        "# First, a model object is created. This is a Sequential-type object. \n",
        "# The object takes an input, which specifies the shape of the Input, while the Dense takes the input and does a linear transformation to get an output of sieze 1.\n",
        "\n",
        "model = tf.keras.models.Sequential(\n",
        "    [\n",
        "     tf.keras.layers.Input(shape=(D,)),\n",
        "     tf.keras.layers.Dense(1, activation='sigmoid')\n",
        "    ]\n",
        ")\n",
        "\n",
        "# Alternativelly, we can also define the model (model2) as follows. This allows us to add layers.\n",
        "\n",
        "model2 = tf.keras.models.Sequential()\n",
        "model2.add(tf.keras.layers.Dense(1, input_shape=(D,), activation='sigmoid'))\n",
        "\n",
        "# The next step is to compile the models.\n",
        "\n",
        "model.compile(\n",
        "    optimizer = 'adam',\n",
        "    loss = 'binary_crossentropy',\n",
        "    metrics = ['accuracy']\n",
        ")\n",
        "\n",
        "model2.compile(\n",
        "    optimizer = 'adam',\n",
        "    loss = 'binary_crossentropy',\n",
        "    metrics = ['accuracy']\n",
        ")\n",
        "\n",
        "# Then, we train the two models\n",
        "\n",
        "r = model.fit(X_train, y_train, validation_data = (X_test, y_test), epochs = 200)\n",
        "r2 = model2.fit(X_train, y_train, validation_data = (X_test, y_test), epochs = 200)"
      ],
      "execution_count": 9,
      "outputs": [
        {
          "output_type": "stream",
          "text": [
            "Train on 381 samples, validate on 188 samples\n",
            "Epoch 1/200\n",
            "381/381 [==============================] - 2s 6ms/sample - loss: 0.5294 - accuracy: 0.7638 - val_loss: 0.4534 - val_accuracy: 0.8298\n",
            "Epoch 2/200\n",
            "381/381 [==============================] - 0s 141us/sample - loss: 0.4778 - accuracy: 0.8110 - val_loss: 0.4109 - val_accuracy: 0.8564\n",
            "Epoch 3/200\n",
            "381/381 [==============================] - 0s 120us/sample - loss: 0.4347 - accuracy: 0.8373 - val_loss: 0.3751 - val_accuracy: 0.8830\n",
            "Epoch 4/200\n",
            "381/381 [==============================] - 0s 124us/sample - loss: 0.3964 - accuracy: 0.8609 - val_loss: 0.3464 - val_accuracy: 0.8936\n",
            "Epoch 5/200\n",
            "381/381 [==============================] - 0s 136us/sample - loss: 0.3655 - accuracy: 0.8819 - val_loss: 0.3225 - val_accuracy: 0.9096\n",
            "Epoch 6/200\n",
            "381/381 [==============================] - 0s 136us/sample - loss: 0.3399 - accuracy: 0.9055 - val_loss: 0.3022 - val_accuracy: 0.9202\n",
            "Epoch 7/200\n",
            "381/381 [==============================] - 0s 122us/sample - loss: 0.3181 - accuracy: 0.9134 - val_loss: 0.2849 - val_accuracy: 0.9255\n",
            "Epoch 8/200\n",
            "381/381 [==============================] - 0s 156us/sample - loss: 0.2988 - accuracy: 0.9186 - val_loss: 0.2705 - val_accuracy: 0.9309\n",
            "Epoch 9/200\n",
            "381/381 [==============================] - 0s 126us/sample - loss: 0.2829 - accuracy: 0.9239 - val_loss: 0.2577 - val_accuracy: 0.9255\n",
            "Epoch 10/200\n",
            "381/381 [==============================] - 0s 125us/sample - loss: 0.2689 - accuracy: 0.9265 - val_loss: 0.2465 - val_accuracy: 0.9309\n",
            "Epoch 11/200\n",
            "381/381 [==============================] - 0s 115us/sample - loss: 0.2565 - accuracy: 0.9344 - val_loss: 0.2368 - val_accuracy: 0.9309\n",
            "Epoch 12/200\n",
            "381/381 [==============================] - 0s 126us/sample - loss: 0.2456 - accuracy: 0.9370 - val_loss: 0.2281 - val_accuracy: 0.9309\n",
            "Epoch 13/200\n",
            "381/381 [==============================] - 0s 124us/sample - loss: 0.2360 - accuracy: 0.9475 - val_loss: 0.2203 - val_accuracy: 0.9255\n",
            "Epoch 14/200\n",
            "381/381 [==============================] - 0s 124us/sample - loss: 0.2270 - accuracy: 0.9475 - val_loss: 0.2134 - val_accuracy: 0.9309\n",
            "Epoch 15/200\n",
            "381/381 [==============================] - 0s 120us/sample - loss: 0.2193 - accuracy: 0.9475 - val_loss: 0.2071 - val_accuracy: 0.9309\n",
            "Epoch 16/200\n",
            "381/381 [==============================] - 0s 126us/sample - loss: 0.2123 - accuracy: 0.9475 - val_loss: 0.2013 - val_accuracy: 0.9362\n",
            "Epoch 17/200\n",
            "381/381 [==============================] - 0s 116us/sample - loss: 0.2058 - accuracy: 0.9475 - val_loss: 0.1958 - val_accuracy: 0.9362\n",
            "Epoch 18/200\n",
            "381/381 [==============================] - 0s 119us/sample - loss: 0.1996 - accuracy: 0.9475 - val_loss: 0.1910 - val_accuracy: 0.9362\n",
            "Epoch 19/200\n",
            "381/381 [==============================] - 0s 114us/sample - loss: 0.1941 - accuracy: 0.9475 - val_loss: 0.1865 - val_accuracy: 0.9415\n",
            "Epoch 20/200\n",
            "381/381 [==============================] - 0s 115us/sample - loss: 0.1890 - accuracy: 0.9501 - val_loss: 0.1823 - val_accuracy: 0.9415\n",
            "Epoch 21/200\n",
            "381/381 [==============================] - 0s 130us/sample - loss: 0.1841 - accuracy: 0.9501 - val_loss: 0.1786 - val_accuracy: 0.9415\n",
            "Epoch 22/200\n",
            "381/381 [==============================] - 0s 118us/sample - loss: 0.1797 - accuracy: 0.9501 - val_loss: 0.1750 - val_accuracy: 0.9521\n",
            "Epoch 23/200\n",
            "381/381 [==============================] - 0s 129us/sample - loss: 0.1757 - accuracy: 0.9501 - val_loss: 0.1714 - val_accuracy: 0.9521\n",
            "Epoch 24/200\n",
            "381/381 [==============================] - 0s 123us/sample - loss: 0.1716 - accuracy: 0.9528 - val_loss: 0.1684 - val_accuracy: 0.9521\n",
            "Epoch 25/200\n",
            "381/381 [==============================] - 0s 127us/sample - loss: 0.1679 - accuracy: 0.9528 - val_loss: 0.1654 - val_accuracy: 0.9521\n",
            "Epoch 26/200\n",
            "381/381 [==============================] - 0s 131us/sample - loss: 0.1646 - accuracy: 0.9554 - val_loss: 0.1625 - val_accuracy: 0.9521\n",
            "Epoch 27/200\n",
            "381/381 [==============================] - 0s 127us/sample - loss: 0.1612 - accuracy: 0.9528 - val_loss: 0.1599 - val_accuracy: 0.9521\n",
            "Epoch 28/200\n",
            "381/381 [==============================] - 0s 114us/sample - loss: 0.1582 - accuracy: 0.9580 - val_loss: 0.1575 - val_accuracy: 0.9521\n",
            "Epoch 29/200\n",
            "381/381 [==============================] - 0s 139us/sample - loss: 0.1553 - accuracy: 0.9580 - val_loss: 0.1551 - val_accuracy: 0.9521\n",
            "Epoch 30/200\n",
            "381/381 [==============================] - 0s 136us/sample - loss: 0.1525 - accuracy: 0.9606 - val_loss: 0.1530 - val_accuracy: 0.9521\n",
            "Epoch 31/200\n",
            "381/381 [==============================] - 0s 124us/sample - loss: 0.1498 - accuracy: 0.9606 - val_loss: 0.1510 - val_accuracy: 0.9574\n",
            "Epoch 32/200\n",
            "381/381 [==============================] - 0s 126us/sample - loss: 0.1474 - accuracy: 0.9606 - val_loss: 0.1489 - val_accuracy: 0.9574\n",
            "Epoch 33/200\n",
            "381/381 [==============================] - 0s 121us/sample - loss: 0.1450 - accuracy: 0.9606 - val_loss: 0.1471 - val_accuracy: 0.9574\n",
            "Epoch 34/200\n",
            "381/381 [==============================] - 0s 126us/sample - loss: 0.1427 - accuracy: 0.9606 - val_loss: 0.1453 - val_accuracy: 0.9574\n",
            "Epoch 35/200\n",
            "381/381 [==============================] - 0s 128us/sample - loss: 0.1405 - accuracy: 0.9606 - val_loss: 0.1436 - val_accuracy: 0.9574\n",
            "Epoch 36/200\n",
            "381/381 [==============================] - 0s 120us/sample - loss: 0.1384 - accuracy: 0.9606 - val_loss: 0.1420 - val_accuracy: 0.9574\n",
            "Epoch 37/200\n",
            "381/381 [==============================] - 0s 114us/sample - loss: 0.1365 - accuracy: 0.9606 - val_loss: 0.1404 - val_accuracy: 0.9574\n",
            "Epoch 38/200\n",
            "381/381 [==============================] - 0s 113us/sample - loss: 0.1345 - accuracy: 0.9606 - val_loss: 0.1390 - val_accuracy: 0.9574\n",
            "Epoch 39/200\n",
            "381/381 [==============================] - 0s 112us/sample - loss: 0.1327 - accuracy: 0.9633 - val_loss: 0.1376 - val_accuracy: 0.9574\n",
            "Epoch 40/200\n",
            "381/381 [==============================] - 0s 164us/sample - loss: 0.1309 - accuracy: 0.9659 - val_loss: 0.1363 - val_accuracy: 0.9574\n",
            "Epoch 41/200\n",
            "381/381 [==============================] - 0s 127us/sample - loss: 0.1292 - accuracy: 0.9685 - val_loss: 0.1351 - val_accuracy: 0.9574\n",
            "Epoch 42/200\n",
            "381/381 [==============================] - 0s 134us/sample - loss: 0.1276 - accuracy: 0.9685 - val_loss: 0.1340 - val_accuracy: 0.9574\n",
            "Epoch 43/200\n",
            "381/381 [==============================] - 0s 134us/sample - loss: 0.1260 - accuracy: 0.9685 - val_loss: 0.1328 - val_accuracy: 0.9574\n",
            "Epoch 44/200\n",
            "381/381 [==============================] - 0s 115us/sample - loss: 0.1245 - accuracy: 0.9711 - val_loss: 0.1317 - val_accuracy: 0.9574\n",
            "Epoch 45/200\n",
            "381/381 [==============================] - 0s 119us/sample - loss: 0.1231 - accuracy: 0.9711 - val_loss: 0.1307 - val_accuracy: 0.9574\n",
            "Epoch 46/200\n",
            "381/381 [==============================] - 0s 137us/sample - loss: 0.1216 - accuracy: 0.9711 - val_loss: 0.1296 - val_accuracy: 0.9628\n",
            "Epoch 47/200\n",
            "381/381 [==============================] - 0s 120us/sample - loss: 0.1203 - accuracy: 0.9711 - val_loss: 0.1286 - val_accuracy: 0.9628\n",
            "Epoch 48/200\n",
            "381/381 [==============================] - 0s 140us/sample - loss: 0.1189 - accuracy: 0.9738 - val_loss: 0.1277 - val_accuracy: 0.9628\n",
            "Epoch 49/200\n",
            "381/381 [==============================] - 0s 146us/sample - loss: 0.1177 - accuracy: 0.9738 - val_loss: 0.1268 - val_accuracy: 0.9628\n",
            "Epoch 50/200\n",
            "381/381 [==============================] - 0s 183us/sample - loss: 0.1165 - accuracy: 0.9738 - val_loss: 0.1259 - val_accuracy: 0.9628\n",
            "Epoch 51/200\n",
            "381/381 [==============================] - 0s 189us/sample - loss: 0.1152 - accuracy: 0.9738 - val_loss: 0.1251 - val_accuracy: 0.9628\n",
            "Epoch 52/200\n",
            "381/381 [==============================] - 0s 171us/sample - loss: 0.1141 - accuracy: 0.9738 - val_loss: 0.1244 - val_accuracy: 0.9628\n",
            "Epoch 53/200\n",
            "381/381 [==============================] - 0s 170us/sample - loss: 0.1130 - accuracy: 0.9738 - val_loss: 0.1235 - val_accuracy: 0.9628\n",
            "Epoch 54/200\n",
            "381/381 [==============================] - 0s 166us/sample - loss: 0.1119 - accuracy: 0.9738 - val_loss: 0.1228 - val_accuracy: 0.9628\n",
            "Epoch 55/200\n",
            "381/381 [==============================] - 0s 163us/sample - loss: 0.1108 - accuracy: 0.9738 - val_loss: 0.1221 - val_accuracy: 0.9628\n",
            "Epoch 56/200\n",
            "381/381 [==============================] - 0s 172us/sample - loss: 0.1098 - accuracy: 0.9738 - val_loss: 0.1215 - val_accuracy: 0.9628\n",
            "Epoch 57/200\n",
            "381/381 [==============================] - 0s 162us/sample - loss: 0.1088 - accuracy: 0.9738 - val_loss: 0.1208 - val_accuracy: 0.9628\n",
            "Epoch 58/200\n",
            "381/381 [==============================] - 0s 149us/sample - loss: 0.1078 - accuracy: 0.9738 - val_loss: 0.1201 - val_accuracy: 0.9628\n",
            "Epoch 59/200\n",
            "381/381 [==============================] - 0s 136us/sample - loss: 0.1068 - accuracy: 0.9738 - val_loss: 0.1195 - val_accuracy: 0.9628\n",
            "Epoch 60/200\n",
            "381/381 [==============================] - 0s 135us/sample - loss: 0.1060 - accuracy: 0.9738 - val_loss: 0.1189 - val_accuracy: 0.9628\n",
            "Epoch 61/200\n",
            "381/381 [==============================] - 0s 147us/sample - loss: 0.1050 - accuracy: 0.9738 - val_loss: 0.1183 - val_accuracy: 0.9628\n",
            "Epoch 62/200\n",
            "381/381 [==============================] - 0s 121us/sample - loss: 0.1041 - accuracy: 0.9738 - val_loss: 0.1178 - val_accuracy: 0.9628\n",
            "Epoch 63/200\n",
            "381/381 [==============================] - 0s 135us/sample - loss: 0.1033 - accuracy: 0.9738 - val_loss: 0.1173 - val_accuracy: 0.9628\n",
            "Epoch 64/200\n",
            "381/381 [==============================] - 0s 122us/sample - loss: 0.1024 - accuracy: 0.9738 - val_loss: 0.1168 - val_accuracy: 0.9628\n",
            "Epoch 65/200\n",
            "381/381 [==============================] - 0s 130us/sample - loss: 0.1016 - accuracy: 0.9738 - val_loss: 0.1163 - val_accuracy: 0.9628\n",
            "Epoch 66/200\n",
            "381/381 [==============================] - 0s 152us/sample - loss: 0.1009 - accuracy: 0.9738 - val_loss: 0.1158 - val_accuracy: 0.9628\n",
            "Epoch 67/200\n",
            "381/381 [==============================] - 0s 134us/sample - loss: 0.1001 - accuracy: 0.9738 - val_loss: 0.1153 - val_accuracy: 0.9628\n",
            "Epoch 68/200\n",
            "381/381 [==============================] - 0s 123us/sample - loss: 0.0993 - accuracy: 0.9764 - val_loss: 0.1149 - val_accuracy: 0.9628\n",
            "Epoch 69/200\n",
            "381/381 [==============================] - 0s 122us/sample - loss: 0.0986 - accuracy: 0.9764 - val_loss: 0.1144 - val_accuracy: 0.9628\n",
            "Epoch 70/200\n",
            "381/381 [==============================] - 0s 126us/sample - loss: 0.0978 - accuracy: 0.9764 - val_loss: 0.1140 - val_accuracy: 0.9628\n",
            "Epoch 71/200\n",
            "381/381 [==============================] - 0s 126us/sample - loss: 0.0971 - accuracy: 0.9764 - val_loss: 0.1136 - val_accuracy: 0.9628\n",
            "Epoch 72/200\n",
            "381/381 [==============================] - 0s 117us/sample - loss: 0.0965 - accuracy: 0.9764 - val_loss: 0.1133 - val_accuracy: 0.9628\n",
            "Epoch 73/200\n",
            "381/381 [==============================] - 0s 120us/sample - loss: 0.0958 - accuracy: 0.9764 - val_loss: 0.1129 - val_accuracy: 0.9628\n",
            "Epoch 74/200\n",
            "381/381 [==============================] - 0s 114us/sample - loss: 0.0951 - accuracy: 0.9764 - val_loss: 0.1125 - val_accuracy: 0.9628\n",
            "Epoch 75/200\n",
            "381/381 [==============================] - 0s 112us/sample - loss: 0.0945 - accuracy: 0.9764 - val_loss: 0.1122 - val_accuracy: 0.9628\n",
            "Epoch 76/200\n",
            "381/381 [==============================] - 0s 119us/sample - loss: 0.0938 - accuracy: 0.9764 - val_loss: 0.1119 - val_accuracy: 0.9628\n",
            "Epoch 77/200\n",
            "381/381 [==============================] - 0s 115us/sample - loss: 0.0932 - accuracy: 0.9764 - val_loss: 0.1116 - val_accuracy: 0.9628\n",
            "Epoch 78/200\n",
            "381/381 [==============================] - 0s 112us/sample - loss: 0.0926 - accuracy: 0.9764 - val_loss: 0.1112 - val_accuracy: 0.9628\n",
            "Epoch 79/200\n",
            "381/381 [==============================] - 0s 125us/sample - loss: 0.0920 - accuracy: 0.9764 - val_loss: 0.1109 - val_accuracy: 0.9628\n",
            "Epoch 80/200\n",
            "381/381 [==============================] - 0s 134us/sample - loss: 0.0914 - accuracy: 0.9764 - val_loss: 0.1106 - val_accuracy: 0.9628\n",
            "Epoch 81/200\n",
            "381/381 [==============================] - 0s 120us/sample - loss: 0.0908 - accuracy: 0.9764 - val_loss: 0.1104 - val_accuracy: 0.9628\n",
            "Epoch 82/200\n",
            "381/381 [==============================] - 0s 136us/sample - loss: 0.0903 - accuracy: 0.9764 - val_loss: 0.1101 - val_accuracy: 0.9628\n",
            "Epoch 83/200\n",
            "381/381 [==============================] - 0s 136us/sample - loss: 0.0898 - accuracy: 0.9764 - val_loss: 0.1098 - val_accuracy: 0.9628\n",
            "Epoch 84/200\n",
            "381/381 [==============================] - 0s 122us/sample - loss: 0.0892 - accuracy: 0.9764 - val_loss: 0.1096 - val_accuracy: 0.9628\n",
            "Epoch 85/200\n",
            "381/381 [==============================] - 0s 126us/sample - loss: 0.0887 - accuracy: 0.9764 - val_loss: 0.1093 - val_accuracy: 0.9628\n",
            "Epoch 86/200\n",
            "381/381 [==============================] - 0s 123us/sample - loss: 0.0882 - accuracy: 0.9764 - val_loss: 0.1090 - val_accuracy: 0.9628\n",
            "Epoch 87/200\n",
            "381/381 [==============================] - 0s 174us/sample - loss: 0.0876 - accuracy: 0.9816 - val_loss: 0.1088 - val_accuracy: 0.9628\n",
            "Epoch 88/200\n",
            "381/381 [==============================] - 0s 128us/sample - loss: 0.0871 - accuracy: 0.9816 - val_loss: 0.1086 - val_accuracy: 0.9628\n",
            "Epoch 89/200\n",
            "381/381 [==============================] - 0s 117us/sample - loss: 0.0867 - accuracy: 0.9816 - val_loss: 0.1084 - val_accuracy: 0.9628\n",
            "Epoch 90/200\n",
            "381/381 [==============================] - 0s 121us/sample - loss: 0.0862 - accuracy: 0.9816 - val_loss: 0.1082 - val_accuracy: 0.9628\n",
            "Epoch 91/200\n",
            "381/381 [==============================] - 0s 135us/sample - loss: 0.0857 - accuracy: 0.9816 - val_loss: 0.1080 - val_accuracy: 0.9628\n",
            "Epoch 92/200\n",
            "381/381 [==============================] - 0s 128us/sample - loss: 0.0853 - accuracy: 0.9816 - val_loss: 0.1078 - val_accuracy: 0.9628\n",
            "Epoch 93/200\n",
            "381/381 [==============================] - 0s 120us/sample - loss: 0.0847 - accuracy: 0.9816 - val_loss: 0.1076 - val_accuracy: 0.9628\n",
            "Epoch 94/200\n",
            "381/381 [==============================] - 0s 128us/sample - loss: 0.0843 - accuracy: 0.9816 - val_loss: 0.1074 - val_accuracy: 0.9628\n",
            "Epoch 95/200\n",
            "381/381 [==============================] - 0s 136us/sample - loss: 0.0838 - accuracy: 0.9816 - val_loss: 0.1073 - val_accuracy: 0.9628\n",
            "Epoch 96/200\n",
            "381/381 [==============================] - 0s 128us/sample - loss: 0.0834 - accuracy: 0.9816 - val_loss: 0.1071 - val_accuracy: 0.9628\n",
            "Epoch 97/200\n",
            "381/381 [==============================] - 0s 116us/sample - loss: 0.0830 - accuracy: 0.9816 - val_loss: 0.1070 - val_accuracy: 0.9628\n",
            "Epoch 98/200\n",
            "381/381 [==============================] - 0s 158us/sample - loss: 0.0826 - accuracy: 0.9816 - val_loss: 0.1069 - val_accuracy: 0.9628\n",
            "Epoch 99/200\n",
            "381/381 [==============================] - 0s 150us/sample - loss: 0.0822 - accuracy: 0.9816 - val_loss: 0.1066 - val_accuracy: 0.9628\n",
            "Epoch 100/200\n",
            "381/381 [==============================] - 0s 129us/sample - loss: 0.0817 - accuracy: 0.9816 - val_loss: 0.1065 - val_accuracy: 0.9628\n",
            "Epoch 101/200\n",
            "381/381 [==============================] - 0s 121us/sample - loss: 0.0813 - accuracy: 0.9816 - val_loss: 0.1064 - val_accuracy: 0.9628\n",
            "Epoch 102/200\n",
            "381/381 [==============================] - 0s 167us/sample - loss: 0.0809 - accuracy: 0.9816 - val_loss: 0.1063 - val_accuracy: 0.9628\n",
            "Epoch 103/200\n",
            "381/381 [==============================] - 0s 142us/sample - loss: 0.0806 - accuracy: 0.9816 - val_loss: 0.1061 - val_accuracy: 0.9628\n",
            "Epoch 104/200\n",
            "381/381 [==============================] - 0s 124us/sample - loss: 0.0802 - accuracy: 0.9816 - val_loss: 0.1060 - val_accuracy: 0.9628\n",
            "Epoch 105/200\n",
            "381/381 [==============================] - 0s 119us/sample - loss: 0.0798 - accuracy: 0.9816 - val_loss: 0.1059 - val_accuracy: 0.9628\n",
            "Epoch 106/200\n",
            "381/381 [==============================] - 0s 124us/sample - loss: 0.0794 - accuracy: 0.9816 - val_loss: 0.1058 - val_accuracy: 0.9628\n",
            "Epoch 107/200\n",
            "381/381 [==============================] - 0s 156us/sample - loss: 0.0791 - accuracy: 0.9843 - val_loss: 0.1056 - val_accuracy: 0.9628\n",
            "Epoch 108/200\n",
            "381/381 [==============================] - 0s 116us/sample - loss: 0.0787 - accuracy: 0.9843 - val_loss: 0.1056 - val_accuracy: 0.9628\n",
            "Epoch 109/200\n",
            "381/381 [==============================] - 0s 137us/sample - loss: 0.0783 - accuracy: 0.9843 - val_loss: 0.1055 - val_accuracy: 0.9628\n",
            "Epoch 110/200\n",
            "381/381 [==============================] - 0s 131us/sample - loss: 0.0780 - accuracy: 0.9843 - val_loss: 0.1054 - val_accuracy: 0.9628\n",
            "Epoch 111/200\n",
            "381/381 [==============================] - 0s 121us/sample - loss: 0.0776 - accuracy: 0.9843 - val_loss: 0.1053 - val_accuracy: 0.9628\n",
            "Epoch 112/200\n",
            "381/381 [==============================] - 0s 132us/sample - loss: 0.0773 - accuracy: 0.9843 - val_loss: 0.1052 - val_accuracy: 0.9628\n",
            "Epoch 113/200\n",
            "381/381 [==============================] - 0s 123us/sample - loss: 0.0770 - accuracy: 0.9843 - val_loss: 0.1051 - val_accuracy: 0.9628\n",
            "Epoch 114/200\n",
            "381/381 [==============================] - 0s 120us/sample - loss: 0.0766 - accuracy: 0.9843 - val_loss: 0.1051 - val_accuracy: 0.9628\n",
            "Epoch 115/200\n",
            "381/381 [==============================] - 0s 126us/sample - loss: 0.0763 - accuracy: 0.9843 - val_loss: 0.1050 - val_accuracy: 0.9628\n",
            "Epoch 116/200\n",
            "381/381 [==============================] - 0s 129us/sample - loss: 0.0760 - accuracy: 0.9843 - val_loss: 0.1049 - val_accuracy: 0.9628\n",
            "Epoch 117/200\n",
            "381/381 [==============================] - 0s 123us/sample - loss: 0.0756 - accuracy: 0.9843 - val_loss: 0.1049 - val_accuracy: 0.9628\n",
            "Epoch 118/200\n",
            "381/381 [==============================] - 0s 120us/sample - loss: 0.0753 - accuracy: 0.9843 - val_loss: 0.1048 - val_accuracy: 0.9628\n",
            "Epoch 119/200\n",
            "381/381 [==============================] - 0s 132us/sample - loss: 0.0750 - accuracy: 0.9843 - val_loss: 0.1047 - val_accuracy: 0.9628\n",
            "Epoch 120/200\n",
            "381/381 [==============================] - 0s 116us/sample - loss: 0.0747 - accuracy: 0.9843 - val_loss: 0.1047 - val_accuracy: 0.9628\n",
            "Epoch 121/200\n",
            "381/381 [==============================] - 0s 124us/sample - loss: 0.0744 - accuracy: 0.9843 - val_loss: 0.1046 - val_accuracy: 0.9628\n",
            "Epoch 122/200\n",
            "381/381 [==============================] - 0s 127us/sample - loss: 0.0741 - accuracy: 0.9843 - val_loss: 0.1046 - val_accuracy: 0.9628\n",
            "Epoch 123/200\n",
            "381/381 [==============================] - 0s 136us/sample - loss: 0.0738 - accuracy: 0.9843 - val_loss: 0.1045 - val_accuracy: 0.9628\n",
            "Epoch 124/200\n",
            "381/381 [==============================] - 0s 136us/sample - loss: 0.0735 - accuracy: 0.9843 - val_loss: 0.1045 - val_accuracy: 0.9628\n",
            "Epoch 125/200\n",
            "381/381 [==============================] - 0s 123us/sample - loss: 0.0732 - accuracy: 0.9843 - val_loss: 0.1044 - val_accuracy: 0.9628\n",
            "Epoch 126/200\n",
            "381/381 [==============================] - 0s 130us/sample - loss: 0.0730 - accuracy: 0.9843 - val_loss: 0.1043 - val_accuracy: 0.9628\n",
            "Epoch 127/200\n",
            "381/381 [==============================] - 0s 157us/sample - loss: 0.0727 - accuracy: 0.9843 - val_loss: 0.1044 - val_accuracy: 0.9628\n",
            "Epoch 128/200\n",
            "381/381 [==============================] - 0s 140us/sample - loss: 0.0724 - accuracy: 0.9843 - val_loss: 0.1044 - val_accuracy: 0.9574\n",
            "Epoch 129/200\n",
            "381/381 [==============================] - 0s 120us/sample - loss: 0.0721 - accuracy: 0.9843 - val_loss: 0.1043 - val_accuracy: 0.9574\n",
            "Epoch 130/200\n",
            "381/381 [==============================] - 0s 125us/sample - loss: 0.0719 - accuracy: 0.9843 - val_loss: 0.1043 - val_accuracy: 0.9574\n",
            "Epoch 131/200\n",
            "381/381 [==============================] - 0s 127us/sample - loss: 0.0716 - accuracy: 0.9843 - val_loss: 0.1042 - val_accuracy: 0.9574\n",
            "Epoch 132/200\n",
            "381/381 [==============================] - 0s 126us/sample - loss: 0.0713 - accuracy: 0.9843 - val_loss: 0.1043 - val_accuracy: 0.9574\n",
            "Epoch 133/200\n",
            "381/381 [==============================] - 0s 135us/sample - loss: 0.0711 - accuracy: 0.9843 - val_loss: 0.1042 - val_accuracy: 0.9574\n",
            "Epoch 134/200\n",
            "381/381 [==============================] - 0s 117us/sample - loss: 0.0708 - accuracy: 0.9843 - val_loss: 0.1042 - val_accuracy: 0.9574\n",
            "Epoch 135/200\n",
            "381/381 [==============================] - 0s 125us/sample - loss: 0.0706 - accuracy: 0.9843 - val_loss: 0.1042 - val_accuracy: 0.9574\n",
            "Epoch 136/200\n",
            "381/381 [==============================] - 0s 130us/sample - loss: 0.0703 - accuracy: 0.9843 - val_loss: 0.1042 - val_accuracy: 0.9574\n",
            "Epoch 137/200\n",
            "381/381 [==============================] - 0s 135us/sample - loss: 0.0700 - accuracy: 0.9843 - val_loss: 0.1042 - val_accuracy: 0.9574\n",
            "Epoch 138/200\n",
            "381/381 [==============================] - 0s 125us/sample - loss: 0.0698 - accuracy: 0.9843 - val_loss: 0.1041 - val_accuracy: 0.9574\n",
            "Epoch 139/200\n",
            "381/381 [==============================] - 0s 119us/sample - loss: 0.0696 - accuracy: 0.9869 - val_loss: 0.1042 - val_accuracy: 0.9574\n",
            "Epoch 140/200\n",
            "381/381 [==============================] - 0s 134us/sample - loss: 0.0693 - accuracy: 0.9869 - val_loss: 0.1041 - val_accuracy: 0.9574\n",
            "Epoch 141/200\n",
            "381/381 [==============================] - 0s 117us/sample - loss: 0.0691 - accuracy: 0.9869 - val_loss: 0.1041 - val_accuracy: 0.9574\n",
            "Epoch 142/200\n",
            "381/381 [==============================] - 0s 136us/sample - loss: 0.0688 - accuracy: 0.9869 - val_loss: 0.1041 - val_accuracy: 0.9574\n",
            "Epoch 143/200\n",
            "381/381 [==============================] - 0s 133us/sample - loss: 0.0686 - accuracy: 0.9869 - val_loss: 0.1041 - val_accuracy: 0.9574\n",
            "Epoch 144/200\n",
            "381/381 [==============================] - 0s 141us/sample - loss: 0.0684 - accuracy: 0.9869 - val_loss: 0.1041 - val_accuracy: 0.9574\n",
            "Epoch 145/200\n",
            "381/381 [==============================] - 0s 131us/sample - loss: 0.0682 - accuracy: 0.9869 - val_loss: 0.1042 - val_accuracy: 0.9574\n",
            "Epoch 146/200\n",
            "381/381 [==============================] - 0s 129us/sample - loss: 0.0679 - accuracy: 0.9869 - val_loss: 0.1041 - val_accuracy: 0.9574\n",
            "Epoch 147/200\n",
            "381/381 [==============================] - 0s 144us/sample - loss: 0.0677 - accuracy: 0.9869 - val_loss: 0.1041 - val_accuracy: 0.9574\n",
            "Epoch 148/200\n",
            "381/381 [==============================] - 0s 125us/sample - loss: 0.0675 - accuracy: 0.9869 - val_loss: 0.1042 - val_accuracy: 0.9574\n",
            "Epoch 149/200\n",
            "381/381 [==============================] - 0s 135us/sample - loss: 0.0673 - accuracy: 0.9869 - val_loss: 0.1042 - val_accuracy: 0.9574\n",
            "Epoch 150/200\n",
            "381/381 [==============================] - 0s 125us/sample - loss: 0.0671 - accuracy: 0.9869 - val_loss: 0.1042 - val_accuracy: 0.9574\n",
            "Epoch 151/200\n",
            "381/381 [==============================] - 0s 118us/sample - loss: 0.0668 - accuracy: 0.9869 - val_loss: 0.1042 - val_accuracy: 0.9574\n",
            "Epoch 152/200\n",
            "381/381 [==============================] - 0s 127us/sample - loss: 0.0666 - accuracy: 0.9869 - val_loss: 0.1042 - val_accuracy: 0.9574\n",
            "Epoch 153/200\n",
            "381/381 [==============================] - 0s 122us/sample - loss: 0.0664 - accuracy: 0.9869 - val_loss: 0.1043 - val_accuracy: 0.9574\n",
            "Epoch 154/200\n",
            "381/381 [==============================] - 0s 121us/sample - loss: 0.0662 - accuracy: 0.9869 - val_loss: 0.1042 - val_accuracy: 0.9574\n",
            "Epoch 155/200\n",
            "381/381 [==============================] - 0s 119us/sample - loss: 0.0660 - accuracy: 0.9869 - val_loss: 0.1043 - val_accuracy: 0.9574\n",
            "Epoch 156/200\n",
            "381/381 [==============================] - 0s 129us/sample - loss: 0.0658 - accuracy: 0.9869 - val_loss: 0.1043 - val_accuracy: 0.9574\n",
            "Epoch 157/200\n",
            "381/381 [==============================] - 0s 119us/sample - loss: 0.0656 - accuracy: 0.9869 - val_loss: 0.1043 - val_accuracy: 0.9574\n",
            "Epoch 158/200\n",
            "381/381 [==============================] - 0s 115us/sample - loss: 0.0654 - accuracy: 0.9869 - val_loss: 0.1044 - val_accuracy: 0.9574\n",
            "Epoch 159/200\n",
            "381/381 [==============================] - 0s 114us/sample - loss: 0.0652 - accuracy: 0.9869 - val_loss: 0.1043 - val_accuracy: 0.9574\n",
            "Epoch 160/200\n",
            "381/381 [==============================] - 0s 123us/sample - loss: 0.0650 - accuracy: 0.9869 - val_loss: 0.1043 - val_accuracy: 0.9574\n",
            "Epoch 161/200\n",
            "381/381 [==============================] - 0s 116us/sample - loss: 0.0648 - accuracy: 0.9869 - val_loss: 0.1043 - val_accuracy: 0.9574\n",
            "Epoch 162/200\n",
            "381/381 [==============================] - 0s 128us/sample - loss: 0.0647 - accuracy: 0.9869 - val_loss: 0.1044 - val_accuracy: 0.9574\n",
            "Epoch 163/200\n",
            "381/381 [==============================] - 0s 123us/sample - loss: 0.0645 - accuracy: 0.9869 - val_loss: 0.1045 - val_accuracy: 0.9574\n",
            "Epoch 164/200\n",
            "381/381 [==============================] - 0s 122us/sample - loss: 0.0643 - accuracy: 0.9869 - val_loss: 0.1045 - val_accuracy: 0.9574\n",
            "Epoch 165/200\n",
            "381/381 [==============================] - 0s 144us/sample - loss: 0.0641 - accuracy: 0.9869 - val_loss: 0.1045 - val_accuracy: 0.9574\n",
            "Epoch 166/200\n",
            "381/381 [==============================] - 0s 113us/sample - loss: 0.0639 - accuracy: 0.9869 - val_loss: 0.1045 - val_accuracy: 0.9574\n",
            "Epoch 167/200\n",
            "381/381 [==============================] - 0s 118us/sample - loss: 0.0637 - accuracy: 0.9869 - val_loss: 0.1046 - val_accuracy: 0.9574\n",
            "Epoch 168/200\n",
            "381/381 [==============================] - 0s 152us/sample - loss: 0.0635 - accuracy: 0.9869 - val_loss: 0.1046 - val_accuracy: 0.9574\n",
            "Epoch 169/200\n",
            "381/381 [==============================] - 0s 129us/sample - loss: 0.0634 - accuracy: 0.9869 - val_loss: 0.1047 - val_accuracy: 0.9574\n",
            "Epoch 170/200\n",
            "381/381 [==============================] - 0s 144us/sample - loss: 0.0632 - accuracy: 0.9869 - val_loss: 0.1047 - val_accuracy: 0.9574\n",
            "Epoch 171/200\n",
            "381/381 [==============================] - 0s 123us/sample - loss: 0.0630 - accuracy: 0.9869 - val_loss: 0.1047 - val_accuracy: 0.9574\n",
            "Epoch 172/200\n",
            "381/381 [==============================] - 0s 133us/sample - loss: 0.0628 - accuracy: 0.9869 - val_loss: 0.1047 - val_accuracy: 0.9574\n",
            "Epoch 173/200\n",
            "381/381 [==============================] - 0s 124us/sample - loss: 0.0627 - accuracy: 0.9869 - val_loss: 0.1048 - val_accuracy: 0.9574\n",
            "Epoch 174/200\n",
            "381/381 [==============================] - 0s 136us/sample - loss: 0.0625 - accuracy: 0.9869 - val_loss: 0.1048 - val_accuracy: 0.9574\n",
            "Epoch 175/200\n",
            "381/381 [==============================] - 0s 120us/sample - loss: 0.0623 - accuracy: 0.9869 - val_loss: 0.1048 - val_accuracy: 0.9574\n",
            "Epoch 176/200\n",
            "381/381 [==============================] - 0s 113us/sample - loss: 0.0622 - accuracy: 0.9869 - val_loss: 0.1049 - val_accuracy: 0.9574\n",
            "Epoch 177/200\n",
            "381/381 [==============================] - 0s 119us/sample - loss: 0.0620 - accuracy: 0.9869 - val_loss: 0.1050 - val_accuracy: 0.9574\n",
            "Epoch 178/200\n",
            "381/381 [==============================] - 0s 114us/sample - loss: 0.0619 - accuracy: 0.9869 - val_loss: 0.1049 - val_accuracy: 0.9574\n",
            "Epoch 179/200\n",
            "381/381 [==============================] - 0s 128us/sample - loss: 0.0617 - accuracy: 0.9869 - val_loss: 0.1050 - val_accuracy: 0.9574\n",
            "Epoch 180/200\n",
            "381/381 [==============================] - 0s 115us/sample - loss: 0.0615 - accuracy: 0.9869 - val_loss: 0.1051 - val_accuracy: 0.9574\n",
            "Epoch 181/200\n",
            "381/381 [==============================] - 0s 131us/sample - loss: 0.0614 - accuracy: 0.9869 - val_loss: 0.1051 - val_accuracy: 0.9574\n",
            "Epoch 182/200\n",
            "381/381 [==============================] - 0s 123us/sample - loss: 0.0612 - accuracy: 0.9869 - val_loss: 0.1052 - val_accuracy: 0.9574\n",
            "Epoch 183/200\n",
            "381/381 [==============================] - 0s 174us/sample - loss: 0.0610 - accuracy: 0.9869 - val_loss: 0.1052 - val_accuracy: 0.9574\n",
            "Epoch 184/200\n",
            "381/381 [==============================] - 0s 154us/sample - loss: 0.0609 - accuracy: 0.9869 - val_loss: 0.1052 - val_accuracy: 0.9574\n",
            "Epoch 185/200\n",
            "381/381 [==============================] - 0s 136us/sample - loss: 0.0607 - accuracy: 0.9869 - val_loss: 0.1053 - val_accuracy: 0.9574\n",
            "Epoch 186/200\n",
            "381/381 [==============================] - 0s 140us/sample - loss: 0.0606 - accuracy: 0.9869 - val_loss: 0.1054 - val_accuracy: 0.9574\n",
            "Epoch 187/200\n",
            "381/381 [==============================] - 0s 138us/sample - loss: 0.0604 - accuracy: 0.9869 - val_loss: 0.1054 - val_accuracy: 0.9574\n",
            "Epoch 188/200\n",
            "381/381 [==============================] - 0s 137us/sample - loss: 0.0603 - accuracy: 0.9869 - val_loss: 0.1055 - val_accuracy: 0.9574\n",
            "Epoch 189/200\n",
            "381/381 [==============================] - 0s 123us/sample - loss: 0.0601 - accuracy: 0.9869 - val_loss: 0.1055 - val_accuracy: 0.9574\n",
            "Epoch 190/200\n",
            "381/381 [==============================] - 0s 124us/sample - loss: 0.0600 - accuracy: 0.9869 - val_loss: 0.1055 - val_accuracy: 0.9574\n",
            "Epoch 191/200\n",
            "381/381 [==============================] - 0s 131us/sample - loss: 0.0598 - accuracy: 0.9869 - val_loss: 0.1056 - val_accuracy: 0.9574\n",
            "Epoch 192/200\n",
            "381/381 [==============================] - 0s 138us/sample - loss: 0.0597 - accuracy: 0.9869 - val_loss: 0.1056 - val_accuracy: 0.9574\n",
            "Epoch 193/200\n",
            "381/381 [==============================] - 0s 122us/sample - loss: 0.0596 - accuracy: 0.9869 - val_loss: 0.1056 - val_accuracy: 0.9574\n",
            "Epoch 194/200\n",
            "381/381 [==============================] - 0s 115us/sample - loss: 0.0594 - accuracy: 0.9869 - val_loss: 0.1057 - val_accuracy: 0.9574\n",
            "Epoch 195/200\n",
            "381/381 [==============================] - 0s 133us/sample - loss: 0.0593 - accuracy: 0.9869 - val_loss: 0.1058 - val_accuracy: 0.9574\n",
            "Epoch 196/200\n",
            "381/381 [==============================] - 0s 120us/sample - loss: 0.0591 - accuracy: 0.9869 - val_loss: 0.1058 - val_accuracy: 0.9574\n",
            "Epoch 197/200\n",
            "381/381 [==============================] - 0s 123us/sample - loss: 0.0590 - accuracy: 0.9869 - val_loss: 0.1059 - val_accuracy: 0.9574\n",
            "Epoch 198/200\n",
            "381/381 [==============================] - 0s 119us/sample - loss: 0.0589 - accuracy: 0.9869 - val_loss: 0.1060 - val_accuracy: 0.9574\n",
            "Epoch 199/200\n",
            "381/381 [==============================] - 0s 120us/sample - loss: 0.0588 - accuracy: 0.9869 - val_loss: 0.1061 - val_accuracy: 0.9574\n",
            "Epoch 200/200\n",
            "381/381 [==============================] - 0s 117us/sample - loss: 0.0586 - accuracy: 0.9869 - val_loss: 0.1060 - val_accuracy: 0.9574\n",
            "Train on 381 samples, validate on 188 samples\n",
            "Epoch 1/200\n",
            "381/381 [==============================] - 0s 832us/sample - loss: 1.2016 - accuracy: 0.1969 - val_loss: 1.1398 - val_accuracy: 0.2500\n",
            "Epoch 2/200\n",
            "381/381 [==============================] - 0s 150us/sample - loss: 1.0969 - accuracy: 0.2388 - val_loss: 1.0338 - val_accuracy: 0.2872\n",
            "Epoch 3/200\n",
            "381/381 [==============================] - 0s 123us/sample - loss: 0.9959 - accuracy: 0.2887 - val_loss: 0.9412 - val_accuracy: 0.3404\n",
            "Epoch 4/200\n",
            "381/381 [==============================] - 0s 124us/sample - loss: 0.9106 - accuracy: 0.3412 - val_loss: 0.8575 - val_accuracy: 0.4202\n",
            "Epoch 5/200\n",
            "381/381 [==============================] - 0s 115us/sample - loss: 0.8333 - accuracy: 0.4042 - val_loss: 0.7847 - val_accuracy: 0.4681\n",
            "Epoch 6/200\n",
            "381/381 [==============================] - 0s 134us/sample - loss: 0.7657 - accuracy: 0.4724 - val_loss: 0.7218 - val_accuracy: 0.5426\n",
            "Epoch 7/200\n",
            "381/381 [==============================] - 0s 131us/sample - loss: 0.7067 - accuracy: 0.5827 - val_loss: 0.6675 - val_accuracy: 0.6011\n",
            "Epoch 8/200\n",
            "381/381 [==============================] - 0s 130us/sample - loss: 0.6551 - accuracy: 0.6483 - val_loss: 0.6203 - val_accuracy: 0.6596\n",
            "Epoch 9/200\n",
            "381/381 [==============================] - 0s 115us/sample - loss: 0.6104 - accuracy: 0.7034 - val_loss: 0.5794 - val_accuracy: 0.7021\n",
            "Epoch 10/200\n",
            "381/381 [==============================] - 0s 118us/sample - loss: 0.5719 - accuracy: 0.7559 - val_loss: 0.5431 - val_accuracy: 0.7606\n",
            "Epoch 11/200\n",
            "381/381 [==============================] - 0s 134us/sample - loss: 0.5376 - accuracy: 0.7927 - val_loss: 0.5112 - val_accuracy: 0.7872\n",
            "Epoch 12/200\n",
            "381/381 [==============================] - 0s 123us/sample - loss: 0.5075 - accuracy: 0.8215 - val_loss: 0.4834 - val_accuracy: 0.8085\n",
            "Epoch 13/200\n",
            "381/381 [==============================] - 0s 113us/sample - loss: 0.4810 - accuracy: 0.8346 - val_loss: 0.4589 - val_accuracy: 0.8191\n",
            "Epoch 14/200\n",
            "381/381 [==============================] - 0s 114us/sample - loss: 0.4568 - accuracy: 0.8399 - val_loss: 0.4370 - val_accuracy: 0.8298\n",
            "Epoch 15/200\n",
            "381/381 [==============================] - 0s 116us/sample - loss: 0.4359 - accuracy: 0.8583 - val_loss: 0.4172 - val_accuracy: 0.8404\n",
            "Epoch 16/200\n",
            "381/381 [==============================] - 0s 115us/sample - loss: 0.4165 - accuracy: 0.8740 - val_loss: 0.3996 - val_accuracy: 0.8511\n",
            "Epoch 17/200\n",
            "381/381 [==============================] - 0s 121us/sample - loss: 0.3996 - accuracy: 0.8819 - val_loss: 0.3835 - val_accuracy: 0.8564\n",
            "Epoch 18/200\n",
            "381/381 [==============================] - 0s 121us/sample - loss: 0.3840 - accuracy: 0.8819 - val_loss: 0.3687 - val_accuracy: 0.8617\n",
            "Epoch 19/200\n",
            "381/381 [==============================] - 0s 130us/sample - loss: 0.3693 - accuracy: 0.8871 - val_loss: 0.3557 - val_accuracy: 0.8777\n",
            "Epoch 20/200\n",
            "381/381 [==============================] - 0s 129us/sample - loss: 0.3565 - accuracy: 0.8976 - val_loss: 0.3435 - val_accuracy: 0.8777\n",
            "Epoch 21/200\n",
            "381/381 [==============================] - 0s 144us/sample - loss: 0.3444 - accuracy: 0.8976 - val_loss: 0.3323 - val_accuracy: 0.8777\n",
            "Epoch 22/200\n",
            "381/381 [==============================] - 0s 149us/sample - loss: 0.3331 - accuracy: 0.9003 - val_loss: 0.3222 - val_accuracy: 0.8777\n",
            "Epoch 23/200\n",
            "381/381 [==============================] - 0s 141us/sample - loss: 0.3230 - accuracy: 0.9029 - val_loss: 0.3125 - val_accuracy: 0.8830\n",
            "Epoch 24/200\n",
            "381/381 [==============================] - 0s 133us/sample - loss: 0.3132 - accuracy: 0.9134 - val_loss: 0.3036 - val_accuracy: 0.8936\n",
            "Epoch 25/200\n",
            "381/381 [==============================] - 0s 117us/sample - loss: 0.3043 - accuracy: 0.9160 - val_loss: 0.2952 - val_accuracy: 0.8936\n",
            "Epoch 26/200\n",
            "381/381 [==============================] - 0s 114us/sample - loss: 0.2957 - accuracy: 0.9160 - val_loss: 0.2877 - val_accuracy: 0.9043\n",
            "Epoch 27/200\n",
            "381/381 [==============================] - 0s 127us/sample - loss: 0.2880 - accuracy: 0.9186 - val_loss: 0.2804 - val_accuracy: 0.9096\n",
            "Epoch 28/200\n",
            "381/381 [==============================] - 0s 143us/sample - loss: 0.2805 - accuracy: 0.9186 - val_loss: 0.2737 - val_accuracy: 0.9096\n",
            "Epoch 29/200\n",
            "381/381 [==============================] - 0s 123us/sample - loss: 0.2736 - accuracy: 0.9213 - val_loss: 0.2672 - val_accuracy: 0.9149\n",
            "Epoch 30/200\n",
            "381/381 [==============================] - 0s 129us/sample - loss: 0.2669 - accuracy: 0.9239 - val_loss: 0.2612 - val_accuracy: 0.9149\n",
            "Epoch 31/200\n",
            "381/381 [==============================] - 0s 120us/sample - loss: 0.2606 - accuracy: 0.9265 - val_loss: 0.2555 - val_accuracy: 0.9202\n",
            "Epoch 32/200\n",
            "381/381 [==============================] - 0s 126us/sample - loss: 0.2547 - accuracy: 0.9318 - val_loss: 0.2501 - val_accuracy: 0.9202\n",
            "Epoch 33/200\n",
            "381/381 [==============================] - 0s 123us/sample - loss: 0.2489 - accuracy: 0.9344 - val_loss: 0.2451 - val_accuracy: 0.9202\n",
            "Epoch 34/200\n",
            "381/381 [==============================] - 0s 140us/sample - loss: 0.2435 - accuracy: 0.9396 - val_loss: 0.2405 - val_accuracy: 0.9202\n",
            "Epoch 35/200\n",
            "381/381 [==============================] - 0s 130us/sample - loss: 0.2385 - accuracy: 0.9396 - val_loss: 0.2358 - val_accuracy: 0.9202\n",
            "Epoch 36/200\n",
            "381/381 [==============================] - 0s 123us/sample - loss: 0.2334 - accuracy: 0.9396 - val_loss: 0.2316 - val_accuracy: 0.9202\n",
            "Epoch 37/200\n",
            "381/381 [==============================] - 0s 125us/sample - loss: 0.2289 - accuracy: 0.9423 - val_loss: 0.2273 - val_accuracy: 0.9202\n",
            "Epoch 38/200\n",
            "381/381 [==============================] - 0s 120us/sample - loss: 0.2243 - accuracy: 0.9423 - val_loss: 0.2234 - val_accuracy: 0.9202\n",
            "Epoch 39/200\n",
            "381/381 [==============================] - 0s 127us/sample - loss: 0.2200 - accuracy: 0.9423 - val_loss: 0.2197 - val_accuracy: 0.9255\n",
            "Epoch 40/200\n",
            "381/381 [==============================] - 0s 118us/sample - loss: 0.2159 - accuracy: 0.9423 - val_loss: 0.2160 - val_accuracy: 0.9309\n",
            "Epoch 41/200\n",
            "381/381 [==============================] - 0s 123us/sample - loss: 0.2119 - accuracy: 0.9449 - val_loss: 0.2124 - val_accuracy: 0.9309\n",
            "Epoch 42/200\n",
            "381/381 [==============================] - 0s 122us/sample - loss: 0.2080 - accuracy: 0.9475 - val_loss: 0.2091 - val_accuracy: 0.9309\n",
            "Epoch 43/200\n",
            "381/381 [==============================] - 0s 158us/sample - loss: 0.2043 - accuracy: 0.9475 - val_loss: 0.2061 - val_accuracy: 0.9362\n",
            "Epoch 44/200\n",
            "381/381 [==============================] - 0s 146us/sample - loss: 0.2009 - accuracy: 0.9475 - val_loss: 0.2029 - val_accuracy: 0.9362\n",
            "Epoch 45/200\n",
            "381/381 [==============================] - 0s 135us/sample - loss: 0.1973 - accuracy: 0.9501 - val_loss: 0.2000 - val_accuracy: 0.9362\n",
            "Epoch 46/200\n",
            "381/381 [==============================] - 0s 123us/sample - loss: 0.1940 - accuracy: 0.9501 - val_loss: 0.1973 - val_accuracy: 0.9362\n",
            "Epoch 47/200\n",
            "381/381 [==============================] - 0s 124us/sample - loss: 0.1908 - accuracy: 0.9528 - val_loss: 0.1948 - val_accuracy: 0.9362\n",
            "Epoch 48/200\n",
            "381/381 [==============================] - 0s 132us/sample - loss: 0.1879 - accuracy: 0.9528 - val_loss: 0.1922 - val_accuracy: 0.9362\n",
            "Epoch 49/200\n",
            "381/381 [==============================] - 0s 120us/sample - loss: 0.1848 - accuracy: 0.9528 - val_loss: 0.1898 - val_accuracy: 0.9362\n",
            "Epoch 50/200\n",
            "381/381 [==============================] - 0s 121us/sample - loss: 0.1820 - accuracy: 0.9528 - val_loss: 0.1872 - val_accuracy: 0.9362\n",
            "Epoch 51/200\n",
            "381/381 [==============================] - 0s 149us/sample - loss: 0.1791 - accuracy: 0.9528 - val_loss: 0.1849 - val_accuracy: 0.9362\n",
            "Epoch 52/200\n",
            "381/381 [==============================] - 0s 122us/sample - loss: 0.1764 - accuracy: 0.9528 - val_loss: 0.1827 - val_accuracy: 0.9362\n",
            "Epoch 53/200\n",
            "381/381 [==============================] - 0s 120us/sample - loss: 0.1740 - accuracy: 0.9528 - val_loss: 0.1804 - val_accuracy: 0.9362\n",
            "Epoch 54/200\n",
            "381/381 [==============================] - 0s 138us/sample - loss: 0.1712 - accuracy: 0.9528 - val_loss: 0.1783 - val_accuracy: 0.9362\n",
            "Epoch 55/200\n",
            "381/381 [==============================] - 0s 126us/sample - loss: 0.1688 - accuracy: 0.9554 - val_loss: 0.1763 - val_accuracy: 0.9362\n",
            "Epoch 56/200\n",
            "381/381 [==============================] - 0s 150us/sample - loss: 0.1664 - accuracy: 0.9580 - val_loss: 0.1743 - val_accuracy: 0.9362\n",
            "Epoch 57/200\n",
            "381/381 [==============================] - 0s 127us/sample - loss: 0.1643 - accuracy: 0.9580 - val_loss: 0.1724 - val_accuracy: 0.9362\n",
            "Epoch 58/200\n",
            "381/381 [==============================] - 0s 134us/sample - loss: 0.1618 - accuracy: 0.9580 - val_loss: 0.1707 - val_accuracy: 0.9362\n",
            "Epoch 59/200\n",
            "381/381 [==============================] - 0s 158us/sample - loss: 0.1596 - accuracy: 0.9580 - val_loss: 0.1691 - val_accuracy: 0.9362\n",
            "Epoch 60/200\n",
            "381/381 [==============================] - 0s 126us/sample - loss: 0.1577 - accuracy: 0.9580 - val_loss: 0.1672 - val_accuracy: 0.9362\n",
            "Epoch 61/200\n",
            "381/381 [==============================] - 0s 126us/sample - loss: 0.1554 - accuracy: 0.9606 - val_loss: 0.1657 - val_accuracy: 0.9362\n",
            "Epoch 62/200\n",
            "381/381 [==============================] - 0s 159us/sample - loss: 0.1536 - accuracy: 0.9606 - val_loss: 0.1640 - val_accuracy: 0.9362\n",
            "Epoch 63/200\n",
            "381/381 [==============================] - 0s 144us/sample - loss: 0.1516 - accuracy: 0.9606 - val_loss: 0.1625 - val_accuracy: 0.9362\n",
            "Epoch 64/200\n",
            "381/381 [==============================] - 0s 117us/sample - loss: 0.1497 - accuracy: 0.9633 - val_loss: 0.1611 - val_accuracy: 0.9362\n",
            "Epoch 65/200\n",
            "381/381 [==============================] - 0s 123us/sample - loss: 0.1478 - accuracy: 0.9633 - val_loss: 0.1597 - val_accuracy: 0.9362\n",
            "Epoch 66/200\n",
            "381/381 [==============================] - 0s 124us/sample - loss: 0.1460 - accuracy: 0.9633 - val_loss: 0.1583 - val_accuracy: 0.9362\n",
            "Epoch 67/200\n",
            "381/381 [==============================] - 0s 118us/sample - loss: 0.1443 - accuracy: 0.9633 - val_loss: 0.1570 - val_accuracy: 0.9362\n",
            "Epoch 68/200\n",
            "381/381 [==============================] - 0s 147us/sample - loss: 0.1428 - accuracy: 0.9633 - val_loss: 0.1556 - val_accuracy: 0.9362\n",
            "Epoch 69/200\n",
            "381/381 [==============================] - 0s 149us/sample - loss: 0.1410 - accuracy: 0.9633 - val_loss: 0.1544 - val_accuracy: 0.9362\n",
            "Epoch 70/200\n",
            "381/381 [==============================] - 0s 125us/sample - loss: 0.1394 - accuracy: 0.9633 - val_loss: 0.1531 - val_accuracy: 0.9362\n",
            "Epoch 71/200\n",
            "381/381 [==============================] - 0s 120us/sample - loss: 0.1378 - accuracy: 0.9633 - val_loss: 0.1520 - val_accuracy: 0.9362\n",
            "Epoch 72/200\n",
            "381/381 [==============================] - 0s 125us/sample - loss: 0.1363 - accuracy: 0.9633 - val_loss: 0.1508 - val_accuracy: 0.9362\n",
            "Epoch 73/200\n",
            "381/381 [==============================] - 0s 125us/sample - loss: 0.1348 - accuracy: 0.9659 - val_loss: 0.1498 - val_accuracy: 0.9362\n",
            "Epoch 74/200\n",
            "381/381 [==============================] - 0s 126us/sample - loss: 0.1335 - accuracy: 0.9659 - val_loss: 0.1487 - val_accuracy: 0.9362\n",
            "Epoch 75/200\n",
            "381/381 [==============================] - 0s 114us/sample - loss: 0.1321 - accuracy: 0.9659 - val_loss: 0.1476 - val_accuracy: 0.9362\n",
            "Epoch 76/200\n",
            "381/381 [==============================] - 0s 123us/sample - loss: 0.1307 - accuracy: 0.9659 - val_loss: 0.1467 - val_accuracy: 0.9362\n",
            "Epoch 77/200\n",
            "381/381 [==============================] - 0s 117us/sample - loss: 0.1294 - accuracy: 0.9659 - val_loss: 0.1457 - val_accuracy: 0.9362\n",
            "Epoch 78/200\n",
            "381/381 [==============================] - 0s 117us/sample - loss: 0.1281 - accuracy: 0.9659 - val_loss: 0.1447 - val_accuracy: 0.9362\n",
            "Epoch 79/200\n",
            "381/381 [==============================] - 0s 125us/sample - loss: 0.1268 - accuracy: 0.9685 - val_loss: 0.1438 - val_accuracy: 0.9362\n",
            "Epoch 80/200\n",
            "381/381 [==============================] - 0s 152us/sample - loss: 0.1256 - accuracy: 0.9685 - val_loss: 0.1429 - val_accuracy: 0.9362\n",
            "Epoch 81/200\n",
            "381/381 [==============================] - 0s 140us/sample - loss: 0.1244 - accuracy: 0.9685 - val_loss: 0.1420 - val_accuracy: 0.9468\n",
            "Epoch 82/200\n",
            "381/381 [==============================] - 0s 156us/sample - loss: 0.1233 - accuracy: 0.9685 - val_loss: 0.1411 - val_accuracy: 0.9521\n",
            "Epoch 83/200\n",
            "381/381 [==============================] - 0s 136us/sample - loss: 0.1221 - accuracy: 0.9711 - val_loss: 0.1403 - val_accuracy: 0.9521\n",
            "Epoch 84/200\n",
            "381/381 [==============================] - 0s 176us/sample - loss: 0.1210 - accuracy: 0.9711 - val_loss: 0.1395 - val_accuracy: 0.9521\n",
            "Epoch 85/200\n",
            "381/381 [==============================] - 0s 135us/sample - loss: 0.1200 - accuracy: 0.9711 - val_loss: 0.1387 - val_accuracy: 0.9521\n",
            "Epoch 86/200\n",
            "381/381 [==============================] - 0s 137us/sample - loss: 0.1189 - accuracy: 0.9711 - val_loss: 0.1379 - val_accuracy: 0.9521\n",
            "Epoch 87/200\n",
            "381/381 [==============================] - 0s 121us/sample - loss: 0.1179 - accuracy: 0.9711 - val_loss: 0.1372 - val_accuracy: 0.9574\n",
            "Epoch 88/200\n",
            "381/381 [==============================] - 0s 117us/sample - loss: 0.1169 - accuracy: 0.9738 - val_loss: 0.1365 - val_accuracy: 0.9574\n",
            "Epoch 89/200\n",
            "381/381 [==============================] - 0s 131us/sample - loss: 0.1160 - accuracy: 0.9738 - val_loss: 0.1358 - val_accuracy: 0.9574\n",
            "Epoch 90/200\n",
            "381/381 [==============================] - 0s 125us/sample - loss: 0.1151 - accuracy: 0.9738 - val_loss: 0.1351 - val_accuracy: 0.9574\n",
            "Epoch 91/200\n",
            "381/381 [==============================] - 0s 120us/sample - loss: 0.1141 - accuracy: 0.9738 - val_loss: 0.1344 - val_accuracy: 0.9574\n",
            "Epoch 92/200\n",
            "381/381 [==============================] - 0s 123us/sample - loss: 0.1132 - accuracy: 0.9738 - val_loss: 0.1338 - val_accuracy: 0.9574\n",
            "Epoch 93/200\n",
            "381/381 [==============================] - 0s 133us/sample - loss: 0.1123 - accuracy: 0.9738 - val_loss: 0.1332 - val_accuracy: 0.9574\n",
            "Epoch 94/200\n",
            "381/381 [==============================] - 0s 135us/sample - loss: 0.1114 - accuracy: 0.9738 - val_loss: 0.1326 - val_accuracy: 0.9574\n",
            "Epoch 95/200\n",
            "381/381 [==============================] - 0s 120us/sample - loss: 0.1106 - accuracy: 0.9764 - val_loss: 0.1319 - val_accuracy: 0.9574\n",
            "Epoch 96/200\n",
            "381/381 [==============================] - 0s 122us/sample - loss: 0.1098 - accuracy: 0.9764 - val_loss: 0.1314 - val_accuracy: 0.9574\n",
            "Epoch 97/200\n",
            "381/381 [==============================] - 0s 121us/sample - loss: 0.1090 - accuracy: 0.9764 - val_loss: 0.1308 - val_accuracy: 0.9574\n",
            "Epoch 98/200\n",
            "381/381 [==============================] - 0s 141us/sample - loss: 0.1082 - accuracy: 0.9764 - val_loss: 0.1303 - val_accuracy: 0.9574\n",
            "Epoch 99/200\n",
            "381/381 [==============================] - 0s 146us/sample - loss: 0.1074 - accuracy: 0.9790 - val_loss: 0.1297 - val_accuracy: 0.9574\n",
            "Epoch 100/200\n",
            "381/381 [==============================] - 0s 130us/sample - loss: 0.1067 - accuracy: 0.9790 - val_loss: 0.1291 - val_accuracy: 0.9574\n",
            "Epoch 101/200\n",
            "381/381 [==============================] - 0s 132us/sample - loss: 0.1059 - accuracy: 0.9790 - val_loss: 0.1286 - val_accuracy: 0.9574\n",
            "Epoch 102/200\n",
            "381/381 [==============================] - 0s 142us/sample - loss: 0.1052 - accuracy: 0.9816 - val_loss: 0.1281 - val_accuracy: 0.9574\n",
            "Epoch 103/200\n",
            "381/381 [==============================] - 0s 122us/sample - loss: 0.1045 - accuracy: 0.9816 - val_loss: 0.1275 - val_accuracy: 0.9574\n",
            "Epoch 104/200\n",
            "381/381 [==============================] - 0s 135us/sample - loss: 0.1038 - accuracy: 0.9816 - val_loss: 0.1271 - val_accuracy: 0.9574\n",
            "Epoch 105/200\n",
            "381/381 [==============================] - 0s 129us/sample - loss: 0.1031 - accuracy: 0.9816 - val_loss: 0.1266 - val_accuracy: 0.9574\n",
            "Epoch 106/200\n",
            "381/381 [==============================] - 0s 124us/sample - loss: 0.1025 - accuracy: 0.9816 - val_loss: 0.1262 - val_accuracy: 0.9574\n",
            "Epoch 107/200\n",
            "381/381 [==============================] - 0s 136us/sample - loss: 0.1018 - accuracy: 0.9816 - val_loss: 0.1257 - val_accuracy: 0.9574\n",
            "Epoch 108/200\n",
            "381/381 [==============================] - 0s 126us/sample - loss: 0.1012 - accuracy: 0.9816 - val_loss: 0.1253 - val_accuracy: 0.9574\n",
            "Epoch 109/200\n",
            "381/381 [==============================] - 0s 145us/sample - loss: 0.1005 - accuracy: 0.9816 - val_loss: 0.1248 - val_accuracy: 0.9574\n",
            "Epoch 110/200\n",
            "381/381 [==============================] - 0s 127us/sample - loss: 0.0999 - accuracy: 0.9816 - val_loss: 0.1243 - val_accuracy: 0.9574\n",
            "Epoch 111/200\n",
            "381/381 [==============================] - 0s 123us/sample - loss: 0.0993 - accuracy: 0.9816 - val_loss: 0.1240 - val_accuracy: 0.9574\n",
            "Epoch 112/200\n",
            "381/381 [==============================] - 0s 131us/sample - loss: 0.0987 - accuracy: 0.9816 - val_loss: 0.1236 - val_accuracy: 0.9574\n",
            "Epoch 113/200\n",
            "381/381 [==============================] - 0s 125us/sample - loss: 0.0981 - accuracy: 0.9843 - val_loss: 0.1232 - val_accuracy: 0.9574\n",
            "Epoch 114/200\n",
            "381/381 [==============================] - 0s 125us/sample - loss: 0.0976 - accuracy: 0.9843 - val_loss: 0.1227 - val_accuracy: 0.9574\n",
            "Epoch 115/200\n",
            "381/381 [==============================] - 0s 127us/sample - loss: 0.0970 - accuracy: 0.9843 - val_loss: 0.1223 - val_accuracy: 0.9574\n",
            "Epoch 116/200\n",
            "381/381 [==============================] - 0s 126us/sample - loss: 0.0964 - accuracy: 0.9816 - val_loss: 0.1220 - val_accuracy: 0.9574\n",
            "Epoch 117/200\n",
            "381/381 [==============================] - 0s 131us/sample - loss: 0.0959 - accuracy: 0.9816 - val_loss: 0.1216 - val_accuracy: 0.9574\n",
            "Epoch 118/200\n",
            "381/381 [==============================] - 0s 126us/sample - loss: 0.0954 - accuracy: 0.9816 - val_loss: 0.1213 - val_accuracy: 0.9574\n",
            "Epoch 119/200\n",
            "381/381 [==============================] - 0s 139us/sample - loss: 0.0949 - accuracy: 0.9816 - val_loss: 0.1209 - val_accuracy: 0.9574\n",
            "Epoch 120/200\n",
            "381/381 [==============================] - 0s 134us/sample - loss: 0.0943 - accuracy: 0.9816 - val_loss: 0.1205 - val_accuracy: 0.9574\n",
            "Epoch 121/200\n",
            "381/381 [==============================] - 0s 135us/sample - loss: 0.0939 - accuracy: 0.9816 - val_loss: 0.1201 - val_accuracy: 0.9574\n",
            "Epoch 122/200\n",
            "381/381 [==============================] - 0s 135us/sample - loss: 0.0933 - accuracy: 0.9816 - val_loss: 0.1198 - val_accuracy: 0.9574\n",
            "Epoch 123/200\n",
            "381/381 [==============================] - 0s 133us/sample - loss: 0.0928 - accuracy: 0.9816 - val_loss: 0.1195 - val_accuracy: 0.9574\n",
            "Epoch 124/200\n",
            "381/381 [==============================] - 0s 148us/sample - loss: 0.0924 - accuracy: 0.9816 - val_loss: 0.1192 - val_accuracy: 0.9574\n",
            "Epoch 125/200\n",
            "381/381 [==============================] - 0s 159us/sample - loss: 0.0919 - accuracy: 0.9816 - val_loss: 0.1188 - val_accuracy: 0.9574\n",
            "Epoch 126/200\n",
            "381/381 [==============================] - 0s 127us/sample - loss: 0.0914 - accuracy: 0.9816 - val_loss: 0.1185 - val_accuracy: 0.9574\n",
            "Epoch 127/200\n",
            "381/381 [==============================] - 0s 151us/sample - loss: 0.0910 - accuracy: 0.9816 - val_loss: 0.1182 - val_accuracy: 0.9574\n",
            "Epoch 128/200\n",
            "381/381 [==============================] - 0s 129us/sample - loss: 0.0905 - accuracy: 0.9816 - val_loss: 0.1179 - val_accuracy: 0.9574\n",
            "Epoch 129/200\n",
            "381/381 [==============================] - 0s 130us/sample - loss: 0.0901 - accuracy: 0.9816 - val_loss: 0.1176 - val_accuracy: 0.9574\n",
            "Epoch 130/200\n",
            "381/381 [==============================] - 0s 149us/sample - loss: 0.0896 - accuracy: 0.9816 - val_loss: 0.1173 - val_accuracy: 0.9574\n",
            "Epoch 131/200\n",
            "381/381 [==============================] - 0s 129us/sample - loss: 0.0892 - accuracy: 0.9843 - val_loss: 0.1170 - val_accuracy: 0.9574\n",
            "Epoch 132/200\n",
            "381/381 [==============================] - 0s 126us/sample - loss: 0.0888 - accuracy: 0.9843 - val_loss: 0.1168 - val_accuracy: 0.9574\n",
            "Epoch 133/200\n",
            "381/381 [==============================] - 0s 122us/sample - loss: 0.0884 - accuracy: 0.9843 - val_loss: 0.1165 - val_accuracy: 0.9574\n",
            "Epoch 134/200\n",
            "381/381 [==============================] - 0s 126us/sample - loss: 0.0879 - accuracy: 0.9843 - val_loss: 0.1162 - val_accuracy: 0.9574\n",
            "Epoch 135/200\n",
            "381/381 [==============================] - 0s 146us/sample - loss: 0.0875 - accuracy: 0.9843 - val_loss: 0.1159 - val_accuracy: 0.9574\n",
            "Epoch 136/200\n",
            "381/381 [==============================] - 0s 132us/sample - loss: 0.0871 - accuracy: 0.9843 - val_loss: 0.1157 - val_accuracy: 0.9574\n",
            "Epoch 137/200\n",
            "381/381 [==============================] - 0s 130us/sample - loss: 0.0868 - accuracy: 0.9843 - val_loss: 0.1154 - val_accuracy: 0.9574\n",
            "Epoch 138/200\n",
            "381/381 [==============================] - 0s 142us/sample - loss: 0.0863 - accuracy: 0.9843 - val_loss: 0.1152 - val_accuracy: 0.9574\n",
            "Epoch 139/200\n",
            "381/381 [==============================] - 0s 162us/sample - loss: 0.0860 - accuracy: 0.9843 - val_loss: 0.1150 - val_accuracy: 0.9574\n",
            "Epoch 140/200\n",
            "381/381 [==============================] - 0s 181us/sample - loss: 0.0856 - accuracy: 0.9843 - val_loss: 0.1147 - val_accuracy: 0.9574\n",
            "Epoch 141/200\n",
            "381/381 [==============================] - 0s 138us/sample - loss: 0.0852 - accuracy: 0.9843 - val_loss: 0.1144 - val_accuracy: 0.9574\n",
            "Epoch 142/200\n",
            "381/381 [==============================] - 0s 129us/sample - loss: 0.0849 - accuracy: 0.9843 - val_loss: 0.1142 - val_accuracy: 0.9574\n",
            "Epoch 143/200\n",
            "381/381 [==============================] - 0s 149us/sample - loss: 0.0845 - accuracy: 0.9843 - val_loss: 0.1140 - val_accuracy: 0.9574\n",
            "Epoch 144/200\n",
            "381/381 [==============================] - 0s 136us/sample - loss: 0.0841 - accuracy: 0.9843 - val_loss: 0.1138 - val_accuracy: 0.9574\n",
            "Epoch 145/200\n",
            "381/381 [==============================] - 0s 124us/sample - loss: 0.0838 - accuracy: 0.9843 - val_loss: 0.1135 - val_accuracy: 0.9574\n",
            "Epoch 146/200\n",
            "381/381 [==============================] - 0s 122us/sample - loss: 0.0834 - accuracy: 0.9843 - val_loss: 0.1133 - val_accuracy: 0.9574\n",
            "Epoch 147/200\n",
            "381/381 [==============================] - 0s 153us/sample - loss: 0.0831 - accuracy: 0.9843 - val_loss: 0.1131 - val_accuracy: 0.9574\n",
            "Epoch 148/200\n",
            "381/381 [==============================] - 0s 156us/sample - loss: 0.0828 - accuracy: 0.9843 - val_loss: 0.1129 - val_accuracy: 0.9574\n",
            "Epoch 149/200\n",
            "381/381 [==============================] - 0s 160us/sample - loss: 0.0824 - accuracy: 0.9843 - val_loss: 0.1127 - val_accuracy: 0.9574\n",
            "Epoch 150/200\n",
            "381/381 [==============================] - 0s 130us/sample - loss: 0.0821 - accuracy: 0.9843 - val_loss: 0.1125 - val_accuracy: 0.9574\n",
            "Epoch 151/200\n",
            "381/381 [==============================] - 0s 116us/sample - loss: 0.0817 - accuracy: 0.9843 - val_loss: 0.1122 - val_accuracy: 0.9574\n",
            "Epoch 152/200\n",
            "381/381 [==============================] - 0s 133us/sample - loss: 0.0814 - accuracy: 0.9843 - val_loss: 0.1121 - val_accuracy: 0.9574\n",
            "Epoch 153/200\n",
            "381/381 [==============================] - 0s 147us/sample - loss: 0.0811 - accuracy: 0.9843 - val_loss: 0.1119 - val_accuracy: 0.9574\n",
            "Epoch 154/200\n",
            "381/381 [==============================] - 0s 128us/sample - loss: 0.0808 - accuracy: 0.9843 - val_loss: 0.1117 - val_accuracy: 0.9574\n",
            "Epoch 155/200\n",
            "381/381 [==============================] - 0s 115us/sample - loss: 0.0805 - accuracy: 0.9843 - val_loss: 0.1115 - val_accuracy: 0.9574\n",
            "Epoch 156/200\n",
            "381/381 [==============================] - 0s 117us/sample - loss: 0.0802 - accuracy: 0.9843 - val_loss: 0.1113 - val_accuracy: 0.9574\n",
            "Epoch 157/200\n",
            "381/381 [==============================] - 0s 142us/sample - loss: 0.0799 - accuracy: 0.9843 - val_loss: 0.1111 - val_accuracy: 0.9574\n",
            "Epoch 158/200\n",
            "381/381 [==============================] - 0s 129us/sample - loss: 0.0796 - accuracy: 0.9843 - val_loss: 0.1110 - val_accuracy: 0.9574\n",
            "Epoch 159/200\n",
            "381/381 [==============================] - 0s 150us/sample - loss: 0.0793 - accuracy: 0.9843 - val_loss: 0.1108 - val_accuracy: 0.9574\n",
            "Epoch 160/200\n",
            "381/381 [==============================] - 0s 128us/sample - loss: 0.0790 - accuracy: 0.9843 - val_loss: 0.1107 - val_accuracy: 0.9574\n",
            "Epoch 161/200\n",
            "381/381 [==============================] - 0s 123us/sample - loss: 0.0787 - accuracy: 0.9869 - val_loss: 0.1105 - val_accuracy: 0.9574\n",
            "Epoch 162/200\n",
            "381/381 [==============================] - 0s 122us/sample - loss: 0.0784 - accuracy: 0.9869 - val_loss: 0.1103 - val_accuracy: 0.9574\n",
            "Epoch 163/200\n",
            "381/381 [==============================] - 0s 144us/sample - loss: 0.0781 - accuracy: 0.9869 - val_loss: 0.1101 - val_accuracy: 0.9574\n",
            "Epoch 164/200\n",
            "381/381 [==============================] - 0s 139us/sample - loss: 0.0779 - accuracy: 0.9869 - val_loss: 0.1100 - val_accuracy: 0.9574\n",
            "Epoch 165/200\n",
            "381/381 [==============================] - 0s 130us/sample - loss: 0.0776 - accuracy: 0.9869 - val_loss: 0.1098 - val_accuracy: 0.9574\n",
            "Epoch 166/200\n",
            "381/381 [==============================] - 0s 129us/sample - loss: 0.0773 - accuracy: 0.9869 - val_loss: 0.1097 - val_accuracy: 0.9574\n",
            "Epoch 167/200\n",
            "381/381 [==============================] - 0s 129us/sample - loss: 0.0771 - accuracy: 0.9869 - val_loss: 0.1096 - val_accuracy: 0.9574\n",
            "Epoch 168/200\n",
            "381/381 [==============================] - 0s 115us/sample - loss: 0.0768 - accuracy: 0.9869 - val_loss: 0.1094 - val_accuracy: 0.9574\n",
            "Epoch 169/200\n",
            "381/381 [==============================] - 0s 130us/sample - loss: 0.0765 - accuracy: 0.9869 - val_loss: 0.1092 - val_accuracy: 0.9574\n",
            "Epoch 170/200\n",
            "381/381 [==============================] - 0s 181us/sample - loss: 0.0763 - accuracy: 0.9869 - val_loss: 0.1091 - val_accuracy: 0.9574\n",
            "Epoch 171/200\n",
            "381/381 [==============================] - 0s 139us/sample - loss: 0.0760 - accuracy: 0.9869 - val_loss: 0.1090 - val_accuracy: 0.9574\n",
            "Epoch 172/200\n",
            "381/381 [==============================] - 0s 148us/sample - loss: 0.0757 - accuracy: 0.9869 - val_loss: 0.1089 - val_accuracy: 0.9574\n",
            "Epoch 173/200\n",
            "381/381 [==============================] - 0s 129us/sample - loss: 0.0755 - accuracy: 0.9869 - val_loss: 0.1086 - val_accuracy: 0.9574\n",
            "Epoch 174/200\n",
            "381/381 [==============================] - 0s 132us/sample - loss: 0.0752 - accuracy: 0.9869 - val_loss: 0.1085 - val_accuracy: 0.9574\n",
            "Epoch 175/200\n",
            "381/381 [==============================] - 0s 139us/sample - loss: 0.0750 - accuracy: 0.9869 - val_loss: 0.1084 - val_accuracy: 0.9574\n",
            "Epoch 176/200\n",
            "381/381 [==============================] - 0s 118us/sample - loss: 0.0747 - accuracy: 0.9869 - val_loss: 0.1083 - val_accuracy: 0.9574\n",
            "Epoch 177/200\n",
            "381/381 [==============================] - 0s 132us/sample - loss: 0.0745 - accuracy: 0.9869 - val_loss: 0.1082 - val_accuracy: 0.9574\n",
            "Epoch 178/200\n",
            "381/381 [==============================] - 0s 128us/sample - loss: 0.0742 - accuracy: 0.9869 - val_loss: 0.1081 - val_accuracy: 0.9574\n",
            "Epoch 179/200\n",
            "381/381 [==============================] - 0s 142us/sample - loss: 0.0740 - accuracy: 0.9869 - val_loss: 0.1080 - val_accuracy: 0.9574\n",
            "Epoch 180/200\n",
            "381/381 [==============================] - 0s 117us/sample - loss: 0.0738 - accuracy: 0.9869 - val_loss: 0.1078 - val_accuracy: 0.9574\n",
            "Epoch 181/200\n",
            "381/381 [==============================] - 0s 114us/sample - loss: 0.0735 - accuracy: 0.9869 - val_loss: 0.1077 - val_accuracy: 0.9574\n",
            "Epoch 182/200\n",
            "381/381 [==============================] - 0s 139us/sample - loss: 0.0733 - accuracy: 0.9869 - val_loss: 0.1076 - val_accuracy: 0.9574\n",
            "Epoch 183/200\n",
            "381/381 [==============================] - 0s 136us/sample - loss: 0.0731 - accuracy: 0.9869 - val_loss: 0.1075 - val_accuracy: 0.9574\n",
            "Epoch 184/200\n",
            "381/381 [==============================] - 0s 164us/sample - loss: 0.0729 - accuracy: 0.9869 - val_loss: 0.1073 - val_accuracy: 0.9574\n",
            "Epoch 185/200\n",
            "381/381 [==============================] - 0s 159us/sample - loss: 0.0727 - accuracy: 0.9869 - val_loss: 0.1072 - val_accuracy: 0.9574\n",
            "Epoch 186/200\n",
            "381/381 [==============================] - 0s 125us/sample - loss: 0.0724 - accuracy: 0.9869 - val_loss: 0.1072 - val_accuracy: 0.9574\n",
            "Epoch 187/200\n",
            "381/381 [==============================] - 0s 132us/sample - loss: 0.0722 - accuracy: 0.9869 - val_loss: 0.1071 - val_accuracy: 0.9574\n",
            "Epoch 188/200\n",
            "381/381 [==============================] - 0s 142us/sample - loss: 0.0720 - accuracy: 0.9869 - val_loss: 0.1069 - val_accuracy: 0.9574\n",
            "Epoch 189/200\n",
            "381/381 [==============================] - 0s 147us/sample - loss: 0.0718 - accuracy: 0.9869 - val_loss: 0.1068 - val_accuracy: 0.9574\n",
            "Epoch 190/200\n",
            "381/381 [==============================] - 0s 123us/sample - loss: 0.0715 - accuracy: 0.9869 - val_loss: 0.1067 - val_accuracy: 0.9574\n",
            "Epoch 191/200\n",
            "381/381 [==============================] - 0s 123us/sample - loss: 0.0713 - accuracy: 0.9869 - val_loss: 0.1066 - val_accuracy: 0.9574\n",
            "Epoch 192/200\n",
            "381/381 [==============================] - 0s 128us/sample - loss: 0.0711 - accuracy: 0.9869 - val_loss: 0.1066 - val_accuracy: 0.9574\n",
            "Epoch 193/200\n",
            "381/381 [==============================] - 0s 127us/sample - loss: 0.0709 - accuracy: 0.9869 - val_loss: 0.1065 - val_accuracy: 0.9574\n",
            "Epoch 194/200\n",
            "381/381 [==============================] - 0s 135us/sample - loss: 0.0707 - accuracy: 0.9869 - val_loss: 0.1064 - val_accuracy: 0.9574\n",
            "Epoch 195/200\n",
            "381/381 [==============================] - 0s 159us/sample - loss: 0.0705 - accuracy: 0.9869 - val_loss: 0.1063 - val_accuracy: 0.9574\n",
            "Epoch 196/200\n",
            "381/381 [==============================] - 0s 133us/sample - loss: 0.0703 - accuracy: 0.9869 - val_loss: 0.1062 - val_accuracy: 0.9574\n",
            "Epoch 197/200\n",
            "381/381 [==============================] - 0s 126us/sample - loss: 0.0701 - accuracy: 0.9869 - val_loss: 0.1062 - val_accuracy: 0.9574\n",
            "Epoch 198/200\n",
            "381/381 [==============================] - 0s 143us/sample - loss: 0.0699 - accuracy: 0.9869 - val_loss: 0.1060 - val_accuracy: 0.9574\n",
            "Epoch 199/200\n",
            "381/381 [==============================] - 0s 148us/sample - loss: 0.0697 - accuracy: 0.9869 - val_loss: 0.1060 - val_accuracy: 0.9574\n",
            "Epoch 200/200\n",
            "381/381 [==============================] - 0s 166us/sample - loss: 0.0695 - accuracy: 0.9869 - val_loss: 0.1059 - val_accuracy: 0.9574\n"
          ],
          "name": "stdout"
        }
      ]
    },
    {
      "cell_type": "code",
      "metadata": {
        "id": "HaACKIgY93Ya",
        "colab_type": "code",
        "outputId": "ccc3cded-c767-4519-a047-ff0005649bde",
        "colab": {
          "base_uri": "https://localhost:8080/",
          "height": 191
        }
      },
      "source": [
        "# We now evaluate the model\n",
        "\n",
        "print(\"Model1:\")\n",
        "print(\"Train score:\", model.evaluate(X_train, y_train))\n",
        "print(\"Test score:\", model.evaluate(X_test, y_test))\n",
        "\n",
        "print(\"Model2:\")\n",
        "print(\"Train score:\", model2.evaluate(X_train, y_train))\n",
        "print(\"Test score:\", model2.evaluate(X_test, y_test))"
      ],
      "execution_count": 10,
      "outputs": [
        {
          "output_type": "stream",
          "text": [
            "Model1:\n",
            "381/381 [==============================] - 0s 60us/sample - loss: 0.0585 - accuracy: 0.9869\n",
            "Train score: [0.058514195032359106, 0.98687667]\n",
            "188/188 [==============================] - 0s 80us/sample - loss: 0.1060 - accuracy: 0.9574\n",
            "Test score: [0.10599766322906981, 0.9574468]\n",
            "Model2:\n",
            "381/381 [==============================] - 0s 59us/sample - loss: 0.0694 - accuracy: 0.9869\n",
            "Train score: [0.06938496323942825, 0.98687667]\n",
            "188/188 [==============================] - 0s 85us/sample - loss: 0.1059 - accuracy: 0.9574\n",
            "Test score: [0.10590110846022342, 0.9574468]\n"
          ],
          "name": "stdout"
        }
      ]
    },
    {
      "cell_type": "code",
      "metadata": {
        "id": "-pyU8jRx-L8L",
        "colab_type": "code",
        "outputId": "5be6a7a6-4fc3-41cb-a255-50c299263674",
        "colab": {
          "base_uri": "https://localhost:8080/",
          "height": 298
        }
      },
      "source": [
        "# The obtained accuracty is about 97% on both the train and test sets, for both models.\n",
        "# We now plot what has been returned by the fit function, as weel as the accuracy.\n",
        "\n",
        "# Plot what's returned by model.fit()\n",
        "plt.plot(r.history['loss'], label='loss')\n",
        "plt.plot(r.history['val_loss'], label='val_loss')\n",
        "plt.title(\"Model1\")\n",
        "plt.legend()"
      ],
      "execution_count": 11,
      "outputs": [
        {
          "output_type": "execute_result",
          "data": {
            "text/plain": [
              "<matplotlib.legend.Legend at 0x7fcde01842b0>"
            ]
          },
          "metadata": {
            "tags": []
          },
          "execution_count": 11
        },
        {
          "output_type": "display_data",
          "data": {
            "image/png": "[encoded data removed]",
            "text/plain": [
              "<Figure size 432x288 with 1 Axes>"
            ]
          },
          "metadata": {
            "tags": []
          }
        }
      ]
    },
    {
      "cell_type": "code",
      "metadata": {
        "id": "clFkOabM-rVz",
        "colab_type": "code",
        "outputId": "543e0a27-9dcc-4ecc-d9ef-a7cdc43a306a",
        "colab": {
          "base_uri": "https://localhost:8080/",
          "height": 298
        }
      },
      "source": [
        "plt.plot(r2.history['loss'], label='loss')\n",
        "plt.plot(r2.history['val_loss'], label='val_loss')\n",
        "plt.title(\"Model2\")\n",
        "plt.legend()"
      ],
      "execution_count": 12,
      "outputs": [
        {
          "output_type": "execute_result",
          "data": {
            "text/plain": [
              "<matplotlib.legend.Legend at 0x7fcde02206d8>"
            ]
          },
          "metadata": {
            "tags": []
          },
          "execution_count": 12
        },
        {
          "output_type": "display_data",
          "data": {
            "image/png": "[encoded data removed]",
            "text/plain": [
              "<Figure size 432x288 with 1 Axes>"
            ]
          },
          "metadata": {
            "tags": []
          }
        }
      ]
    },
    {
      "cell_type": "code",
      "metadata": {
        "id": "EMeCHj2k-w9Z",
        "colab_type": "code",
        "outputId": "fa29fc30-0ee4-48e5-ae6d-67a1af841ed3",
        "colab": {
          "base_uri": "https://localhost:8080/",
          "height": 282
        }
      },
      "source": [
        "# Plot the accuracy too\n",
        "plt.plot(r.history['accuracy'], label='acc')\n",
        "plt.plot(r.history['val_accuracy'], label='val_acc')\n",
        "plt.legend()"
      ],
      "execution_count": 13,
      "outputs": [
        {
          "output_type": "execute_result",
          "data": {
            "text/plain": [
              "<matplotlib.legend.Legend at 0x7fcde011bf98>"
            ]
          },
          "metadata": {
            "tags": []
          },
          "execution_count": 13
        },
        {
          "output_type": "display_data",
          "data": {
            "image/png": "[encoded data removed]",
            "text/plain": [
              "<Figure size 432x288 with 1 Axes>"
            ]
          },
          "metadata": {
            "tags": []
          }
        }
      ]
    },
    {
      "cell_type": "code",
      "metadata": {
        "id": "6mUiSSCq-7Ce",
        "colab_type": "code",
        "outputId": "0871cbb6-73a9-4eb8-b3ba-6336f5b9ee15",
        "colab": {
          "base_uri": "https://localhost:8080/",
          "height": 282
        }
      },
      "source": [
        "\n",
        "plt.plot(r2.history['accuracy'], label='acc')\n",
        "plt.plot(r2.history['val_accuracy'], label='val_acc')\n",
        "plt.legend()"
      ],
      "execution_count": 14,
      "outputs": [
        {
          "output_type": "execute_result",
          "data": {
            "text/plain": [
              "<matplotlib.legend.Legend at 0x7fcde0085a58>"
            ]
          },
          "metadata": {
            "tags": []
          },
          "execution_count": 14
        },
        {
          "output_type": "display_data",
          "data": {
            "image/png": "[encoded data removed]",
            "text/plain": [
              "<Figure size 432x288 with 1 Axes>"
            ]
          },
          "metadata": {
            "tags": []
          }
        }
      ]
    },
    {
      "cell_type": "markdown",
      "metadata": {
        "id": "Th7Ct7-fTqnP",
        "colab_type": "text"
      },
      "source": [
        "# Part 2 - Making Predictions\n",
        "\n",
        "This code looks at how the previously trained models can be used in order to generate predictions"
      ]
    },
    {
      "cell_type": "code",
      "metadata": {
        "id": "4jjZsDr-Tyd2",
        "colab_type": "code",
        "colab": {}
      },
      "source": [
        "# We first want to make a prediction. These values are probabilities\n",
        "Predicted = model2.predict(X_test)"
      ],
      "execution_count": 0,
      "outputs": []
    },
    {
      "cell_type": "code",
      "metadata": {
        "id": "zSvqYPjRUUaA",
        "colab_type": "code",
        "colab": {}
      },
      "source": [
        "# To get actual classes, the Prediction values need to be rounded.\n",
        "# The predicted values also need to be flatten, to match the target size (N,)\n",
        "\n",
        "Predicted = np.round(Predicted).flatten()"
      ],
      "execution_count": 0,
      "outputs": []
    },
    {
      "cell_type": "code",
      "metadata": {
        "id": "O8qzV8hIUVoJ",
        "colab_type": "code",
        "colab": {
          "base_uri": "https://localhost:8080/",
          "height": 69
        },
        "outputId": "8eb414e5-bb85-4906-b97d-cdcf4fe1b711"
      },
      "source": [
        "# Finally, we calculate the accuracy, both manually and using the evaluate function.\n",
        "print(\"Manual calculation:\", np.mean(Predicted==y_test))\n",
        "print(\"Evaluate calculation:\", model2.evaluate(X_test, y_test))"
      ],
      "execution_count": 21,
      "outputs": [
        {
          "output_type": "stream",
          "text": [
            "Manual calculation: 0.9574468085106383\n",
            "188/188 [==============================] - 0s 86us/sample - loss: 0.1059 - accuracy: 0.9574\n",
            "Evaluate calculation: [0.10590110846022342, 0.9574468]\n"
          ],
          "name": "stdout"
        }
      ]
    },
    {
      "cell_type": "markdown",
      "metadata": {
        "id": "XESzuZRxWS3L",
        "colab_type": "text"
      },
      "source": [
        "# Part 3 - Making Predictions\n",
        "\n",
        "This code looks at how the above model can be saved."
      ]
    },
    {
      "cell_type": "code",
      "metadata": {
        "id": "fc_Dx2tzWQUa",
        "colab_type": "code",
        "colab": {}
      },
      "source": [
        "model2.save('linear_classification.h5')"
      ],
      "execution_count": 0,
      "outputs": []
    },
    {
      "cell_type": "code",
      "metadata": {
        "id": "9xd6uauEXROE",
        "colab_type": "code",
        "colab": {
          "base_uri": "https://localhost:8080/",
          "height": 69
        },
        "outputId": "29d671d4-dd66-4d73-f05e-216a22501318"
      },
      "source": [
        "# Confirming file stored locally.\n",
        "!ls -lh"
      ],
      "execution_count": 24,
      "outputs": [
        {
          "output_type": "stream",
          "text": [
            "total 24K\n",
            "-rw-r--r-- 1 root root  19K Feb 10 18:29 linear_classification.h5\n",
            "drwxr-xr-x 1 root root 4.0K Feb  5 18:37 sample_data\n"
          ],
          "name": "stdout"
        }
      ]
    },
    {
      "cell_type": "code",
      "metadata": {
        "id": "VLbMYinwXUfv",
        "colab_type": "code",
        "colab": {
          "base_uri": "https://localhost:8080/",
          "height": 69
        },
        "outputId": "2c8d8df1-fae8-4a86-dadf-838779ffb8c6"
      },
      "source": [
        "# Let's load the model and confirm that it still works\n",
        "# Note: there is a bug in Keras where load/save only works if you DON'T use the Input() layer explicitly\n",
        "# So, make sure you define the model with ONLY Dense(1, input_shape=(D,))\n",
        "# At least, until the bug is fixed\n",
        "# https://github.com/keras-team/keras/issues/10417\n",
        "\n",
        "model = tf.keras.models.load_model('linear_classification.h5')\n",
        "print(model.layers)\n",
        "model.evaluate(X_test, y_test)"
      ],
      "execution_count": 26,
      "outputs": [
        {
          "output_type": "stream",
          "text": [
            "[<tensorflow.python.keras.layers.core.Dense object at 0x7fcde03aacf8>]\n",
            "188/188 [==============================] - 0s 423us/sample - loss: 0.1059 - accuracy: 0.9574\n"
          ],
          "name": "stdout"
        },
        {
          "output_type": "execute_result",
          "data": {
            "text/plain": [
              "[0.10590110846022342, 0.9574468]"
            ]
          },
          "metadata": {
            "tags": []
          },
          "execution_count": 26
        }
      ]
    },
    {
      "cell_type": "code",
      "metadata": {
        "id": "j0sUcK1bXX1k",
        "colab_type": "code",
        "colab": {}
      },
      "source": [
        "# Download the file - requires Chrome (at this point)\n",
        "from google.colab import files\n",
        "files.download('linear_classification.h5')"
      ],
      "execution_count": 0,
      "outputs": []
    },
    {
      "cell_type": "code",
      "metadata": {
        "id": "IT_2rqs3Xf0t",
        "colab_type": "code",
        "colab": {}
      },
      "source": [
        ""
      ],
      "execution_count": 0,
      "outputs": []
    }
  ]
}