{
  "nbformat": 4,
  "nbformat_minor": 0,
  "metadata": {
    "colab": {
      "name": "Linear_Classification.ipynb",
      "provenance": [],
      "collapsed_sections": []
    },
    "kernelspec": {
      "name": "python3",
      "display_name": "Python 3"
    },
    "accelerator": "GPU"
  },
  "cells": [
    {
      "cell_type": "markdown",
      "metadata": {
        "id": "Z-rpd6G83DIJ"
      },
      "source": [
        "# Part 1 - Model Training\n",
        "\n",
        "This code looks at creating a linear classification algorithm, assessing if a tumor is malignent or benign. "
      ]
    },
    {
      "cell_type": "code",
      "metadata": {
        "id": "UBi-9FEL3gCo",
        "outputId": "4a9b9ca8-1521-4434-fc40-df7e78d8d9a1",
        "colab": {
          "base_uri": "https://localhost:8080/"
        }
      },
      "source": [
        "# We first verify the correct version of TF installed\n",
        "# !pip install -q tensorflow-gpu==2.1.0\n",
        "\n",
        "try:\n",
        "  # %tensorflow_version only exists in Colab.\n",
        "  %tensorflow_version 2.x\n",
        "except Exception:\n",
        "  pass\n",
        "\n",
        "import tensorflow as tf\n",
        "print(tf.__version__)\n",
        "from sklearn.datasets import load_breast_cancer\n",
        "from sklearn.model_selection import train_test_split\n",
        "from sklearn.preprocessing import StandardScaler\n",
        "import matplotlib.pyplot as plt\n",
        "import numpy as np\n",
        "import seaborn as sns\n",
        "sns.set()"
      ],
      "execution_count": 2,
      "outputs": [
        {
          "output_type": "stream",
          "name": "stdout",
          "text": [
            "2.8.0\n"
          ]
        }
      ]
    },
    {
      "cell_type": "code",
      "metadata": {
        "id": "hNMNxcfr3oIB",
        "outputId": "ba01eb92-6d24-498b-b5ab-24e625c2ee07",
        "colab": {
          "base_uri": "https://localhost:8080/"
        }
      },
      "source": [
        "# Next, we load the data\n",
        "data = load_breast_cancer()\n",
        "print(\"Data Type:\", type(data))\n",
        "# The data is a Bunch objsect, meaning it is a dictionary, where the keys can be treated as atribus"
      ],
      "execution_count": 3,
      "outputs": [
        {
          "output_type": "stream",
          "name": "stdout",
          "text": [
            "Data Type: <class 'sklearn.utils.Bunch'>\n"
          ]
        }
      ]
    },
    {
      "cell_type": "code",
      "metadata": {
        "id": "rWwoF4S_4D2m",
        "outputId": "7d363b8d-42ca-4f60-bdb1-6236503683df",
        "colab": {
          "base_uri": "https://localhost:8080/"
        }
      },
      "source": [
        "data.keys()"
      ],
      "execution_count": 4,
      "outputs": [
        {
          "output_type": "execute_result",
          "data": {
            "text/plain": [
              "dict_keys(['data', 'target', 'frame', 'target_names', 'DESCR', 'feature_names', 'filename', 'data_module'])"
            ]
          },
          "metadata": {},
          "execution_count": 4
        }
      ]
    },
    {
      "cell_type": "code",
      "metadata": {
        "id": "sdwx451c4zZW",
        "outputId": "a48b3fbd-8a12-4a98-8c09-4783383d6e06",
        "colab": {
          "base_uri": "https://localhost:8080/"
        }
      },
      "source": [
        "data.data.shape # the data.data reffers to the input data"
      ],
      "execution_count": 5,
      "outputs": [
        {
          "output_type": "execute_result",
          "data": {
            "text/plain": [
              "(569, 30)"
            ]
          },
          "metadata": {},
          "execution_count": 5
        }
      ]
    },
    {
      "cell_type": "code",
      "metadata": {
        "id": "IDUack8y406D",
        "outputId": "e3aed853-d483-48d6-d965-182ffd7eca0e",
        "colab": {
          "base_uri": "https://localhost:8080/"
        }
      },
      "source": [
        "data.target.shape # the data.target reffers to the target/output data, a 1D array of 0s and 1s"
      ],
      "execution_count": 6,
      "outputs": [
        {
          "output_type": "execute_result",
          "data": {
            "text/plain": [
              "(569,)"
            ]
          },
          "metadata": {},
          "execution_count": 6
        }
      ]
    },
    {
      "cell_type": "code",
      "metadata": {
        "id": "SmRaAeVR49ZF",
        "outputId": "45f78a97-3011-40fa-d044-64c01f4e56a4",
        "colab": {
          "base_uri": "https://localhost:8080/"
        }
      },
      "source": [
        "# These ar ethe names of the various inputs and feature\n",
        "print(data.target_names)\n",
        "print(data.feature_names)"
      ],
      "execution_count": 7,
      "outputs": [
        {
          "output_type": "stream",
          "name": "stdout",
          "text": [
            "['malignant' 'benign']\n",
            "['mean radius' 'mean texture' 'mean perimeter' 'mean area'\n",
            " 'mean smoothness' 'mean compactness' 'mean concavity'\n",
            " 'mean concave points' 'mean symmetry' 'mean fractal dimension'\n",
            " 'radius error' 'texture error' 'perimeter error' 'area error'\n",
            " 'smoothness error' 'compactness error' 'concavity error'\n",
            " 'concave points error' 'symmetry error' 'fractal dimension error'\n",
            " 'worst radius' 'worst texture' 'worst perimeter' 'worst area'\n",
            " 'worst smoothness' 'worst compactness' 'worst concavity'\n",
            " 'worst concave points' 'worst symmetry' 'worst fractal dimension']\n"
          ]
        }
      ]
    },
    {
      "cell_type": "code",
      "metadata": {
        "id": "2vybJBaK5Rvg"
      },
      "source": [
        "# We split the data into train and test sets\n",
        "X_train, X_test, y_train, y_test = train_test_split(data.data, data.target, test_size=0.33)"
      ],
      "execution_count": 8,
      "outputs": []
    },
    {
      "cell_type": "code",
      "metadata": {
        "id": "zKSr8EFi5v7t"
      },
      "source": [
        "# We scale the data, to make sure the ranges/scales of all the inputs are similar.\n",
        "# We substract the mean and divide by the standard deviation\n",
        "\n",
        "X_train = StandardScaler().fit_transform(X_train)\n",
        "X_test = StandardScaler().fit_transform(X_test)\n",
        "\n",
        "N,D = X_train.shape"
      ],
      "execution_count": 9,
      "outputs": []
    },
    {
      "cell_type": "code",
      "metadata": {
        "id": "j8yRU-HC6RZi",
        "outputId": "c2abfa53-115c-4e17-acf2-8141f8678153",
        "colab": {
          "base_uri": "https://localhost:8080/"
        }
      },
      "source": [
        "# This is where the model is created\n",
        "# First, a model object is created. This is a Sequential-type object. \n",
        "# The object takes an input, which specifies the shape of the Input, while the Dense takes the input and does a linear transformation to get an output of sieze 1.\n",
        "\n",
        "model = tf.keras.models.Sequential(\n",
        "    [\n",
        "     tf.keras.layers.Input(shape=(D,)),\n",
        "     tf.keras.layers.Dense(1, activation='sigmoid')\n",
        "    ]\n",
        ")\n",
        "\n",
        "# Alternativelly, we can also define the model (model2) as follows. This allows us to add layers.\n",
        "\n",
        "model2 = tf.keras.models.Sequential()\n",
        "model2.add(tf.keras.layers.Dense(1, input_shape=(D,), activation='sigmoid'))\n",
        "\n",
        "# The next step is to compile the models.\n",
        "\n",
        "model.compile(\n",
        "    optimizer = 'adam',\n",
        "    loss = 'binary_crossentropy',\n",
        "    metrics = ['accuracy']\n",
        ")\n",
        "\n",
        "model2.compile(\n",
        "    optimizer = 'adam',\n",
        "    loss = 'binary_crossentropy',\n",
        "    metrics = ['accuracy']\n",
        ")\n",
        "\n",
        "# Then, we train the two models\n",
        "\n",
        "r = model.fit(X_train, y_train, validation_data = (X_test, y_test), epochs = 200)\n",
        "r2 = model2.fit(X_train, y_train, validation_data = (X_test, y_test), epochs = 200)"
      ],
      "execution_count": 10,
      "outputs": [
        {
          "output_type": "stream",
          "name": "stdout",
          "text": [
            "Epoch 1/200\n",
            "12/12 [==============================] - 3s 21ms/step - loss: 0.5262 - accuracy: 0.7795 - val_loss: 0.5809 - val_accuracy: 0.7447\n",
            "Epoch 2/200\n",
            "12/12 [==============================] - 0s 6ms/step - loss: 0.4894 - accuracy: 0.7927 - val_loss: 0.5465 - val_accuracy: 0.7553\n",
            "Epoch 3/200\n",
            "12/12 [==============================] - 0s 6ms/step - loss: 0.4569 - accuracy: 0.8215 - val_loss: 0.5149 - val_accuracy: 0.7713\n",
            "Epoch 4/200\n",
            "12/12 [==============================] - 0s 6ms/step - loss: 0.4265 - accuracy: 0.8373 - val_loss: 0.4877 - val_accuracy: 0.7872\n",
            "Epoch 5/200\n",
            "12/12 [==============================] - 0s 7ms/step - loss: 0.4001 - accuracy: 0.8556 - val_loss: 0.4628 - val_accuracy: 0.8085\n",
            "Epoch 6/200\n",
            "12/12 [==============================] - 0s 7ms/step - loss: 0.3768 - accuracy: 0.8714 - val_loss: 0.4395 - val_accuracy: 0.8298\n",
            "Epoch 7/200\n",
            "12/12 [==============================] - 0s 7ms/step - loss: 0.3553 - accuracy: 0.8845 - val_loss: 0.4185 - val_accuracy: 0.8511\n",
            "Epoch 8/200\n",
            "12/12 [==============================] - 0s 6ms/step - loss: 0.3357 - accuracy: 0.8845 - val_loss: 0.3998 - val_accuracy: 0.8564\n",
            "Epoch 9/200\n",
            "12/12 [==============================] - 0s 6ms/step - loss: 0.3183 - accuracy: 0.8924 - val_loss: 0.3826 - val_accuracy: 0.8564\n",
            "Epoch 10/200\n",
            "12/12 [==============================] - 0s 7ms/step - loss: 0.3024 - accuracy: 0.9003 - val_loss: 0.3672 - val_accuracy: 0.8564\n",
            "Epoch 11/200\n",
            "12/12 [==============================] - 0s 7ms/step - loss: 0.2877 - accuracy: 0.9055 - val_loss: 0.3534 - val_accuracy: 0.8670\n",
            "Epoch 12/200\n",
            "12/12 [==============================] - 0s 7ms/step - loss: 0.2746 - accuracy: 0.9081 - val_loss: 0.3403 - val_accuracy: 0.8670\n",
            "Epoch 13/200\n",
            "12/12 [==============================] - 0s 6ms/step - loss: 0.2627 - accuracy: 0.9108 - val_loss: 0.3284 - val_accuracy: 0.8723\n",
            "Epoch 14/200\n",
            "12/12 [==============================] - 0s 7ms/step - loss: 0.2514 - accuracy: 0.9108 - val_loss: 0.3176 - val_accuracy: 0.8830\n",
            "Epoch 15/200\n",
            "12/12 [==============================] - 0s 7ms/step - loss: 0.2412 - accuracy: 0.9134 - val_loss: 0.3077 - val_accuracy: 0.8830\n",
            "Epoch 16/200\n",
            "12/12 [==============================] - 0s 6ms/step - loss: 0.2322 - accuracy: 0.9186 - val_loss: 0.2981 - val_accuracy: 0.8830\n",
            "Epoch 17/200\n",
            "12/12 [==============================] - 0s 7ms/step - loss: 0.2238 - accuracy: 0.9239 - val_loss: 0.2891 - val_accuracy: 0.8936\n",
            "Epoch 18/200\n",
            "12/12 [==============================] - 0s 6ms/step - loss: 0.2154 - accuracy: 0.9265 - val_loss: 0.2815 - val_accuracy: 0.8989\n",
            "Epoch 19/200\n",
            "12/12 [==============================] - 0s 8ms/step - loss: 0.2084 - accuracy: 0.9318 - val_loss: 0.2740 - val_accuracy: 0.9043\n",
            "Epoch 20/200\n",
            "12/12 [==============================] - 0s 6ms/step - loss: 0.2018 - accuracy: 0.9344 - val_loss: 0.2669 - val_accuracy: 0.9043\n",
            "Epoch 21/200\n",
            "12/12 [==============================] - 0s 7ms/step - loss: 0.1953 - accuracy: 0.9344 - val_loss: 0.2606 - val_accuracy: 0.9096\n",
            "Epoch 22/200\n",
            "12/12 [==============================] - 0s 7ms/step - loss: 0.1896 - accuracy: 0.9344 - val_loss: 0.2544 - val_accuracy: 0.9096\n",
            "Epoch 23/200\n",
            "12/12 [==============================] - 0s 7ms/step - loss: 0.1841 - accuracy: 0.9344 - val_loss: 0.2490 - val_accuracy: 0.9096\n",
            "Epoch 24/200\n",
            "12/12 [==============================] - 0s 6ms/step - loss: 0.1791 - accuracy: 0.9396 - val_loss: 0.2435 - val_accuracy: 0.9149\n",
            "Epoch 25/200\n",
            "12/12 [==============================] - 0s 7ms/step - loss: 0.1744 - accuracy: 0.9423 - val_loss: 0.2384 - val_accuracy: 0.9149\n",
            "Epoch 26/200\n",
            "12/12 [==============================] - 0s 6ms/step - loss: 0.1700 - accuracy: 0.9423 - val_loss: 0.2335 - val_accuracy: 0.9149\n",
            "Epoch 27/200\n",
            "12/12 [==============================] - 0s 6ms/step - loss: 0.1660 - accuracy: 0.9423 - val_loss: 0.2289 - val_accuracy: 0.9149\n",
            "Epoch 28/200\n",
            "12/12 [==============================] - 0s 6ms/step - loss: 0.1618 - accuracy: 0.9423 - val_loss: 0.2249 - val_accuracy: 0.9149\n",
            "Epoch 29/200\n",
            "12/12 [==============================] - 0s 7ms/step - loss: 0.1585 - accuracy: 0.9396 - val_loss: 0.2207 - val_accuracy: 0.9149\n",
            "Epoch 30/200\n",
            "12/12 [==============================] - 0s 7ms/step - loss: 0.1547 - accuracy: 0.9396 - val_loss: 0.2171 - val_accuracy: 0.9202\n",
            "Epoch 31/200\n",
            "12/12 [==============================] - 0s 7ms/step - loss: 0.1514 - accuracy: 0.9396 - val_loss: 0.2136 - val_accuracy: 0.9202\n",
            "Epoch 32/200\n",
            "12/12 [==============================] - 0s 7ms/step - loss: 0.1483 - accuracy: 0.9449 - val_loss: 0.2102 - val_accuracy: 0.9202\n",
            "Epoch 33/200\n",
            "12/12 [==============================] - 0s 6ms/step - loss: 0.1454 - accuracy: 0.9475 - val_loss: 0.2069 - val_accuracy: 0.9255\n",
            "Epoch 34/200\n",
            "12/12 [==============================] - 0s 7ms/step - loss: 0.1426 - accuracy: 0.9475 - val_loss: 0.2040 - val_accuracy: 0.9255\n",
            "Epoch 35/200\n",
            "12/12 [==============================] - 0s 6ms/step - loss: 0.1400 - accuracy: 0.9501 - val_loss: 0.2009 - val_accuracy: 0.9255\n",
            "Epoch 36/200\n",
            "12/12 [==============================] - 0s 6ms/step - loss: 0.1373 - accuracy: 0.9501 - val_loss: 0.1981 - val_accuracy: 0.9255\n",
            "Epoch 37/200\n",
            "12/12 [==============================] - 0s 6ms/step - loss: 0.1349 - accuracy: 0.9501 - val_loss: 0.1953 - val_accuracy: 0.9255\n",
            "Epoch 38/200\n",
            "12/12 [==============================] - 0s 7ms/step - loss: 0.1326 - accuracy: 0.9501 - val_loss: 0.1930 - val_accuracy: 0.9255\n",
            "Epoch 39/200\n",
            "12/12 [==============================] - 0s 6ms/step - loss: 0.1304 - accuracy: 0.9528 - val_loss: 0.1904 - val_accuracy: 0.9362\n",
            "Epoch 40/200\n",
            "12/12 [==============================] - 0s 7ms/step - loss: 0.1283 - accuracy: 0.9528 - val_loss: 0.1879 - val_accuracy: 0.9362\n",
            "Epoch 41/200\n",
            "12/12 [==============================] - 0s 6ms/step - loss: 0.1261 - accuracy: 0.9528 - val_loss: 0.1857 - val_accuracy: 0.9362\n",
            "Epoch 42/200\n",
            "12/12 [==============================] - 0s 7ms/step - loss: 0.1243 - accuracy: 0.9528 - val_loss: 0.1834 - val_accuracy: 0.9362\n",
            "Epoch 43/200\n",
            "12/12 [==============================] - 0s 6ms/step - loss: 0.1223 - accuracy: 0.9528 - val_loss: 0.1815 - val_accuracy: 0.9362\n",
            "Epoch 44/200\n",
            "12/12 [==============================] - 0s 6ms/step - loss: 0.1205 - accuracy: 0.9528 - val_loss: 0.1794 - val_accuracy: 0.9362\n",
            "Epoch 45/200\n",
            "12/12 [==============================] - 0s 6ms/step - loss: 0.1187 - accuracy: 0.9528 - val_loss: 0.1777 - val_accuracy: 0.9362\n",
            "Epoch 46/200\n",
            "12/12 [==============================] - 0s 6ms/step - loss: 0.1171 - accuracy: 0.9528 - val_loss: 0.1756 - val_accuracy: 0.9362\n",
            "Epoch 47/200\n",
            "12/12 [==============================] - 0s 7ms/step - loss: 0.1153 - accuracy: 0.9528 - val_loss: 0.1740 - val_accuracy: 0.9362\n",
            "Epoch 48/200\n",
            "12/12 [==============================] - 0s 6ms/step - loss: 0.1138 - accuracy: 0.9528 - val_loss: 0.1723 - val_accuracy: 0.9362\n",
            "Epoch 49/200\n",
            "12/12 [==============================] - 0s 6ms/step - loss: 0.1123 - accuracy: 0.9528 - val_loss: 0.1707 - val_accuracy: 0.9362\n",
            "Epoch 50/200\n",
            "12/12 [==============================] - 0s 6ms/step - loss: 0.1108 - accuracy: 0.9528 - val_loss: 0.1690 - val_accuracy: 0.9362\n",
            "Epoch 51/200\n",
            "12/12 [==============================] - 0s 7ms/step - loss: 0.1094 - accuracy: 0.9554 - val_loss: 0.1676 - val_accuracy: 0.9362\n",
            "Epoch 52/200\n",
            "12/12 [==============================] - 0s 6ms/step - loss: 0.1080 - accuracy: 0.9580 - val_loss: 0.1661 - val_accuracy: 0.9362\n",
            "Epoch 53/200\n",
            "12/12 [==============================] - 0s 7ms/step - loss: 0.1066 - accuracy: 0.9633 - val_loss: 0.1646 - val_accuracy: 0.9362\n",
            "Epoch 54/200\n",
            "12/12 [==============================] - 0s 7ms/step - loss: 0.1053 - accuracy: 0.9633 - val_loss: 0.1633 - val_accuracy: 0.9415\n",
            "Epoch 55/200\n",
            "12/12 [==============================] - 0s 7ms/step - loss: 0.1040 - accuracy: 0.9685 - val_loss: 0.1619 - val_accuracy: 0.9468\n",
            "Epoch 56/200\n",
            "12/12 [==============================] - 0s 6ms/step - loss: 0.1029 - accuracy: 0.9685 - val_loss: 0.1606 - val_accuracy: 0.9468\n",
            "Epoch 57/200\n",
            "12/12 [==============================] - 0s 7ms/step - loss: 0.1017 - accuracy: 0.9685 - val_loss: 0.1596 - val_accuracy: 0.9468\n",
            "Epoch 58/200\n",
            "12/12 [==============================] - 0s 6ms/step - loss: 0.1005 - accuracy: 0.9738 - val_loss: 0.1583 - val_accuracy: 0.9468\n",
            "Epoch 59/200\n",
            "12/12 [==============================] - 0s 7ms/step - loss: 0.0993 - accuracy: 0.9764 - val_loss: 0.1572 - val_accuracy: 0.9468\n",
            "Epoch 60/200\n",
            "12/12 [==============================] - 0s 7ms/step - loss: 0.0983 - accuracy: 0.9790 - val_loss: 0.1560 - val_accuracy: 0.9521\n",
            "Epoch 61/200\n",
            "12/12 [==============================] - 0s 7ms/step - loss: 0.0972 - accuracy: 0.9790 - val_loss: 0.1549 - val_accuracy: 0.9521\n",
            "Epoch 62/200\n",
            "12/12 [==============================] - 0s 7ms/step - loss: 0.0961 - accuracy: 0.9790 - val_loss: 0.1538 - val_accuracy: 0.9521\n",
            "Epoch 63/200\n",
            "12/12 [==============================] - 0s 6ms/step - loss: 0.0951 - accuracy: 0.9790 - val_loss: 0.1528 - val_accuracy: 0.9521\n",
            "Epoch 64/200\n",
            "12/12 [==============================] - 0s 6ms/step - loss: 0.0942 - accuracy: 0.9790 - val_loss: 0.1518 - val_accuracy: 0.9521\n",
            "Epoch 65/200\n",
            "12/12 [==============================] - 0s 8ms/step - loss: 0.0932 - accuracy: 0.9790 - val_loss: 0.1507 - val_accuracy: 0.9521\n",
            "Epoch 66/200\n",
            "12/12 [==============================] - 0s 7ms/step - loss: 0.0923 - accuracy: 0.9816 - val_loss: 0.1498 - val_accuracy: 0.9521\n",
            "Epoch 67/200\n",
            "12/12 [==============================] - 0s 7ms/step - loss: 0.0914 - accuracy: 0.9816 - val_loss: 0.1488 - val_accuracy: 0.9521\n",
            "Epoch 68/200\n",
            "12/12 [==============================] - 0s 7ms/step - loss: 0.0905 - accuracy: 0.9816 - val_loss: 0.1480 - val_accuracy: 0.9521\n",
            "Epoch 69/200\n",
            "12/12 [==============================] - 0s 7ms/step - loss: 0.0896 - accuracy: 0.9816 - val_loss: 0.1470 - val_accuracy: 0.9521\n",
            "Epoch 70/200\n",
            "12/12 [==============================] - 0s 7ms/step - loss: 0.0887 - accuracy: 0.9816 - val_loss: 0.1463 - val_accuracy: 0.9521\n",
            "Epoch 71/200\n",
            "12/12 [==============================] - 0s 6ms/step - loss: 0.0879 - accuracy: 0.9816 - val_loss: 0.1455 - val_accuracy: 0.9521\n",
            "Epoch 72/200\n",
            "12/12 [==============================] - 0s 6ms/step - loss: 0.0871 - accuracy: 0.9790 - val_loss: 0.1447 - val_accuracy: 0.9521\n",
            "Epoch 73/200\n",
            "12/12 [==============================] - 0s 6ms/step - loss: 0.0863 - accuracy: 0.9790 - val_loss: 0.1440 - val_accuracy: 0.9521\n",
            "Epoch 74/200\n",
            "12/12 [==============================] - 0s 7ms/step - loss: 0.0856 - accuracy: 0.9790 - val_loss: 0.1432 - val_accuracy: 0.9521\n",
            "Epoch 75/200\n",
            "12/12 [==============================] - 0s 6ms/step - loss: 0.0848 - accuracy: 0.9790 - val_loss: 0.1424 - val_accuracy: 0.9521\n",
            "Epoch 76/200\n",
            "12/12 [==============================] - 0s 7ms/step - loss: 0.0840 - accuracy: 0.9790 - val_loss: 0.1417 - val_accuracy: 0.9574\n",
            "Epoch 77/200\n",
            "12/12 [==============================] - 0s 6ms/step - loss: 0.0833 - accuracy: 0.9790 - val_loss: 0.1412 - val_accuracy: 0.9574\n",
            "Epoch 78/200\n",
            "12/12 [==============================] - 0s 7ms/step - loss: 0.0827 - accuracy: 0.9816 - val_loss: 0.1404 - val_accuracy: 0.9628\n",
            "Epoch 79/200\n",
            "12/12 [==============================] - 0s 6ms/step - loss: 0.0820 - accuracy: 0.9816 - val_loss: 0.1399 - val_accuracy: 0.9628\n",
            "Epoch 80/200\n",
            "12/12 [==============================] - 0s 6ms/step - loss: 0.0812 - accuracy: 0.9816 - val_loss: 0.1393 - val_accuracy: 0.9628\n",
            "Epoch 81/200\n",
            "12/12 [==============================] - 0s 8ms/step - loss: 0.0805 - accuracy: 0.9816 - val_loss: 0.1386 - val_accuracy: 0.9628\n",
            "Epoch 82/200\n",
            "12/12 [==============================] - 0s 7ms/step - loss: 0.0799 - accuracy: 0.9816 - val_loss: 0.1380 - val_accuracy: 0.9628\n",
            "Epoch 83/200\n",
            "12/12 [==============================] - 0s 6ms/step - loss: 0.0792 - accuracy: 0.9816 - val_loss: 0.1374 - val_accuracy: 0.9628\n",
            "Epoch 84/200\n",
            "12/12 [==============================] - 0s 7ms/step - loss: 0.0786 - accuracy: 0.9816 - val_loss: 0.1369 - val_accuracy: 0.9628\n",
            "Epoch 85/200\n",
            "12/12 [==============================] - 0s 6ms/step - loss: 0.0780 - accuracy: 0.9843 - val_loss: 0.1363 - val_accuracy: 0.9628\n",
            "Epoch 86/200\n",
            "12/12 [==============================] - 0s 6ms/step - loss: 0.0774 - accuracy: 0.9843 - val_loss: 0.1357 - val_accuracy: 0.9628\n",
            "Epoch 87/200\n",
            "12/12 [==============================] - 0s 7ms/step - loss: 0.0768 - accuracy: 0.9843 - val_loss: 0.1352 - val_accuracy: 0.9628\n",
            "Epoch 88/200\n",
            "12/12 [==============================] - 0s 7ms/step - loss: 0.0762 - accuracy: 0.9843 - val_loss: 0.1347 - val_accuracy: 0.9628\n",
            "Epoch 89/200\n",
            "12/12 [==============================] - 0s 7ms/step - loss: 0.0757 - accuracy: 0.9843 - val_loss: 0.1342 - val_accuracy: 0.9628\n",
            "Epoch 90/200\n",
            "12/12 [==============================] - 0s 7ms/step - loss: 0.0751 - accuracy: 0.9843 - val_loss: 0.1337 - val_accuracy: 0.9628\n",
            "Epoch 91/200\n",
            "12/12 [==============================] - 0s 6ms/step - loss: 0.0745 - accuracy: 0.9869 - val_loss: 0.1332 - val_accuracy: 0.9628\n",
            "Epoch 92/200\n",
            "12/12 [==============================] - 0s 7ms/step - loss: 0.0740 - accuracy: 0.9869 - val_loss: 0.1327 - val_accuracy: 0.9628\n",
            "Epoch 93/200\n",
            "12/12 [==============================] - 0s 6ms/step - loss: 0.0735 - accuracy: 0.9869 - val_loss: 0.1323 - val_accuracy: 0.9628\n",
            "Epoch 94/200\n",
            "12/12 [==============================] - 0s 6ms/step - loss: 0.0729 - accuracy: 0.9869 - val_loss: 0.1319 - val_accuracy: 0.9628\n",
            "Epoch 95/200\n",
            "12/12 [==============================] - 0s 7ms/step - loss: 0.0724 - accuracy: 0.9869 - val_loss: 0.1314 - val_accuracy: 0.9628\n",
            "Epoch 96/200\n",
            "12/12 [==============================] - 0s 6ms/step - loss: 0.0720 - accuracy: 0.9869 - val_loss: 0.1309 - val_accuracy: 0.9628\n",
            "Epoch 97/200\n",
            "12/12 [==============================] - 0s 7ms/step - loss: 0.0715 - accuracy: 0.9869 - val_loss: 0.1306 - val_accuracy: 0.9628\n",
            "Epoch 98/200\n",
            "12/12 [==============================] - 0s 7ms/step - loss: 0.0709 - accuracy: 0.9869 - val_loss: 0.1302 - val_accuracy: 0.9628\n",
            "Epoch 99/200\n",
            "12/12 [==============================] - 0s 7ms/step - loss: 0.0705 - accuracy: 0.9869 - val_loss: 0.1298 - val_accuracy: 0.9628\n",
            "Epoch 100/200\n",
            "12/12 [==============================] - 0s 7ms/step - loss: 0.0700 - accuracy: 0.9869 - val_loss: 0.1294 - val_accuracy: 0.9628\n",
            "Epoch 101/200\n",
            "12/12 [==============================] - 0s 8ms/step - loss: 0.0695 - accuracy: 0.9869 - val_loss: 0.1289 - val_accuracy: 0.9628\n",
            "Epoch 102/200\n",
            "12/12 [==============================] - 0s 7ms/step - loss: 0.0691 - accuracy: 0.9869 - val_loss: 0.1286 - val_accuracy: 0.9628\n",
            "Epoch 103/200\n",
            "12/12 [==============================] - 0s 6ms/step - loss: 0.0686 - accuracy: 0.9869 - val_loss: 0.1282 - val_accuracy: 0.9628\n",
            "Epoch 104/200\n",
            "12/12 [==============================] - 0s 6ms/step - loss: 0.0682 - accuracy: 0.9869 - val_loss: 0.1278 - val_accuracy: 0.9628\n",
            "Epoch 105/200\n",
            "12/12 [==============================] - 0s 7ms/step - loss: 0.0678 - accuracy: 0.9869 - val_loss: 0.1274 - val_accuracy: 0.9628\n",
            "Epoch 106/200\n",
            "12/12 [==============================] - 0s 6ms/step - loss: 0.0673 - accuracy: 0.9869 - val_loss: 0.1271 - val_accuracy: 0.9628\n",
            "Epoch 107/200\n",
            "12/12 [==============================] - 0s 6ms/step - loss: 0.0670 - accuracy: 0.9869 - val_loss: 0.1268 - val_accuracy: 0.9628\n",
            "Epoch 108/200\n",
            "12/12 [==============================] - 0s 6ms/step - loss: 0.0666 - accuracy: 0.9869 - val_loss: 0.1264 - val_accuracy: 0.9628\n",
            "Epoch 109/200\n",
            "12/12 [==============================] - 0s 7ms/step - loss: 0.0661 - accuracy: 0.9869 - val_loss: 0.1261 - val_accuracy: 0.9628\n",
            "Epoch 110/200\n",
            "12/12 [==============================] - 0s 7ms/step - loss: 0.0657 - accuracy: 0.9869 - val_loss: 0.1258 - val_accuracy: 0.9628\n",
            "Epoch 111/200\n",
            "12/12 [==============================] - 0s 6ms/step - loss: 0.0653 - accuracy: 0.9869 - val_loss: 0.1254 - val_accuracy: 0.9628\n",
            "Epoch 112/200\n",
            "12/12 [==============================] - 0s 7ms/step - loss: 0.0649 - accuracy: 0.9869 - val_loss: 0.1252 - val_accuracy: 0.9628\n",
            "Epoch 113/200\n",
            "12/12 [==============================] - 0s 7ms/step - loss: 0.0645 - accuracy: 0.9869 - val_loss: 0.1249 - val_accuracy: 0.9628\n",
            "Epoch 114/200\n",
            "12/12 [==============================] - 0s 7ms/step - loss: 0.0642 - accuracy: 0.9869 - val_loss: 0.1246 - val_accuracy: 0.9681\n",
            "Epoch 115/200\n",
            "12/12 [==============================] - 0s 7ms/step - loss: 0.0638 - accuracy: 0.9895 - val_loss: 0.1243 - val_accuracy: 0.9681\n",
            "Epoch 116/200\n",
            "12/12 [==============================] - 0s 6ms/step - loss: 0.0634 - accuracy: 0.9895 - val_loss: 0.1241 - val_accuracy: 0.9681\n",
            "Epoch 117/200\n",
            "12/12 [==============================] - 0s 7ms/step - loss: 0.0631 - accuracy: 0.9895 - val_loss: 0.1238 - val_accuracy: 0.9681\n",
            "Epoch 118/200\n",
            "12/12 [==============================] - 0s 7ms/step - loss: 0.0627 - accuracy: 0.9895 - val_loss: 0.1235 - val_accuracy: 0.9681\n",
            "Epoch 119/200\n",
            "12/12 [==============================] - 0s 7ms/step - loss: 0.0624 - accuracy: 0.9895 - val_loss: 0.1232 - val_accuracy: 0.9681\n",
            "Epoch 120/200\n",
            "12/12 [==============================] - 0s 6ms/step - loss: 0.0620 - accuracy: 0.9895 - val_loss: 0.1230 - val_accuracy: 0.9681\n",
            "Epoch 121/200\n",
            "12/12 [==============================] - 0s 7ms/step - loss: 0.0617 - accuracy: 0.9895 - val_loss: 0.1227 - val_accuracy: 0.9681\n",
            "Epoch 122/200\n",
            "12/12 [==============================] - 0s 7ms/step - loss: 0.0613 - accuracy: 0.9895 - val_loss: 0.1224 - val_accuracy: 0.9681\n",
            "Epoch 123/200\n",
            "12/12 [==============================] - 0s 6ms/step - loss: 0.0610 - accuracy: 0.9895 - val_loss: 0.1222 - val_accuracy: 0.9681\n",
            "Epoch 124/200\n",
            "12/12 [==============================] - 0s 8ms/step - loss: 0.0607 - accuracy: 0.9895 - val_loss: 0.1219 - val_accuracy: 0.9681\n",
            "Epoch 125/200\n",
            "12/12 [==============================] - 0s 7ms/step - loss: 0.0604 - accuracy: 0.9895 - val_loss: 0.1217 - val_accuracy: 0.9681\n",
            "Epoch 126/200\n",
            "12/12 [==============================] - 0s 6ms/step - loss: 0.0600 - accuracy: 0.9895 - val_loss: 0.1215 - val_accuracy: 0.9681\n",
            "Epoch 127/200\n",
            "12/12 [==============================] - 0s 6ms/step - loss: 0.0597 - accuracy: 0.9895 - val_loss: 0.1212 - val_accuracy: 0.9681\n",
            "Epoch 128/200\n",
            "12/12 [==============================] - 0s 7ms/step - loss: 0.0594 - accuracy: 0.9895 - val_loss: 0.1210 - val_accuracy: 0.9681\n",
            "Epoch 129/200\n",
            "12/12 [==============================] - 0s 6ms/step - loss: 0.0591 - accuracy: 0.9895 - val_loss: 0.1208 - val_accuracy: 0.9681\n",
            "Epoch 130/200\n",
            "12/12 [==============================] - 0s 6ms/step - loss: 0.0588 - accuracy: 0.9895 - val_loss: 0.1206 - val_accuracy: 0.9681\n",
            "Epoch 131/200\n",
            "12/12 [==============================] - 0s 6ms/step - loss: 0.0585 - accuracy: 0.9895 - val_loss: 0.1204 - val_accuracy: 0.9681\n",
            "Epoch 132/200\n",
            "12/12 [==============================] - 0s 7ms/step - loss: 0.0582 - accuracy: 0.9895 - val_loss: 0.1202 - val_accuracy: 0.9681\n",
            "Epoch 133/200\n",
            "12/12 [==============================] - 0s 8ms/step - loss: 0.0579 - accuracy: 0.9895 - val_loss: 0.1199 - val_accuracy: 0.9681\n",
            "Epoch 134/200\n",
            "12/12 [==============================] - 0s 7ms/step - loss: 0.0577 - accuracy: 0.9895 - val_loss: 0.1197 - val_accuracy: 0.9681\n",
            "Epoch 135/200\n",
            "12/12 [==============================] - 0s 7ms/step - loss: 0.0573 - accuracy: 0.9895 - val_loss: 0.1195 - val_accuracy: 0.9681\n",
            "Epoch 136/200\n",
            "12/12 [==============================] - 0s 7ms/step - loss: 0.0571 - accuracy: 0.9895 - val_loss: 0.1194 - val_accuracy: 0.9681\n",
            "Epoch 137/200\n",
            "12/12 [==============================] - 0s 8ms/step - loss: 0.0568 - accuracy: 0.9895 - val_loss: 0.1192 - val_accuracy: 0.9681\n",
            "Epoch 138/200\n",
            "12/12 [==============================] - 0s 7ms/step - loss: 0.0565 - accuracy: 0.9895 - val_loss: 0.1190 - val_accuracy: 0.9681\n",
            "Epoch 139/200\n",
            "12/12 [==============================] - 0s 6ms/step - loss: 0.0563 - accuracy: 0.9895 - val_loss: 0.1188 - val_accuracy: 0.9681\n",
            "Epoch 140/200\n",
            "12/12 [==============================] - 0s 7ms/step - loss: 0.0560 - accuracy: 0.9895 - val_loss: 0.1186 - val_accuracy: 0.9681\n",
            "Epoch 141/200\n",
            "12/12 [==============================] - 0s 8ms/step - loss: 0.0557 - accuracy: 0.9895 - val_loss: 0.1184 - val_accuracy: 0.9681\n",
            "Epoch 142/200\n",
            "12/12 [==============================] - 0s 7ms/step - loss: 0.0555 - accuracy: 0.9895 - val_loss: 0.1183 - val_accuracy: 0.9681\n",
            "Epoch 143/200\n",
            "12/12 [==============================] - 0s 6ms/step - loss: 0.0552 - accuracy: 0.9895 - val_loss: 0.1181 - val_accuracy: 0.9681\n",
            "Epoch 144/200\n",
            "12/12 [==============================] - 0s 7ms/step - loss: 0.0550 - accuracy: 0.9895 - val_loss: 0.1179 - val_accuracy: 0.9681\n",
            "Epoch 145/200\n",
            "12/12 [==============================] - 0s 6ms/step - loss: 0.0547 - accuracy: 0.9895 - val_loss: 0.1178 - val_accuracy: 0.9681\n",
            "Epoch 146/200\n",
            "12/12 [==============================] - 0s 7ms/step - loss: 0.0545 - accuracy: 0.9895 - val_loss: 0.1176 - val_accuracy: 0.9681\n",
            "Epoch 147/200\n",
            "12/12 [==============================] - 0s 6ms/step - loss: 0.0542 - accuracy: 0.9895 - val_loss: 0.1175 - val_accuracy: 0.9681\n",
            "Epoch 148/200\n",
            "12/12 [==============================] - 0s 7ms/step - loss: 0.0540 - accuracy: 0.9895 - val_loss: 0.1173 - val_accuracy: 0.9681\n",
            "Epoch 149/200\n",
            "12/12 [==============================] - 0s 6ms/step - loss: 0.0537 - accuracy: 0.9895 - val_loss: 0.1172 - val_accuracy: 0.9681\n",
            "Epoch 150/200\n",
            "12/12 [==============================] - 0s 6ms/step - loss: 0.0535 - accuracy: 0.9895 - val_loss: 0.1170 - val_accuracy: 0.9681\n",
            "Epoch 151/200\n",
            "12/12 [==============================] - 0s 7ms/step - loss: 0.0533 - accuracy: 0.9895 - val_loss: 0.1168 - val_accuracy: 0.9681\n",
            "Epoch 152/200\n",
            "12/12 [==============================] - 0s 6ms/step - loss: 0.0531 - accuracy: 0.9895 - val_loss: 0.1167 - val_accuracy: 0.9681\n",
            "Epoch 153/200\n",
            "12/12 [==============================] - 0s 6ms/step - loss: 0.0528 - accuracy: 0.9895 - val_loss: 0.1166 - val_accuracy: 0.9681\n",
            "Epoch 154/200\n",
            "12/12 [==============================] - 0s 6ms/step - loss: 0.0526 - accuracy: 0.9895 - val_loss: 0.1164 - val_accuracy: 0.9681\n",
            "Epoch 155/200\n",
            "12/12 [==============================] - 0s 7ms/step - loss: 0.0524 - accuracy: 0.9895 - val_loss: 0.1163 - val_accuracy: 0.9681\n",
            "Epoch 156/200\n",
            "12/12 [==============================] - 0s 7ms/step - loss: 0.0521 - accuracy: 0.9895 - val_loss: 0.1161 - val_accuracy: 0.9681\n",
            "Epoch 157/200\n",
            "12/12 [==============================] - 0s 6ms/step - loss: 0.0519 - accuracy: 0.9895 - val_loss: 0.1160 - val_accuracy: 0.9681\n",
            "Epoch 158/200\n",
            "12/12 [==============================] - 0s 8ms/step - loss: 0.0517 - accuracy: 0.9895 - val_loss: 0.1159 - val_accuracy: 0.9681\n",
            "Epoch 159/200\n",
            "12/12 [==============================] - 0s 7ms/step - loss: 0.0515 - accuracy: 0.9895 - val_loss: 0.1157 - val_accuracy: 0.9681\n",
            "Epoch 160/200\n",
            "12/12 [==============================] - 0s 7ms/step - loss: 0.0513 - accuracy: 0.9895 - val_loss: 0.1156 - val_accuracy: 0.9681\n",
            "Epoch 161/200\n",
            "12/12 [==============================] - 0s 6ms/step - loss: 0.0511 - accuracy: 0.9895 - val_loss: 0.1155 - val_accuracy: 0.9681\n",
            "Epoch 162/200\n",
            "12/12 [==============================] - 0s 6ms/step - loss: 0.0509 - accuracy: 0.9895 - val_loss: 0.1153 - val_accuracy: 0.9681\n",
            "Epoch 163/200\n",
            "12/12 [==============================] - 0s 6ms/step - loss: 0.0507 - accuracy: 0.9895 - val_loss: 0.1153 - val_accuracy: 0.9681\n",
            "Epoch 164/200\n",
            "12/12 [==============================] - 0s 7ms/step - loss: 0.0505 - accuracy: 0.9895 - val_loss: 0.1151 - val_accuracy: 0.9681\n",
            "Epoch 165/200\n",
            "12/12 [==============================] - 0s 6ms/step - loss: 0.0503 - accuracy: 0.9895 - val_loss: 0.1150 - val_accuracy: 0.9681\n",
            "Epoch 166/200\n",
            "12/12 [==============================] - 0s 7ms/step - loss: 0.0501 - accuracy: 0.9895 - val_loss: 0.1149 - val_accuracy: 0.9681\n",
            "Epoch 167/200\n",
            "12/12 [==============================] - 0s 6ms/step - loss: 0.0499 - accuracy: 0.9895 - val_loss: 0.1148 - val_accuracy: 0.9681\n",
            "Epoch 168/200\n",
            "12/12 [==============================] - 0s 7ms/step - loss: 0.0497 - accuracy: 0.9895 - val_loss: 0.1147 - val_accuracy: 0.9681\n",
            "Epoch 169/200\n",
            "12/12 [==============================] - 0s 8ms/step - loss: 0.0495 - accuracy: 0.9895 - val_loss: 0.1145 - val_accuracy: 0.9734\n",
            "Epoch 170/200\n",
            "12/12 [==============================] - 0s 7ms/step - loss: 0.0493 - accuracy: 0.9895 - val_loss: 0.1144 - val_accuracy: 0.9734\n",
            "Epoch 171/200\n",
            "12/12 [==============================] - 0s 7ms/step - loss: 0.0491 - accuracy: 0.9895 - val_loss: 0.1143 - val_accuracy: 0.9734\n",
            "Epoch 172/200\n",
            "12/12 [==============================] - 0s 7ms/step - loss: 0.0489 - accuracy: 0.9895 - val_loss: 0.1142 - val_accuracy: 0.9734\n",
            "Epoch 173/200\n",
            "12/12 [==============================] - 0s 7ms/step - loss: 0.0487 - accuracy: 0.9895 - val_loss: 0.1141 - val_accuracy: 0.9734\n",
            "Epoch 174/200\n",
            "12/12 [==============================] - 0s 6ms/step - loss: 0.0486 - accuracy: 0.9895 - val_loss: 0.1140 - val_accuracy: 0.9734\n",
            "Epoch 175/200\n",
            "12/12 [==============================] - 0s 8ms/step - loss: 0.0484 - accuracy: 0.9895 - val_loss: 0.1139 - val_accuracy: 0.9734\n",
            "Epoch 176/200\n",
            "12/12 [==============================] - 0s 7ms/step - loss: 0.0482 - accuracy: 0.9895 - val_loss: 0.1138 - val_accuracy: 0.9734\n",
            "Epoch 177/200\n",
            "12/12 [==============================] - 0s 6ms/step - loss: 0.0480 - accuracy: 0.9895 - val_loss: 0.1137 - val_accuracy: 0.9734\n",
            "Epoch 178/200\n",
            "12/12 [==============================] - 0s 7ms/step - loss: 0.0479 - accuracy: 0.9895 - val_loss: 0.1136 - val_accuracy: 0.9734\n",
            "Epoch 179/200\n",
            "12/12 [==============================] - 0s 7ms/step - loss: 0.0477 - accuracy: 0.9895 - val_loss: 0.1135 - val_accuracy: 0.9734\n",
            "Epoch 180/200\n",
            "12/12 [==============================] - 0s 7ms/step - loss: 0.0475 - accuracy: 0.9895 - val_loss: 0.1134 - val_accuracy: 0.9734\n",
            "Epoch 181/200\n",
            "12/12 [==============================] - 0s 7ms/step - loss: 0.0473 - accuracy: 0.9895 - val_loss: 0.1134 - val_accuracy: 0.9734\n",
            "Epoch 182/200\n",
            "12/12 [==============================] - 0s 7ms/step - loss: 0.0472 - accuracy: 0.9895 - val_loss: 0.1133 - val_accuracy: 0.9734\n",
            "Epoch 183/200\n",
            "12/12 [==============================] - 0s 7ms/step - loss: 0.0470 - accuracy: 0.9895 - val_loss: 0.1132 - val_accuracy: 0.9734\n",
            "Epoch 184/200\n",
            "12/12 [==============================] - 0s 6ms/step - loss: 0.0468 - accuracy: 0.9895 - val_loss: 0.1131 - val_accuracy: 0.9734\n",
            "Epoch 185/200\n",
            "12/12 [==============================] - 0s 7ms/step - loss: 0.0467 - accuracy: 0.9895 - val_loss: 0.1130 - val_accuracy: 0.9734\n",
            "Epoch 186/200\n",
            "12/12 [==============================] - 0s 6ms/step - loss: 0.0465 - accuracy: 0.9895 - val_loss: 0.1129 - val_accuracy: 0.9734\n",
            "Epoch 187/200\n",
            "12/12 [==============================] - 0s 7ms/step - loss: 0.0463 - accuracy: 0.9895 - val_loss: 0.1128 - val_accuracy: 0.9734\n",
            "Epoch 188/200\n",
            "12/12 [==============================] - 0s 7ms/step - loss: 0.0462 - accuracy: 0.9895 - val_loss: 0.1128 - val_accuracy: 0.9734\n",
            "Epoch 189/200\n",
            "12/12 [==============================] - 0s 7ms/step - loss: 0.0460 - accuracy: 0.9895 - val_loss: 0.1127 - val_accuracy: 0.9734\n",
            "Epoch 190/200\n",
            "12/12 [==============================] - 0s 6ms/step - loss: 0.0459 - accuracy: 0.9895 - val_loss: 0.1126 - val_accuracy: 0.9734\n",
            "Epoch 191/200\n",
            "12/12 [==============================] - 0s 7ms/step - loss: 0.0457 - accuracy: 0.9895 - val_loss: 0.1125 - val_accuracy: 0.9734\n",
            "Epoch 192/200\n",
            "12/12 [==============================] - 0s 6ms/step - loss: 0.0456 - accuracy: 0.9895 - val_loss: 0.1124 - val_accuracy: 0.9734\n",
            "Epoch 193/200\n",
            "12/12 [==============================] - 0s 6ms/step - loss: 0.0454 - accuracy: 0.9895 - val_loss: 0.1123 - val_accuracy: 0.9734\n",
            "Epoch 194/200\n",
            "12/12 [==============================] - 0s 6ms/step - loss: 0.0453 - accuracy: 0.9895 - val_loss: 0.1123 - val_accuracy: 0.9734\n",
            "Epoch 195/200\n",
            "12/12 [==============================] - 0s 7ms/step - loss: 0.0451 - accuracy: 0.9895 - val_loss: 0.1123 - val_accuracy: 0.9681\n",
            "Epoch 196/200\n",
            "12/12 [==============================] - 0s 6ms/step - loss: 0.0450 - accuracy: 0.9895 - val_loss: 0.1122 - val_accuracy: 0.9681\n",
            "Epoch 197/200\n",
            "12/12 [==============================] - 0s 10ms/step - loss: 0.0448 - accuracy: 0.9895 - val_loss: 0.1122 - val_accuracy: 0.9681\n",
            "Epoch 198/200\n",
            "12/12 [==============================] - 0s 7ms/step - loss: 0.0447 - accuracy: 0.9895 - val_loss: 0.1121 - val_accuracy: 0.9681\n",
            "Epoch 199/200\n",
            "12/12 [==============================] - 0s 7ms/step - loss: 0.0445 - accuracy: 0.9895 - val_loss: 0.1120 - val_accuracy: 0.9681\n",
            "Epoch 200/200\n",
            "12/12 [==============================] - 0s 7ms/step - loss: 0.0444 - accuracy: 0.9895 - val_loss: 0.1119 - val_accuracy: 0.9681\n",
            "Epoch 1/200\n",
            "12/12 [==============================] - 1s 20ms/step - loss: 0.8665 - accuracy: 0.4331 - val_loss: 0.7939 - val_accuracy: 0.5160\n",
            "Epoch 2/200\n",
            "12/12 [==============================] - 0s 6ms/step - loss: 0.7759 - accuracy: 0.4961 - val_loss: 0.7169 - val_accuracy: 0.5585\n",
            "Epoch 3/200\n",
            "12/12 [==============================] - 0s 6ms/step - loss: 0.6998 - accuracy: 0.5853 - val_loss: 0.6477 - val_accuracy: 0.6330\n",
            "Epoch 4/200\n",
            "12/12 [==============================] - 0s 7ms/step - loss: 0.6314 - accuracy: 0.6588 - val_loss: 0.5897 - val_accuracy: 0.7074\n",
            "Epoch 5/200\n",
            "12/12 [==============================] - 0s 7ms/step - loss: 0.5741 - accuracy: 0.7297 - val_loss: 0.5410 - val_accuracy: 0.7287\n",
            "Epoch 6/200\n",
            "12/12 [==============================] - 0s 9ms/step - loss: 0.5251 - accuracy: 0.7743 - val_loss: 0.5007 - val_accuracy: 0.7606\n",
            "Epoch 7/200\n",
            "12/12 [==============================] - 0s 6ms/step - loss: 0.4852 - accuracy: 0.8005 - val_loss: 0.4665 - val_accuracy: 0.8085\n",
            "Epoch 8/200\n",
            "12/12 [==============================] - 0s 6ms/step - loss: 0.4505 - accuracy: 0.8189 - val_loss: 0.4381 - val_accuracy: 0.8511\n",
            "Epoch 9/200\n",
            "12/12 [==============================] - 0s 6ms/step - loss: 0.4221 - accuracy: 0.8373 - val_loss: 0.4134 - val_accuracy: 0.8723\n",
            "Epoch 10/200\n",
            "12/12 [==============================] - 0s 6ms/step - loss: 0.3967 - accuracy: 0.8478 - val_loss: 0.3929 - val_accuracy: 0.8670\n",
            "Epoch 11/200\n",
            "12/12 [==============================] - 0s 6ms/step - loss: 0.3747 - accuracy: 0.8688 - val_loss: 0.3754 - val_accuracy: 0.8777\n",
            "Epoch 12/200\n",
            "12/12 [==============================] - 0s 7ms/step - loss: 0.3560 - accuracy: 0.8793 - val_loss: 0.3599 - val_accuracy: 0.8830\n",
            "Epoch 13/200\n",
            "12/12 [==============================] - 0s 7ms/step - loss: 0.3393 - accuracy: 0.8924 - val_loss: 0.3462 - val_accuracy: 0.8830\n",
            "Epoch 14/200\n",
            "12/12 [==============================] - 0s 6ms/step - loss: 0.3248 - accuracy: 0.9003 - val_loss: 0.3338 - val_accuracy: 0.8936\n",
            "Epoch 15/200\n",
            "12/12 [==============================] - 0s 6ms/step - loss: 0.3113 - accuracy: 0.9055 - val_loss: 0.3229 - val_accuracy: 0.8989\n",
            "Epoch 16/200\n",
            "12/12 [==============================] - 0s 6ms/step - loss: 0.2992 - accuracy: 0.9055 - val_loss: 0.3130 - val_accuracy: 0.8989\n",
            "Epoch 17/200\n",
            "12/12 [==============================] - 0s 11ms/step - loss: 0.2886 - accuracy: 0.9134 - val_loss: 0.3036 - val_accuracy: 0.8989\n",
            "Epoch 18/200\n",
            "12/12 [==============================] - 0s 7ms/step - loss: 0.2785 - accuracy: 0.9160 - val_loss: 0.2951 - val_accuracy: 0.9043\n",
            "Epoch 19/200\n",
            "12/12 [==============================] - 0s 6ms/step - loss: 0.2693 - accuracy: 0.9239 - val_loss: 0.2871 - val_accuracy: 0.9043\n",
            "Epoch 20/200\n",
            "12/12 [==============================] - 0s 6ms/step - loss: 0.2609 - accuracy: 0.9265 - val_loss: 0.2798 - val_accuracy: 0.9043\n",
            "Epoch 21/200\n",
            "12/12 [==============================] - 0s 7ms/step - loss: 0.2527 - accuracy: 0.9291 - val_loss: 0.2731 - val_accuracy: 0.9043\n",
            "Epoch 22/200\n",
            "12/12 [==============================] - 0s 7ms/step - loss: 0.2454 - accuracy: 0.9291 - val_loss: 0.2666 - val_accuracy: 0.9043\n",
            "Epoch 23/200\n",
            "12/12 [==============================] - 0s 6ms/step - loss: 0.2385 - accuracy: 0.9291 - val_loss: 0.2605 - val_accuracy: 0.9043\n",
            "Epoch 24/200\n",
            "12/12 [==============================] - 0s 7ms/step - loss: 0.2320 - accuracy: 0.9291 - val_loss: 0.2548 - val_accuracy: 0.9043\n",
            "Epoch 25/200\n",
            "12/12 [==============================] - 0s 7ms/step - loss: 0.2260 - accuracy: 0.9291 - val_loss: 0.2493 - val_accuracy: 0.9096\n",
            "Epoch 26/200\n",
            "12/12 [==============================] - 0s 6ms/step - loss: 0.2201 - accuracy: 0.9318 - val_loss: 0.2442 - val_accuracy: 0.9096\n",
            "Epoch 27/200\n",
            "12/12 [==============================] - 0s 7ms/step - loss: 0.2146 - accuracy: 0.9318 - val_loss: 0.2394 - val_accuracy: 0.9096\n",
            "Epoch 28/200\n",
            "12/12 [==============================] - 0s 7ms/step - loss: 0.2095 - accuracy: 0.9318 - val_loss: 0.2348 - val_accuracy: 0.9202\n",
            "Epoch 29/200\n",
            "12/12 [==============================] - 0s 6ms/step - loss: 0.2046 - accuracy: 0.9370 - val_loss: 0.2305 - val_accuracy: 0.9202\n",
            "Epoch 30/200\n",
            "12/12 [==============================] - 0s 7ms/step - loss: 0.1999 - accuracy: 0.9423 - val_loss: 0.2264 - val_accuracy: 0.9255\n",
            "Epoch 31/200\n",
            "12/12 [==============================] - 0s 6ms/step - loss: 0.1955 - accuracy: 0.9423 - val_loss: 0.2225 - val_accuracy: 0.9362\n",
            "Epoch 32/200\n",
            "12/12 [==============================] - 0s 6ms/step - loss: 0.1914 - accuracy: 0.9475 - val_loss: 0.2187 - val_accuracy: 0.9362\n",
            "Epoch 33/200\n",
            "12/12 [==============================] - 0s 6ms/step - loss: 0.1874 - accuracy: 0.9475 - val_loss: 0.2151 - val_accuracy: 0.9362\n",
            "Epoch 34/200\n",
            "12/12 [==============================] - 0s 6ms/step - loss: 0.1835 - accuracy: 0.9475 - val_loss: 0.2117 - val_accuracy: 0.9362\n",
            "Epoch 35/200\n",
            "12/12 [==============================] - 0s 7ms/step - loss: 0.1799 - accuracy: 0.9475 - val_loss: 0.2085 - val_accuracy: 0.9362\n",
            "Epoch 36/200\n",
            "12/12 [==============================] - 0s 11ms/step - loss: 0.1764 - accuracy: 0.9501 - val_loss: 0.2054 - val_accuracy: 0.9468\n",
            "Epoch 37/200\n",
            "12/12 [==============================] - 0s 24ms/step - loss: 0.1730 - accuracy: 0.9501 - val_loss: 0.2025 - val_accuracy: 0.9468\n",
            "Epoch 38/200\n",
            "12/12 [==============================] - 0s 22ms/step - loss: 0.1700 - accuracy: 0.9501 - val_loss: 0.1994 - val_accuracy: 0.9521\n",
            "Epoch 39/200\n",
            "12/12 [==============================] - 0s 11ms/step - loss: 0.1669 - accuracy: 0.9501 - val_loss: 0.1966 - val_accuracy: 0.9468\n",
            "Epoch 40/200\n",
            "12/12 [==============================] - 0s 12ms/step - loss: 0.1640 - accuracy: 0.9501 - val_loss: 0.1940 - val_accuracy: 0.9468\n",
            "Epoch 41/200\n",
            "12/12 [==============================] - 0s 7ms/step - loss: 0.1611 - accuracy: 0.9528 - val_loss: 0.1915 - val_accuracy: 0.9468\n",
            "Epoch 42/200\n",
            "12/12 [==============================] - 0s 7ms/step - loss: 0.1584 - accuracy: 0.9554 - val_loss: 0.1892 - val_accuracy: 0.9468\n",
            "Epoch 43/200\n",
            "12/12 [==============================] - 0s 8ms/step - loss: 0.1559 - accuracy: 0.9554 - val_loss: 0.1868 - val_accuracy: 0.9468\n",
            "Epoch 44/200\n",
            "12/12 [==============================] - 0s 7ms/step - loss: 0.1533 - accuracy: 0.9554 - val_loss: 0.1846 - val_accuracy: 0.9468\n",
            "Epoch 45/200\n",
            "12/12 [==============================] - 0s 7ms/step - loss: 0.1509 - accuracy: 0.9554 - val_loss: 0.1825 - val_accuracy: 0.9468\n",
            "Epoch 46/200\n",
            "12/12 [==============================] - 0s 7ms/step - loss: 0.1487 - accuracy: 0.9554 - val_loss: 0.1804 - val_accuracy: 0.9468\n",
            "Epoch 47/200\n",
            "12/12 [==============================] - 0s 9ms/step - loss: 0.1464 - accuracy: 0.9580 - val_loss: 0.1785 - val_accuracy: 0.9521\n",
            "Epoch 48/200\n",
            "12/12 [==============================] - 0s 7ms/step - loss: 0.1443 - accuracy: 0.9606 - val_loss: 0.1765 - val_accuracy: 0.9521\n",
            "Epoch 49/200\n",
            "12/12 [==============================] - 0s 7ms/step - loss: 0.1422 - accuracy: 0.9606 - val_loss: 0.1747 - val_accuracy: 0.9521\n",
            "Epoch 50/200\n",
            "12/12 [==============================] - 0s 6ms/step - loss: 0.1402 - accuracy: 0.9606 - val_loss: 0.1729 - val_accuracy: 0.9521\n",
            "Epoch 51/200\n",
            "12/12 [==============================] - 0s 7ms/step - loss: 0.1383 - accuracy: 0.9606 - val_loss: 0.1712 - val_accuracy: 0.9521\n",
            "Epoch 52/200\n",
            "12/12 [==============================] - 0s 7ms/step - loss: 0.1363 - accuracy: 0.9606 - val_loss: 0.1696 - val_accuracy: 0.9521\n",
            "Epoch 53/200\n",
            "12/12 [==============================] - 0s 7ms/step - loss: 0.1347 - accuracy: 0.9606 - val_loss: 0.1680 - val_accuracy: 0.9574\n",
            "Epoch 54/200\n",
            "12/12 [==============================] - 0s 6ms/step - loss: 0.1328 - accuracy: 0.9606 - val_loss: 0.1664 - val_accuracy: 0.9628\n",
            "Epoch 55/200\n",
            "12/12 [==============================] - 0s 11ms/step - loss: 0.1311 - accuracy: 0.9633 - val_loss: 0.1650 - val_accuracy: 0.9628\n",
            "Epoch 56/200\n",
            "12/12 [==============================] - 0s 7ms/step - loss: 0.1295 - accuracy: 0.9659 - val_loss: 0.1635 - val_accuracy: 0.9628\n",
            "Epoch 57/200\n",
            "12/12 [==============================] - 0s 7ms/step - loss: 0.1279 - accuracy: 0.9659 - val_loss: 0.1621 - val_accuracy: 0.9628\n",
            "Epoch 58/200\n",
            "12/12 [==============================] - 0s 7ms/step - loss: 0.1264 - accuracy: 0.9659 - val_loss: 0.1608 - val_accuracy: 0.9628\n",
            "Epoch 59/200\n",
            "12/12 [==============================] - 0s 7ms/step - loss: 0.1248 - accuracy: 0.9711 - val_loss: 0.1596 - val_accuracy: 0.9681\n",
            "Epoch 60/200\n",
            "12/12 [==============================] - 0s 7ms/step - loss: 0.1234 - accuracy: 0.9711 - val_loss: 0.1583 - val_accuracy: 0.9681\n",
            "Epoch 61/200\n",
            "12/12 [==============================] - 0s 7ms/step - loss: 0.1220 - accuracy: 0.9711 - val_loss: 0.1572 - val_accuracy: 0.9681\n",
            "Epoch 62/200\n",
            "12/12 [==============================] - 0s 6ms/step - loss: 0.1206 - accuracy: 0.9711 - val_loss: 0.1559 - val_accuracy: 0.9681\n",
            "Epoch 63/200\n",
            "12/12 [==============================] - 0s 7ms/step - loss: 0.1193 - accuracy: 0.9711 - val_loss: 0.1548 - val_accuracy: 0.9681\n",
            "Epoch 64/200\n",
            "12/12 [==============================] - 0s 7ms/step - loss: 0.1180 - accuracy: 0.9711 - val_loss: 0.1537 - val_accuracy: 0.9681\n",
            "Epoch 65/200\n",
            "12/12 [==============================] - 0s 7ms/step - loss: 0.1167 - accuracy: 0.9711 - val_loss: 0.1527 - val_accuracy: 0.9681\n",
            "Epoch 66/200\n",
            "12/12 [==============================] - 0s 7ms/step - loss: 0.1155 - accuracy: 0.9711 - val_loss: 0.1517 - val_accuracy: 0.9681\n",
            "Epoch 67/200\n",
            "12/12 [==============================] - 0s 7ms/step - loss: 0.1143 - accuracy: 0.9711 - val_loss: 0.1507 - val_accuracy: 0.9681\n",
            "Epoch 68/200\n",
            "12/12 [==============================] - 0s 7ms/step - loss: 0.1132 - accuracy: 0.9711 - val_loss: 0.1497 - val_accuracy: 0.9681\n",
            "Epoch 69/200\n",
            "12/12 [==============================] - 0s 8ms/step - loss: 0.1121 - accuracy: 0.9711 - val_loss: 0.1487 - val_accuracy: 0.9681\n",
            "Epoch 70/200\n",
            "12/12 [==============================] - 0s 7ms/step - loss: 0.1109 - accuracy: 0.9711 - val_loss: 0.1479 - val_accuracy: 0.9681\n",
            "Epoch 71/200\n",
            "12/12 [==============================] - 0s 8ms/step - loss: 0.1098 - accuracy: 0.9738 - val_loss: 0.1469 - val_accuracy: 0.9681\n",
            "Epoch 72/200\n",
            "12/12 [==============================] - 0s 7ms/step - loss: 0.1088 - accuracy: 0.9764 - val_loss: 0.1461 - val_accuracy: 0.9681\n",
            "Epoch 73/200\n",
            "12/12 [==============================] - 0s 7ms/step - loss: 0.1078 - accuracy: 0.9764 - val_loss: 0.1453 - val_accuracy: 0.9681\n",
            "Epoch 74/200\n",
            "12/12 [==============================] - 0s 7ms/step - loss: 0.1068 - accuracy: 0.9764 - val_loss: 0.1445 - val_accuracy: 0.9681\n",
            "Epoch 75/200\n",
            "12/12 [==============================] - 0s 7ms/step - loss: 0.1058 - accuracy: 0.9764 - val_loss: 0.1437 - val_accuracy: 0.9681\n",
            "Epoch 76/200\n",
            "12/12 [==============================] - 0s 7ms/step - loss: 0.1048 - accuracy: 0.9764 - val_loss: 0.1430 - val_accuracy: 0.9681\n",
            "Epoch 77/200\n",
            "12/12 [==============================] - 0s 8ms/step - loss: 0.1040 - accuracy: 0.9764 - val_loss: 0.1422 - val_accuracy: 0.9681\n",
            "Epoch 78/200\n",
            "12/12 [==============================] - 0s 6ms/step - loss: 0.1031 - accuracy: 0.9764 - val_loss: 0.1415 - val_accuracy: 0.9681\n",
            "Epoch 79/200\n",
            "12/12 [==============================] - 0s 7ms/step - loss: 0.1021 - accuracy: 0.9764 - val_loss: 0.1408 - val_accuracy: 0.9681\n",
            "Epoch 80/200\n",
            "12/12 [==============================] - 0s 7ms/step - loss: 0.1013 - accuracy: 0.9738 - val_loss: 0.1401 - val_accuracy: 0.9681\n",
            "Epoch 81/200\n",
            "12/12 [==============================] - 0s 7ms/step - loss: 0.1005 - accuracy: 0.9738 - val_loss: 0.1394 - val_accuracy: 0.9681\n",
            "Epoch 82/200\n",
            "12/12 [==============================] - 0s 7ms/step - loss: 0.0996 - accuracy: 0.9738 - val_loss: 0.1388 - val_accuracy: 0.9681\n",
            "Epoch 83/200\n",
            "12/12 [==============================] - 0s 6ms/step - loss: 0.0988 - accuracy: 0.9738 - val_loss: 0.1382 - val_accuracy: 0.9681\n",
            "Epoch 84/200\n",
            "12/12 [==============================] - 0s 7ms/step - loss: 0.0980 - accuracy: 0.9738 - val_loss: 0.1375 - val_accuracy: 0.9681\n",
            "Epoch 85/200\n",
            "12/12 [==============================] - 0s 8ms/step - loss: 0.0972 - accuracy: 0.9738 - val_loss: 0.1369 - val_accuracy: 0.9681\n",
            "Epoch 86/200\n",
            "12/12 [==============================] - 0s 7ms/step - loss: 0.0965 - accuracy: 0.9738 - val_loss: 0.1363 - val_accuracy: 0.9681\n",
            "Epoch 87/200\n",
            "12/12 [==============================] - 0s 8ms/step - loss: 0.0957 - accuracy: 0.9738 - val_loss: 0.1357 - val_accuracy: 0.9681\n",
            "Epoch 88/200\n",
            "12/12 [==============================] - 0s 7ms/step - loss: 0.0950 - accuracy: 0.9738 - val_loss: 0.1352 - val_accuracy: 0.9681\n",
            "Epoch 89/200\n",
            "12/12 [==============================] - 0s 7ms/step - loss: 0.0943 - accuracy: 0.9738 - val_loss: 0.1346 - val_accuracy: 0.9681\n",
            "Epoch 90/200\n",
            "12/12 [==============================] - 0s 8ms/step - loss: 0.0936 - accuracy: 0.9764 - val_loss: 0.1341 - val_accuracy: 0.9681\n",
            "Epoch 91/200\n",
            "12/12 [==============================] - 0s 8ms/step - loss: 0.0929 - accuracy: 0.9764 - val_loss: 0.1336 - val_accuracy: 0.9734\n",
            "Epoch 92/200\n",
            "12/12 [==============================] - 0s 7ms/step - loss: 0.0922 - accuracy: 0.9764 - val_loss: 0.1331 - val_accuracy: 0.9734\n",
            "Epoch 93/200\n",
            "12/12 [==============================] - 0s 7ms/step - loss: 0.0915 - accuracy: 0.9764 - val_loss: 0.1326 - val_accuracy: 0.9734\n",
            "Epoch 94/200\n",
            "12/12 [==============================] - 0s 9ms/step - loss: 0.0909 - accuracy: 0.9764 - val_loss: 0.1321 - val_accuracy: 0.9734\n",
            "Epoch 95/200\n",
            "12/12 [==============================] - 0s 7ms/step - loss: 0.0903 - accuracy: 0.9764 - val_loss: 0.1317 - val_accuracy: 0.9734\n",
            "Epoch 96/200\n",
            "12/12 [==============================] - 0s 7ms/step - loss: 0.0896 - accuracy: 0.9790 - val_loss: 0.1312 - val_accuracy: 0.9734\n",
            "Epoch 97/200\n",
            "12/12 [==============================] - 0s 7ms/step - loss: 0.0890 - accuracy: 0.9790 - val_loss: 0.1308 - val_accuracy: 0.9734\n",
            "Epoch 98/200\n",
            "12/12 [==============================] - 0s 7ms/step - loss: 0.0884 - accuracy: 0.9790 - val_loss: 0.1303 - val_accuracy: 0.9734\n",
            "Epoch 99/200\n",
            "12/12 [==============================] - 0s 7ms/step - loss: 0.0879 - accuracy: 0.9790 - val_loss: 0.1299 - val_accuracy: 0.9734\n",
            "Epoch 100/200\n",
            "12/12 [==============================] - 0s 7ms/step - loss: 0.0873 - accuracy: 0.9790 - val_loss: 0.1294 - val_accuracy: 0.9734\n",
            "Epoch 101/200\n",
            "12/12 [==============================] - 0s 8ms/step - loss: 0.0867 - accuracy: 0.9790 - val_loss: 0.1291 - val_accuracy: 0.9734\n",
            "Epoch 102/200\n",
            "12/12 [==============================] - 0s 8ms/step - loss: 0.0861 - accuracy: 0.9790 - val_loss: 0.1286 - val_accuracy: 0.9734\n",
            "Epoch 103/200\n",
            "12/12 [==============================] - 0s 9ms/step - loss: 0.0856 - accuracy: 0.9790 - val_loss: 0.1282 - val_accuracy: 0.9734\n",
            "Epoch 104/200\n",
            "12/12 [==============================] - 0s 7ms/step - loss: 0.0850 - accuracy: 0.9816 - val_loss: 0.1279 - val_accuracy: 0.9734\n",
            "Epoch 105/200\n",
            "12/12 [==============================] - 0s 7ms/step - loss: 0.0845 - accuracy: 0.9816 - val_loss: 0.1275 - val_accuracy: 0.9734\n",
            "Epoch 106/200\n",
            "12/12 [==============================] - 0s 7ms/step - loss: 0.0840 - accuracy: 0.9790 - val_loss: 0.1271 - val_accuracy: 0.9734\n",
            "Epoch 107/200\n",
            "12/12 [==============================] - 0s 8ms/step - loss: 0.0834 - accuracy: 0.9790 - val_loss: 0.1267 - val_accuracy: 0.9734\n",
            "Epoch 108/200\n",
            "12/12 [==============================] - 0s 8ms/step - loss: 0.0830 - accuracy: 0.9816 - val_loss: 0.1264 - val_accuracy: 0.9734\n",
            "Epoch 109/200\n",
            "12/12 [==============================] - 0s 7ms/step - loss: 0.0824 - accuracy: 0.9816 - val_loss: 0.1260 - val_accuracy: 0.9734\n",
            "Epoch 110/200\n",
            "12/12 [==============================] - 0s 7ms/step - loss: 0.0820 - accuracy: 0.9816 - val_loss: 0.1257 - val_accuracy: 0.9734\n",
            "Epoch 111/200\n",
            "12/12 [==============================] - 0s 7ms/step - loss: 0.0815 - accuracy: 0.9816 - val_loss: 0.1254 - val_accuracy: 0.9734\n",
            "Epoch 112/200\n",
            "12/12 [==============================] - 0s 8ms/step - loss: 0.0810 - accuracy: 0.9816 - val_loss: 0.1251 - val_accuracy: 0.9734\n",
            "Epoch 113/200\n",
            "12/12 [==============================] - 0s 7ms/step - loss: 0.0805 - accuracy: 0.9816 - val_loss: 0.1247 - val_accuracy: 0.9734\n",
            "Epoch 114/200\n",
            "12/12 [==============================] - 0s 7ms/step - loss: 0.0801 - accuracy: 0.9816 - val_loss: 0.1245 - val_accuracy: 0.9734\n",
            "Epoch 115/200\n",
            "12/12 [==============================] - 0s 7ms/step - loss: 0.0796 - accuracy: 0.9816 - val_loss: 0.1241 - val_accuracy: 0.9734\n",
            "Epoch 116/200\n",
            "12/12 [==============================] - 0s 7ms/step - loss: 0.0792 - accuracy: 0.9816 - val_loss: 0.1238 - val_accuracy: 0.9734\n",
            "Epoch 117/200\n",
            "12/12 [==============================] - 0s 7ms/step - loss: 0.0787 - accuracy: 0.9816 - val_loss: 0.1235 - val_accuracy: 0.9734\n",
            "Epoch 118/200\n",
            "12/12 [==============================] - 0s 7ms/step - loss: 0.0783 - accuracy: 0.9816 - val_loss: 0.1232 - val_accuracy: 0.9734\n",
            "Epoch 119/200\n",
            "12/12 [==============================] - 0s 7ms/step - loss: 0.0779 - accuracy: 0.9816 - val_loss: 0.1229 - val_accuracy: 0.9734\n",
            "Epoch 120/200\n",
            "12/12 [==============================] - 0s 7ms/step - loss: 0.0774 - accuracy: 0.9816 - val_loss: 0.1227 - val_accuracy: 0.9734\n",
            "Epoch 121/200\n",
            "12/12 [==============================] - 0s 8ms/step - loss: 0.0770 - accuracy: 0.9816 - val_loss: 0.1224 - val_accuracy: 0.9734\n",
            "Epoch 122/200\n",
            "12/12 [==============================] - 0s 8ms/step - loss: 0.0766 - accuracy: 0.9816 - val_loss: 0.1221 - val_accuracy: 0.9734\n",
            "Epoch 123/200\n",
            "12/12 [==============================] - 0s 6ms/step - loss: 0.0762 - accuracy: 0.9816 - val_loss: 0.1218 - val_accuracy: 0.9734\n",
            "Epoch 124/200\n",
            "12/12 [==============================] - 0s 7ms/step - loss: 0.0758 - accuracy: 0.9816 - val_loss: 0.1216 - val_accuracy: 0.9734\n",
            "Epoch 125/200\n",
            "12/12 [==============================] - 0s 8ms/step - loss: 0.0754 - accuracy: 0.9816 - val_loss: 0.1214 - val_accuracy: 0.9734\n",
            "Epoch 126/200\n",
            "12/12 [==============================] - 0s 7ms/step - loss: 0.0750 - accuracy: 0.9816 - val_loss: 0.1211 - val_accuracy: 0.9734\n",
            "Epoch 127/200\n",
            "12/12 [==============================] - 0s 8ms/step - loss: 0.0746 - accuracy: 0.9816 - val_loss: 0.1208 - val_accuracy: 0.9734\n",
            "Epoch 128/200\n",
            "12/12 [==============================] - 0s 10ms/step - loss: 0.0743 - accuracy: 0.9816 - val_loss: 0.1206 - val_accuracy: 0.9734\n",
            "Epoch 129/200\n",
            "12/12 [==============================] - 0s 6ms/step - loss: 0.0739 - accuracy: 0.9816 - val_loss: 0.1204 - val_accuracy: 0.9734\n",
            "Epoch 130/200\n",
            "12/12 [==============================] - 0s 7ms/step - loss: 0.0735 - accuracy: 0.9816 - val_loss: 0.1202 - val_accuracy: 0.9734\n",
            "Epoch 131/200\n",
            "12/12 [==============================] - 0s 8ms/step - loss: 0.0731 - accuracy: 0.9816 - val_loss: 0.1199 - val_accuracy: 0.9734\n",
            "Epoch 132/200\n",
            "12/12 [==============================] - 0s 8ms/step - loss: 0.0728 - accuracy: 0.9816 - val_loss: 0.1197 - val_accuracy: 0.9734\n",
            "Epoch 133/200\n",
            "12/12 [==============================] - 0s 7ms/step - loss: 0.0724 - accuracy: 0.9843 - val_loss: 0.1195 - val_accuracy: 0.9734\n",
            "Epoch 134/200\n",
            "12/12 [==============================] - 0s 7ms/step - loss: 0.0721 - accuracy: 0.9843 - val_loss: 0.1192 - val_accuracy: 0.9734\n",
            "Epoch 135/200\n",
            "12/12 [==============================] - 0s 7ms/step - loss: 0.0717 - accuracy: 0.9843 - val_loss: 0.1190 - val_accuracy: 0.9734\n",
            "Epoch 136/200\n",
            "12/12 [==============================] - 0s 8ms/step - loss: 0.0714 - accuracy: 0.9843 - val_loss: 0.1188 - val_accuracy: 0.9734\n",
            "Epoch 137/200\n",
            "12/12 [==============================] - 0s 7ms/step - loss: 0.0710 - accuracy: 0.9843 - val_loss: 0.1186 - val_accuracy: 0.9734\n",
            "Epoch 138/200\n",
            "12/12 [==============================] - 0s 8ms/step - loss: 0.0707 - accuracy: 0.9843 - val_loss: 0.1184 - val_accuracy: 0.9734\n",
            "Epoch 139/200\n",
            "12/12 [==============================] - 0s 7ms/step - loss: 0.0704 - accuracy: 0.9843 - val_loss: 0.1182 - val_accuracy: 0.9734\n",
            "Epoch 140/200\n",
            "12/12 [==============================] - 0s 7ms/step - loss: 0.0701 - accuracy: 0.9843 - val_loss: 0.1180 - val_accuracy: 0.9734\n",
            "Epoch 141/200\n",
            "12/12 [==============================] - 0s 7ms/step - loss: 0.0697 - accuracy: 0.9843 - val_loss: 0.1178 - val_accuracy: 0.9734\n",
            "Epoch 142/200\n",
            "12/12 [==============================] - 0s 7ms/step - loss: 0.0694 - accuracy: 0.9843 - val_loss: 0.1177 - val_accuracy: 0.9734\n",
            "Epoch 143/200\n",
            "12/12 [==============================] - 0s 8ms/step - loss: 0.0691 - accuracy: 0.9843 - val_loss: 0.1175 - val_accuracy: 0.9734\n",
            "Epoch 144/200\n",
            "12/12 [==============================] - 0s 7ms/step - loss: 0.0688 - accuracy: 0.9843 - val_loss: 0.1173 - val_accuracy: 0.9734\n",
            "Epoch 145/200\n",
            "12/12 [==============================] - 0s 8ms/step - loss: 0.0685 - accuracy: 0.9843 - val_loss: 0.1171 - val_accuracy: 0.9734\n",
            "Epoch 146/200\n",
            "12/12 [==============================] - 0s 8ms/step - loss: 0.0682 - accuracy: 0.9843 - val_loss: 0.1169 - val_accuracy: 0.9734\n",
            "Epoch 147/200\n",
            "12/12 [==============================] - 0s 7ms/step - loss: 0.0679 - accuracy: 0.9843 - val_loss: 0.1168 - val_accuracy: 0.9734\n",
            "Epoch 148/200\n",
            "12/12 [==============================] - 0s 9ms/step - loss: 0.0676 - accuracy: 0.9843 - val_loss: 0.1166 - val_accuracy: 0.9734\n",
            "Epoch 149/200\n",
            "12/12 [==============================] - 0s 7ms/step - loss: 0.0673 - accuracy: 0.9843 - val_loss: 0.1165 - val_accuracy: 0.9734\n",
            "Epoch 150/200\n",
            "12/12 [==============================] - 0s 7ms/step - loss: 0.0670 - accuracy: 0.9843 - val_loss: 0.1163 - val_accuracy: 0.9734\n",
            "Epoch 151/200\n",
            "12/12 [==============================] - 0s 7ms/step - loss: 0.0667 - accuracy: 0.9843 - val_loss: 0.1161 - val_accuracy: 0.9734\n",
            "Epoch 152/200\n",
            "12/12 [==============================] - 0s 7ms/step - loss: 0.0664 - accuracy: 0.9843 - val_loss: 0.1159 - val_accuracy: 0.9734\n",
            "Epoch 153/200\n",
            "12/12 [==============================] - 0s 7ms/step - loss: 0.0661 - accuracy: 0.9843 - val_loss: 0.1157 - val_accuracy: 0.9734\n",
            "Epoch 154/200\n",
            "12/12 [==============================] - 0s 7ms/step - loss: 0.0658 - accuracy: 0.9843 - val_loss: 0.1156 - val_accuracy: 0.9734\n",
            "Epoch 155/200\n",
            "12/12 [==============================] - 0s 9ms/step - loss: 0.0655 - accuracy: 0.9843 - val_loss: 0.1154 - val_accuracy: 0.9734\n",
            "Epoch 156/200\n",
            "12/12 [==============================] - 0s 7ms/step - loss: 0.0653 - accuracy: 0.9843 - val_loss: 0.1153 - val_accuracy: 0.9734\n",
            "Epoch 157/200\n",
            "12/12 [==============================] - 0s 7ms/step - loss: 0.0650 - accuracy: 0.9843 - val_loss: 0.1151 - val_accuracy: 0.9734\n",
            "Epoch 158/200\n",
            "12/12 [==============================] - 0s 9ms/step - loss: 0.0647 - accuracy: 0.9843 - val_loss: 0.1150 - val_accuracy: 0.9734\n",
            "Epoch 159/200\n",
            "12/12 [==============================] - 0s 7ms/step - loss: 0.0645 - accuracy: 0.9843 - val_loss: 0.1149 - val_accuracy: 0.9734\n",
            "Epoch 160/200\n",
            "12/12 [==============================] - 0s 7ms/step - loss: 0.0642 - accuracy: 0.9843 - val_loss: 0.1147 - val_accuracy: 0.9734\n",
            "Epoch 161/200\n",
            "12/12 [==============================] - 0s 8ms/step - loss: 0.0639 - accuracy: 0.9843 - val_loss: 0.1146 - val_accuracy: 0.9734\n",
            "Epoch 162/200\n",
            "12/12 [==============================] - 0s 7ms/step - loss: 0.0637 - accuracy: 0.9843 - val_loss: 0.1144 - val_accuracy: 0.9734\n",
            "Epoch 163/200\n",
            "12/12 [==============================] - 0s 7ms/step - loss: 0.0634 - accuracy: 0.9843 - val_loss: 0.1143 - val_accuracy: 0.9734\n",
            "Epoch 164/200\n",
            "12/12 [==============================] - 0s 7ms/step - loss: 0.0632 - accuracy: 0.9843 - val_loss: 0.1142 - val_accuracy: 0.9734\n",
            "Epoch 165/200\n",
            "12/12 [==============================] - 0s 8ms/step - loss: 0.0629 - accuracy: 0.9843 - val_loss: 0.1140 - val_accuracy: 0.9734\n",
            "Epoch 166/200\n",
            "12/12 [==============================] - 0s 7ms/step - loss: 0.0627 - accuracy: 0.9843 - val_loss: 0.1139 - val_accuracy: 0.9734\n",
            "Epoch 167/200\n",
            "12/12 [==============================] - 0s 7ms/step - loss: 0.0624 - accuracy: 0.9843 - val_loss: 0.1137 - val_accuracy: 0.9734\n",
            "Epoch 168/200\n",
            "12/12 [==============================] - 0s 10ms/step - loss: 0.0622 - accuracy: 0.9843 - val_loss: 0.1136 - val_accuracy: 0.9734\n",
            "Epoch 169/200\n",
            "12/12 [==============================] - 0s 7ms/step - loss: 0.0619 - accuracy: 0.9843 - val_loss: 0.1135 - val_accuracy: 0.9734\n",
            "Epoch 170/200\n",
            "12/12 [==============================] - 0s 7ms/step - loss: 0.0617 - accuracy: 0.9843 - val_loss: 0.1134 - val_accuracy: 0.9734\n",
            "Epoch 171/200\n",
            "12/12 [==============================] - 0s 7ms/step - loss: 0.0615 - accuracy: 0.9843 - val_loss: 0.1133 - val_accuracy: 0.9734\n",
            "Epoch 172/200\n",
            "12/12 [==============================] - 0s 8ms/step - loss: 0.0612 - accuracy: 0.9843 - val_loss: 0.1131 - val_accuracy: 0.9734\n",
            "Epoch 173/200\n",
            "12/12 [==============================] - 0s 8ms/step - loss: 0.0610 - accuracy: 0.9843 - val_loss: 0.1130 - val_accuracy: 0.9734\n",
            "Epoch 174/200\n",
            "12/12 [==============================] - 0s 7ms/step - loss: 0.0608 - accuracy: 0.9843 - val_loss: 0.1128 - val_accuracy: 0.9734\n",
            "Epoch 175/200\n",
            "12/12 [==============================] - 0s 7ms/step - loss: 0.0605 - accuracy: 0.9843 - val_loss: 0.1128 - val_accuracy: 0.9734\n",
            "Epoch 176/200\n",
            "12/12 [==============================] - 0s 7ms/step - loss: 0.0603 - accuracy: 0.9843 - val_loss: 0.1126 - val_accuracy: 0.9734\n",
            "Epoch 177/200\n",
            "12/12 [==============================] - 0s 7ms/step - loss: 0.0600 - accuracy: 0.9843 - val_loss: 0.1125 - val_accuracy: 0.9734\n",
            "Epoch 178/200\n",
            "12/12 [==============================] - 0s 7ms/step - loss: 0.0599 - accuracy: 0.9843 - val_loss: 0.1124 - val_accuracy: 0.9734\n",
            "Epoch 179/200\n",
            "12/12 [==============================] - 0s 7ms/step - loss: 0.0596 - accuracy: 0.9843 - val_loss: 0.1123 - val_accuracy: 0.9734\n",
            "Epoch 180/200\n",
            "12/12 [==============================] - 0s 7ms/step - loss: 0.0594 - accuracy: 0.9843 - val_loss: 0.1122 - val_accuracy: 0.9734\n",
            "Epoch 181/200\n",
            "12/12 [==============================] - 0s 7ms/step - loss: 0.0592 - accuracy: 0.9843 - val_loss: 0.1121 - val_accuracy: 0.9734\n",
            "Epoch 182/200\n",
            "12/12 [==============================] - 0s 8ms/step - loss: 0.0590 - accuracy: 0.9843 - val_loss: 0.1120 - val_accuracy: 0.9734\n",
            "Epoch 183/200\n",
            "12/12 [==============================] - 0s 7ms/step - loss: 0.0587 - accuracy: 0.9843 - val_loss: 0.1119 - val_accuracy: 0.9734\n",
            "Epoch 184/200\n",
            "12/12 [==============================] - 0s 8ms/step - loss: 0.0585 - accuracy: 0.9843 - val_loss: 0.1118 - val_accuracy: 0.9734\n",
            "Epoch 185/200\n",
            "12/12 [==============================] - 0s 7ms/step - loss: 0.0583 - accuracy: 0.9843 - val_loss: 0.1117 - val_accuracy: 0.9734\n",
            "Epoch 186/200\n",
            "12/12 [==============================] - 0s 8ms/step - loss: 0.0581 - accuracy: 0.9843 - val_loss: 0.1116 - val_accuracy: 0.9734\n",
            "Epoch 187/200\n",
            "12/12 [==============================] - 0s 8ms/step - loss: 0.0579 - accuracy: 0.9843 - val_loss: 0.1115 - val_accuracy: 0.9734\n",
            "Epoch 188/200\n",
            "12/12 [==============================] - 0s 8ms/step - loss: 0.0577 - accuracy: 0.9843 - val_loss: 0.1114 - val_accuracy: 0.9734\n",
            "Epoch 189/200\n",
            "12/12 [==============================] - 0s 7ms/step - loss: 0.0575 - accuracy: 0.9843 - val_loss: 0.1113 - val_accuracy: 0.9734\n",
            "Epoch 190/200\n",
            "12/12 [==============================] - 0s 7ms/step - loss: 0.0573 - accuracy: 0.9843 - val_loss: 0.1112 - val_accuracy: 0.9734\n",
            "Epoch 191/200\n",
            "12/12 [==============================] - 0s 7ms/step - loss: 0.0571 - accuracy: 0.9843 - val_loss: 0.1111 - val_accuracy: 0.9734\n",
            "Epoch 192/200\n",
            "12/12 [==============================] - 0s 7ms/step - loss: 0.0569 - accuracy: 0.9843 - val_loss: 0.1110 - val_accuracy: 0.9734\n",
            "Epoch 193/200\n",
            "12/12 [==============================] - 0s 7ms/step - loss: 0.0567 - accuracy: 0.9843 - val_loss: 0.1109 - val_accuracy: 0.9734\n",
            "Epoch 194/200\n",
            "12/12 [==============================] - 0s 7ms/step - loss: 0.0565 - accuracy: 0.9843 - val_loss: 0.1108 - val_accuracy: 0.9734\n",
            "Epoch 195/200\n",
            "12/12 [==============================] - 0s 7ms/step - loss: 0.0563 - accuracy: 0.9843 - val_loss: 0.1107 - val_accuracy: 0.9734\n",
            "Epoch 196/200\n",
            "12/12 [==============================] - 0s 11ms/step - loss: 0.0561 - accuracy: 0.9843 - val_loss: 0.1106 - val_accuracy: 0.9734\n",
            "Epoch 197/200\n",
            "12/12 [==============================] - 0s 7ms/step - loss: 0.0559 - accuracy: 0.9843 - val_loss: 0.1105 - val_accuracy: 0.9787\n",
            "Epoch 198/200\n",
            "12/12 [==============================] - 0s 9ms/step - loss: 0.0557 - accuracy: 0.9843 - val_loss: 0.1105 - val_accuracy: 0.9787\n",
            "Epoch 199/200\n",
            "12/12 [==============================] - 0s 7ms/step - loss: 0.0555 - accuracy: 0.9843 - val_loss: 0.1104 - val_accuracy: 0.9787\n",
            "Epoch 200/200\n",
            "12/12 [==============================] - 0s 7ms/step - loss: 0.0553 - accuracy: 0.9843 - val_loss: 0.1103 - val_accuracy: 0.9787\n"
          ]
        }
      ]
    },
    {
      "cell_type": "code",
      "metadata": {
        "id": "HaACKIgY93Ya",
        "outputId": "d1543f2b-5cb6-4586-d3f0-66eae2b938dc",
        "colab": {
          "base_uri": "https://localhost:8080/"
        }
      },
      "source": [
        "# We now evaluate the model\n",
        "\n",
        "print(\"Model1:\")\n",
        "print(\"Train score:\", model.evaluate(X_train, y_train))\n",
        "print(\"Test score:\", model.evaluate(X_test, y_test))\n",
        "\n",
        "print(\"Model2:\")\n",
        "print(\"Train score:\", model2.evaluate(X_train, y_train))\n",
        "print(\"Test score:\", model2.evaluate(X_test, y_test))"
      ],
      "execution_count": 11,
      "outputs": [
        {
          "output_type": "stream",
          "name": "stdout",
          "text": [
            "Model1:\n",
            "12/12 [==============================] - 0s 3ms/step - loss: 0.0443 - accuracy: 0.9895\n",
            "Train score: [0.044274527579545975, 0.9895012974739075]\n",
            "6/6 [==============================] - 0s 3ms/step - loss: 0.1119 - accuracy: 0.9681\n",
            "Test score: [0.11191345751285553, 0.9680851101875305]\n",
            "Model2:\n",
            "12/12 [==============================] - 0s 3ms/step - loss: 0.0552 - accuracy: 0.9843\n",
            "Train score: [0.05519163981080055, 0.9842519760131836]\n",
            "6/6 [==============================] - 0s 4ms/step - loss: 0.1103 - accuracy: 0.9787\n",
            "Test score: [0.11032350361347198, 0.978723406791687]\n"
          ]
        }
      ]
    },
    {
      "cell_type": "code",
      "metadata": {
        "id": "-pyU8jRx-L8L",
        "outputId": "cb2f9f52-4a39-4f66-d685-da5df721eb6a",
        "colab": {
          "base_uri": "https://localhost:8080/",
          "height": 301
        }
      },
      "source": [
        "# The obtained accuracty is about 97% on both the train and test sets, for both models.\n",
        "# We now plot what has been returned by the fit function, as weel as the accuracy.\n",
        "\n",
        "# Plot what's returned by model.fit()\n",
        "plt.plot(r.history['loss'], label='loss')\n",
        "plt.plot(r.history['val_loss'], label='val_loss')\n",
        "plt.title(\"Model1\")\n",
        "plt.legend()"
      ],
      "execution_count": 12,
      "outputs": [
        {
          "output_type": "execute_result",
          "data": {
            "text/plain": [
              "<matplotlib.legend.Legend at 0x7fc6ced60a50>"
            ]
          },
          "metadata": {},
          "execution_count": 12
        },
        {
          "output_type": "display_data",
          "data": {
            "image/png": "[encoded data removed]",
            "text/plain": [
              "<Figure size 432x288 with 1 Axes>"
            ]
          },
          "metadata": {}
        }
      ]
    },
    {
      "cell_type": "code",
      "metadata": {
        "id": "clFkOabM-rVz",
        "outputId": "b36832d5-2fb3-4df5-8e31-13482229297d",
        "colab": {
          "base_uri": "https://localhost:8080/",
          "height": 301
        }
      },
      "source": [
        "plt.plot(r2.history['loss'], label='loss')\n",
        "plt.plot(r2.history['val_loss'], label='val_loss')\n",
        "plt.title(\"Model2\")\n",
        "plt.legend()"
      ],
      "execution_count": 13,
      "outputs": [
        {
          "output_type": "execute_result",
          "data": {
            "text/plain": [
              "<matplotlib.legend.Legend at 0x7fc6cecf2f90>"
            ]
          },
          "metadata": {},
          "execution_count": 13
        },
        {
          "output_type": "display_data",
          "data": {
            "image/png": "[encoded data removed]",
            "text/plain": [
              "<Figure size 432x288 with 1 Axes>"
            ]
          },
          "metadata": {}
        }
      ]
    },
    {
      "cell_type": "code",
      "metadata": {
        "id": "EMeCHj2k-w9Z",
        "outputId": "a2afd51f-032a-4f84-d844-e2360ed76fe2",
        "colab": {
          "base_uri": "https://localhost:8080/",
          "height": 287
        }
      },
      "source": [
        "# Plot the accuracy too\n",
        "plt.plot(r.history['accuracy'], label='acc')\n",
        "plt.plot(r.history['val_accuracy'], label='val_acc')\n",
        "plt.legend()"
      ],
      "execution_count": 14,
      "outputs": [
        {
          "output_type": "execute_result",
          "data": {
            "text/plain": [
              "<matplotlib.legend.Legend at 0x7fc6ce78eb50>"
            ]
          },
          "metadata": {},
          "execution_count": 14
        },
        {
          "output_type": "display_data",
          "data": {
            "image/png": "[encoded data removed]",
            "text/plain": [
              "<Figure size 432x288 with 1 Axes>"
            ]
          },
          "metadata": {}
        }
      ]
    },
    {
      "cell_type": "code",
      "metadata": {
        "id": "6mUiSSCq-7Ce",
        "outputId": "af0d4166-55dc-4124-a105-2d8e58a9b050",
        "colab": {
          "base_uri": "https://localhost:8080/",
          "height": 285
        }
      },
      "source": [
        "\n",
        "plt.plot(r2.history['accuracy'], label='acc')\n",
        "plt.plot(r2.history['val_accuracy'], label='val_acc')\n",
        "plt.legend()"
      ],
      "execution_count": 15,
      "outputs": [
        {
          "output_type": "execute_result",
          "data": {
            "text/plain": [
              "<matplotlib.legend.Legend at 0x7fc7400a5590>"
            ]
          },
          "metadata": {},
          "execution_count": 15
        },
        {
          "output_type": "display_data",
          "data": {
            "image/png": "[encoded data removed]",
            "text/plain": [
              "<Figure size 432x288 with 1 Axes>"
            ]
          },
          "metadata": {}
        }
      ]
    },
    {
      "cell_type": "markdown",
      "metadata": {
        "id": "Th7Ct7-fTqnP"
      },
      "source": [
        "# Part 2 - Making Predictions\n",
        "\n",
        "This code looks at how the previously trained models can be used in order to generate predictions"
      ]
    },
    {
      "cell_type": "code",
      "metadata": {
        "id": "4jjZsDr-Tyd2"
      },
      "source": [
        "# We first want to make a prediction. These values are probabilities\n",
        "Predicted = model2.predict(X_test)"
      ],
      "execution_count": 16,
      "outputs": []
    },
    {
      "cell_type": "code",
      "metadata": {
        "id": "zSvqYPjRUUaA"
      },
      "source": [
        "# To get actual classes, the Prediction values need to be rounded.\n",
        "# The predicted values also need to be flatten, to match the target size (N,)\n",
        "\n",
        "Predicted = np.round(Predicted).flatten()"
      ],
      "execution_count": 17,
      "outputs": []
    },
    {
      "cell_type": "code",
      "metadata": {
        "id": "O8qzV8hIUVoJ",
        "colab": {
          "base_uri": "https://localhost:8080/"
        },
        "outputId": "9cd9f881-edfb-4f0e-fe97-5cc503376900"
      },
      "source": [
        "# Finally, we calculate the accuracy, both manually and using the evaluate function.\n",
        "print(\"Manual calculation:\", np.mean(Predicted==y_test))\n",
        "print(\"Evaluate calculation:\", model2.evaluate(X_test, y_test))"
      ],
      "execution_count": 18,
      "outputs": [
        {
          "output_type": "stream",
          "name": "stdout",
          "text": [
            "Manual calculation: 0.9787234042553191\n",
            "6/6 [==============================] - 0s 3ms/step - loss: 0.1103 - accuracy: 0.9787\n",
            "Evaluate calculation: [0.11032350361347198, 0.978723406791687]\n"
          ]
        }
      ]
    },
    {
      "cell_type": "markdown",
      "metadata": {
        "id": "XESzuZRxWS3L"
      },
      "source": [
        "# Part 3 - Making Predictions\n",
        "\n",
        "This code looks at how the above model can be saved."
      ]
    },
    {
      "cell_type": "code",
      "metadata": {
        "id": "fc_Dx2tzWQUa"
      },
      "source": [
        "model2.save('linear_classification.h5')"
      ],
      "execution_count": 19,
      "outputs": []
    },
    {
      "cell_type": "code",
      "metadata": {
        "id": "9xd6uauEXROE",
        "colab": {
          "base_uri": "https://localhost:8080/"
        },
        "outputId": "921ae06f-9543-43b6-d161-e7a8d232eb3c"
      },
      "source": [
        "# Confirming file stored locally.\n",
        "!ls -lh"
      ],
      "execution_count": 20,
      "outputs": [
        {
          "output_type": "stream",
          "name": "stdout",
          "text": [
            "total 24K\n",
            "-rw-r--r-- 1 root root  19K Feb 19 18:40 linear_classification.h5\n",
            "drwxr-xr-x 1 root root 4.0K Feb  1 14:32 sample_data\n"
          ]
        }
      ]
    },
    {
      "cell_type": "code",
      "metadata": {
        "id": "VLbMYinwXUfv",
        "colab": {
          "base_uri": "https://localhost:8080/"
        },
        "outputId": "356b96ab-a192-4301-9408-12dd46192871"
      },
      "source": [
        "# Let's load the model and confirm that it still works\n",
        "# Note: there is a bug in Keras where load/save only works if you DON'T use the Input() layer explicitly\n",
        "# So, make sure you define the model with ONLY Dense(1, input_shape=(D,))\n",
        "# At least, until the bug is fixed\n",
        "# https://github.com/keras-team/keras/issues/10417\n",
        "\n",
        "model = tf.keras.models.load_model('linear_classification.h5')\n",
        "print(model.layers)\n",
        "model.evaluate(X_test, y_test)"
      ],
      "execution_count": 21,
      "outputs": [
        {
          "output_type": "stream",
          "name": "stdout",
          "text": [
            "[<keras.layers.core.dense.Dense object at 0x7fc740125850>]\n",
            "6/6 [==============================] - 0s 3ms/step - loss: 0.1103 - accuracy: 0.9787\n"
          ]
        },
        {
          "output_type": "execute_result",
          "data": {
            "text/plain": [
              "[0.11032350361347198, 0.978723406791687]"
            ]
          },
          "metadata": {},
          "execution_count": 21
        }
      ]
    },
    {
      "cell_type": "code",
      "metadata": {
        "id": "j0sUcK1bXX1k",
        "colab": {
          "base_uri": "https://localhost:8080/",
          "height": 34
        },
        "outputId": "9632637c-061f-41ab-ae7e-7f4a05f4baea"
      },
      "source": [
        "# Download the file - requires Chrome (at this point)\n",
        "from google.colab import files\n",
        "files.download('linear_classification.h5')"
      ],
      "execution_count": 22,
      "outputs": [
        {
          "output_type": "display_data",
          "data": {
            "application/javascript": [
              "\n",
              "    async function download(id, filename, size) {\n",
              "      if (!google.colab.kernel.accessAllowed) {\n",
              "        return;\n",
              "      }\n",
              "      const div = document.createElement('div');\n",
              "      const label = document.createElement('label');\n",
              "      label.textContent = `Downloading \"${filename}\": `;\n",
              "      div.appendChild(label);\n",
              "      const progress = document.createElement('progress');\n",
              "      progress.max = size;\n",
              "      div.appendChild(progress);\n",
              "      document.body.appendChild(div);\n",
              "\n",
              "      const buffers = [];\n",
              "      let downloaded = 0;\n",
              "\n",
              "      const channel = await google.colab.kernel.comms.open(id);\n",
              "      // Send a message to notify the kernel that we're ready.\n",
              "      channel.send({})\n",
              "\n",
              "      for await (const message of channel.messages) {\n",
              "        // Send a message to notify the kernel that we're ready.\n",
              "        channel.send({})\n",
              "        if (message.buffers) {\n",
              "          for (const buffer of message.buffers) {\n",
              "            buffers.push(buffer);\n",
              "            downloaded += buffer.byteLength;\n",
              "            progress.value = downloaded;\n",
              "          }\n",
              "        }\n",
              "      }\n",
              "      const blob = new Blob(buffers, {type: 'application/binary'});\n",
              "      const a = document.createElement('a');\n",
              "      a.href = window.URL.createObjectURL(blob);\n",
              "      a.download = filename;\n",
              "      div.appendChild(a);\n",
              "      a.click();\n",
              "      div.remove();\n",
              "    }\n",
              "  "
            ],
            "text/plain": [
              "<IPython.core.display.Javascript object>"
            ]
          },
          "metadata": {}
        },
        {
          "output_type": "display_data",
          "data": {
            "application/javascript": [
              "download(\"download_b2476ab6-aec8-4287-9662-cfd9f52ded5b\", \"linear_classification.h5\", 19312)"
            ],
            "text/plain": [
              "<IPython.core.display.Javascript object>"
            ]
          },
          "metadata": {}
        }
      ]
    },
    {
      "cell_type": "code",
      "metadata": {
        "id": "IT_2rqs3Xf0t"
      },
      "source": [
        ""
      ],
      "execution_count": null,
      "outputs": []
    }
  ]
}